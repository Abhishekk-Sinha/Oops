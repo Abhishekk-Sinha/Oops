{
  "nbformat": 4,
  "nbformat_minor": 0,
  "metadata": {
    "colab": {
      "provenance": []
    },
    "kernelspec": {
      "name": "python3",
      "display_name": "Python 3"
    },
    "language_info": {
      "name": "python"
    }
  },
  "cells": [
    {
      "cell_type": "markdown",
      "source": [
        "Constructor:\n",
        "- 1. What is a constructor in Python? Explain its purpose and usage.\n"
      ],
      "metadata": {
        "id": "-8nTMXwaefAM"
      }
    },
    {
      "cell_type": "markdown",
      "source": [
        "- In Python, a constructor is a special method within a class that is automatically called when an object of that class is instantiated (i.e., created). It typically has the name __init__().\n",
        "- The purpose of a constructor is to initialize the newly created object's attributes or perform any necessary setup tasks. This allows you to ensure that every instance of the class starts with the appropriate initial state.\n"
      ],
      "metadata": {
        "id": "3CXPB42wtrEa"
      }
    },
    {
      "cell_type": "code",
      "source": [
        "class Car:\n",
        "    def __init__(self, make, model, year):\n",
        "        self.make = make\n",
        "        self.model = model\n",
        "        self.year = year\n",
        "\n",
        "# Creating an instance of the Car class\n",
        "my_car = Car(\"Toyota\", \"Camry\", 2022)\n",
        "\n",
        "# Accessing attributes of the instance\n",
        "print(my_car.make)\n",
        "print(my_car.model)\n",
        "print(my_car.year)\n"
      ],
      "metadata": {
        "colab": {
          "base_uri": "https://localhost:8080/"
        },
        "id": "X97zpQ0WuKq9",
        "outputId": "9980dde1-cea5-43ba-8cb7-6542b5e728aa"
      },
      "execution_count": null,
      "outputs": [
        {
          "output_type": "stream",
          "name": "stdout",
          "text": [
            "Toyota\n",
            "Camry\n",
            "2022\n"
          ]
        }
      ]
    },
    {
      "cell_type": "code",
      "source": [],
      "metadata": {
        "id": "N3JJpjqqepa7"
      },
      "execution_count": null,
      "outputs": []
    },
    {
      "cell_type": "markdown",
      "source": [
        "2. Differentiate between a parameterless constructor and a parameterized constructor in Python.\n"
      ],
      "metadata": {
        "id": "MTlz-vWiepuB"
      }
    },
    {
      "cell_type": "markdown",
      "source": [
        "Parameterized Constructor:\n",
        "\n",
        "- A parameterized constructor takes one or more parameters in addition to self.\n",
        "- It's defined with the __init__() method with one or more parameters besides self.\n",
        "- It's used when the initialization of an object requires specific values to be passed during object creation."
      ],
      "metadata": {
        "id": "Sv24FDyZvQ3n"
      }
    },
    {
      "cell_type": "code",
      "source": [
        "class MyClass:\n",
        "    def __init__(self, param1, param2):\n",
        "        self.param1 = param1\n",
        "        self.param2 = param2\n",
        "        print(\"Parameterized constructor called\")\n",
        "\n",
        "obj = MyClass(10, \"Hello\")\n"
      ],
      "metadata": {
        "colab": {
          "base_uri": "https://localhost:8080/"
        },
        "id": "ztq5Ty-MersW",
        "outputId": "f397d0db-4d24-48c0-98e3-fd8ad6250a23"
      },
      "execution_count": null,
      "outputs": [
        {
          "output_type": "stream",
          "name": "stdout",
          "text": [
            "Parameterized constructor called\n"
          ]
        }
      ]
    },
    {
      "cell_type": "markdown",
      "source": [
        "Parameterless Constructor:\n",
        "\n",
        "- A parameterless constructor, also known as a default constructor, doesn't take any parameters.\n",
        "- It's defined with the __init__() method without any additional parameters besides self.\n",
        "- It's used when the initialization of an object doesn't require any external input values.\n",
        "- If no constructor is defined explicitly in a class, Python automatically provides a default constructor that doesn't take any parameters."
      ],
      "metadata": {
        "id": "PHxBnNpawJn1"
      }
    },
    {
      "cell_type": "code",
      "source": [
        "class MyClass:\n",
        "    def __init__(self):\n",
        "        print(\"Parameterless constructor called\")\n",
        "\n",
        "obj = MyClass()  # Output: Parameterless constructor called\n"
      ],
      "metadata": {
        "colab": {
          "base_uri": "https://localhost:8080/"
        },
        "id": "LWfszVcMwa28",
        "outputId": "fbed4633-01c6-42d5-d763-0c31379b7d53"
      },
      "execution_count": null,
      "outputs": [
        {
          "output_type": "stream",
          "name": "stdout",
          "text": [
            "Parameterless constructor called\n"
          ]
        }
      ]
    },
    {
      "cell_type": "markdown",
      "source": [
        "3. How do you define a constructor in a Python class? Provide an example.\n"
      ],
      "metadata": {
        "id": "53GrmWyHer5o"
      }
    },
    {
      "cell_type": "markdown",
      "source": [
        "- To define a constructor in a Python class, we use a special method called __init__(). This method gets called automatically when you create an instance of the class."
      ],
      "metadata": {
        "id": "uOhwgcOgw9SB"
      }
    },
    {
      "cell_type": "code",
      "source": [
        "class MyClass:\n",
        "    def __init__(self, param1, param2):\n",
        "        self.param1 = param1\n",
        "        self.param2 = param2\n",
        "        print(\"Constructor called with parameters:\", param1, param2)\n",
        "\n",
        "# Creating an instance of the class\n",
        "obj = MyClass(10, \"Hello\")\n"
      ],
      "metadata": {
        "colab": {
          "base_uri": "https://localhost:8080/"
        },
        "id": "9D0wPjBbxEyP",
        "outputId": "66e0d9b4-83d3-4450-f0f4-99fb07893881"
      },
      "execution_count": null,
      "outputs": [
        {
          "output_type": "stream",
          "name": "stdout",
          "text": [
            "Constructor called with parameters: 10 Hello\n"
          ]
        }
      ]
    },
    {
      "cell_type": "code",
      "source": [],
      "metadata": {
        "id": "diW0ug3_etnc"
      },
      "execution_count": null,
      "outputs": []
    },
    {
      "cell_type": "markdown",
      "source": [
        "4. Explain the `__init__` method in Python and its role in constructors.\n"
      ],
      "metadata": {
        "id": "lfSzdbqCet38"
      }
    },
    {
      "cell_type": "markdown",
      "source": [
        " - The __init__() method is a special method used to initialize objects (instances) of a class. It's commonly referred to as the constructor method because it gets called automatically when you create an instance of the class. The __init__() method is used to perform any necessary setup or initialization tasks for the object.\n",
        "\n",
        " - Initialization: The primary role of the __init__() method is to initialize the attributes (variables) of the object to appropriate values. These attributes represent the state of the object and define its properties.\n",
        "\n",
        "- Automatic Invocation: When you create an instance of a class using the class name followed by parentheses, Python automatically calls the __init__() method of that class to initialize the newly created object.\n",
        "\n",
        "- Parameters: The __init__() method can take parameters in addition to the standard self parameter, allowing you to pass initial values to the object during its creation. These parameters are typically used to set initial values for the object's attributes.\n",
        "\n",
        "- Attribute Assignment: Inside the __init__() method, you typically assign values to the object's attributes using the self keyword. This makes the attributes accessible throughout the class and to external code that interacts with the object."
      ],
      "metadata": {
        "id": "lRzs9VAixVwJ"
      }
    },
    {
      "cell_type": "code",
      "source": [
        "class MyClass:\n",
        "    def __init__(self, param1, param2):\n",
        "        self.param1 = param1\n",
        "        self.param2 = param2\n",
        "\n",
        "# Creating an instance of the class\n",
        "obj = MyClass(10, \"Hello\")\n",
        "\n",
        "# Accessing attributes of the object\n",
        "print(obj.param1)\n",
        "print(obj.param2)\n"
      ],
      "metadata": {
        "colab": {
          "base_uri": "https://localhost:8080/"
        },
        "id": "yVtcoDVlevvg",
        "outputId": "dd880354-2c28-445e-bcca-f4f95101f919"
      },
      "execution_count": null,
      "outputs": [
        {
          "output_type": "stream",
          "name": "stdout",
          "text": [
            "10\n",
            "Hello\n"
          ]
        }
      ]
    },
    {
      "cell_type": "markdown",
      "source": [
        "5. In a class named `Person`, create a constructor that initializes the `name` and `age` attributes. Provide an\n",
        "example of creating an object of this class.\n"
      ],
      "metadata": {
        "id": "4zuO_r2oewTw"
      }
    },
    {
      "cell_type": "markdown",
      "source": [
        "In Python, the __init__ method is a special method within a class that serves as a constructor. It gets automatically invoked when an object of the class is instantiated. The primary role of the __init__ method is to initialize the object's attributes or perform any necessary setup tasks."
      ],
      "metadata": {
        "id": "7qwLzzbuy_bl"
      }
    },
    {
      "cell_type": "code",
      "source": [
        "class Person:\n",
        "    def __init__(self, name, age):\n",
        "        self.name = name\n",
        "        self.age = age\n"
      ],
      "metadata": {
        "id": "nbQvZQ3JeyUi"
      },
      "execution_count": null,
      "outputs": []
    },
    {
      "cell_type": "code",
      "source": [
        "# Creating an object of the Person class\n",
        "person1 = Person(\"Alice\", 30)\n",
        "\n",
        "# Accessing attributes of the object\n",
        "print(person1.name)  # Output: Alice\n",
        "print(person1.age)   # Output: 30\n"
      ],
      "metadata": {
        "colab": {
          "base_uri": "https://localhost:8080/"
        },
        "id": "zxNnMjHezHxv",
        "outputId": "dd507c49-d34b-4851-9b34-ab1af8f6cfd3"
      },
      "execution_count": null,
      "outputs": [
        {
          "output_type": "stream",
          "name": "stdout",
          "text": [
            "Alice\n",
            "30\n"
          ]
        }
      ]
    },
    {
      "cell_type": "markdown",
      "source": [
        "6. How can you call a constructor explicitly in Python? Give an example.\n"
      ],
      "metadata": {
        "id": "nrrXi-MIeyia"
      }
    },
    {
      "cell_type": "markdown",
      "source": [
        "In Python, you typically don't call a constructor explicitly. Instead, it's automatically called when you create an instance of a class using the class name followed by parentheses containing any required arguments. However, you can indirectly call a constructor by creating an instance of the class."
      ],
      "metadata": {
        "id": "mHlbXzd-zS4N"
      }
    },
    {
      "cell_type": "code",
      "source": [
        "class MyClass:\n",
        "    def __init__(self, value):\n",
        "        self.value = value\n",
        "        print(\"Constructor called with value:\", value)\n",
        "\n",
        "# Creating an instance of the class invokes the constructor\n",
        "obj = MyClass(10)\n"
      ],
      "metadata": {
        "colab": {
          "base_uri": "https://localhost:8080/"
        },
        "id": "FUSQYm63zdcx",
        "outputId": "b2f05dc8-5815-4f40-9072-756e23f28fca"
      },
      "execution_count": null,
      "outputs": [
        {
          "output_type": "stream",
          "name": "stdout",
          "text": [
            "Constructor called with value: 10\n"
          ]
        }
      ]
    },
    {
      "cell_type": "markdown",
      "source": [
        "- In this example, the constructor __init__ is automatically called when the instance obj of the MyClass class is created. The line obj = MyClass(10) implicitly calls the constructor with the value 10.\n",
        "\n",
        "- Technically, you could call the constructor explicitly by using the class name and __init__ method like any other method, but it's not the typical approach and is generally discouraged:"
      ],
      "metadata": {
        "id": "2rAD57DUzkEW"
      }
    },
    {
      "cell_type": "code",
      "source": [
        "# Calling the constructor explicitly (not recommended)\n",
        "obj = MyClass.__init__(MyClass, 10)\n"
      ],
      "metadata": {
        "colab": {
          "base_uri": "https://localhost:8080/"
        },
        "id": "mDcnwbd-e0Lk",
        "outputId": "db629dfe-43b9-4858-8ad7-c4daeeecd42d"
      },
      "execution_count": null,
      "outputs": [
        {
          "output_type": "stream",
          "name": "stdout",
          "text": [
            "Constructor called with value: 10\n"
          ]
        }
      ]
    },
    {
      "cell_type": "markdown",
      "source": [
        "7. What is the significance of the `self` parameter in Python constructors? Explain with an example.\n"
      ],
      "metadata": {
        "id": "PDP0Gpmge0b6"
      }
    },
    {
      "cell_type": "markdown",
      "source": [
        "In Python constructors, the self parameter is a reference to the instance of the class. It's used to access and manipulate attributes and methods within the class. When defining methods in a class, including the constructor, you need to include self as the first parameter."
      ],
      "metadata": {
        "id": "lueefBuo0EdC"
      }
    },
    {
      "cell_type": "code",
      "source": [
        "class Person:\n",
        "    def __init__(self, name, age):\n",
        "        self.name = name\n",
        "        self.age = age\n",
        "\n",
        "    def display_info(self):\n",
        "        print(\"Name:\", self.name)\n",
        "        print(\"Age:\", self.age)\n",
        "\n",
        "# Creating an instance of the Person class\n",
        "person1 = Person(\"Alice\", 30)\n",
        "\n",
        "# Accessing attributes and calling methods using the instance\n",
        "person1.display_info()\n"
      ],
      "metadata": {
        "colab": {
          "base_uri": "https://localhost:8080/"
        },
        "id": "OKo6oQkxe1-b",
        "outputId": "581f3670-90e3-4d28-cc95-ccb2e151c89b"
      },
      "execution_count": null,
      "outputs": [
        {
          "output_type": "stream",
          "name": "stdout",
          "text": [
            "Name: Alice\n",
            "Age: 30\n"
          ]
        }
      ]
    },
    {
      "cell_type": "markdown",
      "source": [
        "8. Discuss the concept of default constructors in Python. When are they used?\n"
      ],
      "metadata": {
        "id": "Ik5V5r6ue2OW"
      }
    },
    {
      "cell_type": "markdown",
      "source": [
        "- In Python, if a class does not explicitly define a constructor (the __init__ method), Python provides a default constructor automatically. This default constructor doesn't take any parameters and doesn't perform any initialization tasks unless explicitly defined. It serves as a fallback when a custom constructor is not provided in the class.\n",
        "\n",
        "- When a class doesn't define a custom constructor: If a class doesn't have an __init__ method defined, Python automatically provides a default constructor. This default constructor initializes the newly created object without performing any specific initialization tasks.\n",
        "\n",
        "Example:"
      ],
      "metadata": {
        "id": "TlfYswiE0eNO"
      }
    },
    {
      "cell_type": "code",
      "source": [
        "class MyClass:\n",
        "    pass\n",
        "\n",
        "obj = MyClass()  # Default constructor called implicitly\n"
      ],
      "metadata": {
        "id": "KZxhKoZte31p"
      },
      "execution_count": null,
      "outputs": []
    },
    {
      "cell_type": "markdown",
      "source": [
        "When subclasses don't override the constructor of the parent class: If a subclass doesn't provide its own constructor, it inherits the default constructor from its parent class.\n",
        "\n",
        "Example:"
      ],
      "metadata": {
        "id": "nx427jN70v1d"
      }
    },
    {
      "cell_type": "code",
      "source": [
        "class Parent:\n",
        "    def __init__(self):\n",
        "        print(\"Parent's constructor\")\n",
        "\n",
        "class Child(Parent):\n",
        "    pass\n",
        "\n",
        "obj = Child()  # Child class inherits and implicitly calls the default constructor from Parent class\n"
      ],
      "metadata": {
        "colab": {
          "base_uri": "https://localhost:8080/"
        },
        "id": "V00ZKfUh04WH",
        "outputId": "f05e1714-2da4-405b-b99d-1dbd6dc44ce6"
      },
      "execution_count": null,
      "outputs": [
        {
          "output_type": "stream",
          "name": "stdout",
          "text": [
            "Parent's constructor\n"
          ]
        }
      ]
    },
    {
      "cell_type": "markdown",
      "source": [
        "When subclass constructor explicitly calls the parent class constructor: If a subclass overrides the constructor but doesn't call the parent class constructor explicitly, Python's default constructor for the parent class is implicitly called.\n",
        "\n",
        "Example:"
      ],
      "metadata": {
        "id": "EFSeTJfX09JK"
      }
    },
    {
      "cell_type": "code",
      "source": [
        "class Parent:\n",
        "    def __init__(self):\n",
        "        print(\"Parent's constructor\")\n",
        "\n",
        "class Child(Parent):\n",
        "    def __init__(self):\n",
        "        print(\"Child's constructor\")\n",
        "\n",
        "obj = Child()  # Parent class's default constructor is called implicitly\n"
      ],
      "metadata": {
        "colab": {
          "base_uri": "https://localhost:8080/"
        },
        "id": "V_jJo3eJ0_4B",
        "outputId": "9763e969-c563-4b6f-c4a0-5e99f84080f7"
      },
      "execution_count": null,
      "outputs": [
        {
          "output_type": "stream",
          "name": "stdout",
          "text": [
            "Child's constructor\n"
          ]
        }
      ]
    },
    {
      "cell_type": "markdown",
      "source": [
        "9. Create a Python class called `Rectangle` with a constructor that initializes the `width` and `height`\n",
        "attributes. Provide a method to calculate the area of the rectangle.\n"
      ],
      "metadata": {
        "id": "TO-rRsMYe4DF"
      }
    },
    {
      "cell_type": "code",
      "source": [
        "class Rectangle:\n",
        "  def __init__(self, width, height):\n",
        "    self.width = width\n",
        "    self.height = height\n",
        "\n",
        "  def calculate_area(self):\n",
        "    return self.width * self.height\n",
        "\n",
        "\n",
        "# Creating an instance of the Rectangle class\n",
        "rectangle = Rectangle(5, 3)\n",
        "\n",
        "# Calculating the area of the rectangle\n",
        "area = rectangle.calculate_area()\n",
        "print(\"Area of the rectangle: \", area)"
      ],
      "metadata": {
        "colab": {
          "base_uri": "https://localhost:8080/"
        },
        "id": "r9s3zTMte5nw",
        "outputId": "fc7d9e16-a320-4549-fd58-e99fb625ca8d"
      },
      "execution_count": null,
      "outputs": [
        {
          "output_type": "stream",
          "name": "stdout",
          "text": [
            "Area of the rectangle:  15\n"
          ]
        }
      ]
    },
    {
      "cell_type": "markdown",
      "source": [
        "10. How can you have multiple constructors in a Python class? Explain with an example.\n"
      ],
      "metadata": {
        "id": "JceqT64Ee52K"
      }
    },
    {
      "cell_type": "markdown",
      "source": [
        "- In Python, we cannot have multiple constructors in the same way you might in some other programming languages like Java or C++. However, you can achieve similar functionality using techniques such as default parameter values or class methods.\n",
        "\n",
        "\n",
        "- Using Default Parameter Values:\n",
        "\n",
        "We can define default values for parameters in the constructor, allowing you to create objects with different sets of arguments.\n",
        "\n",
        "Example:"
      ],
      "metadata": {
        "id": "tX8BJq6E2GFI"
      }
    },
    {
      "cell_type": "code",
      "source": [
        "class Rectangle:\n",
        "    def __init__(self, width=None, height=None):\n",
        "        if width is None and height is None:\n",
        "            # Default constructor\n",
        "            self.width = 0\n",
        "            self.height = 0\n",
        "        else:\n",
        "            self.width = width\n",
        "            if height is None:\n",
        "              height = 0\n",
        "            self.height = height\n",
        "\n",
        "    def calculate_area(self):\n",
        "        return self.width * self.height\n",
        "\n",
        "# Creating objects using different constructors\n",
        "rectangle1 = Rectangle()            # Default constructor with width and height set to 0\n",
        "rectangle2 = Rectangle(5, 3)        # Constructor with specified width and height\n",
        "rectangle3 = Rectangle(width=4)     # Constructor with only width specified\n",
        "\n",
        "print(\"Area of rectangle1:\", rectangle1.calculate_area())\n",
        "print(\"Area of rectangle2:\", rectangle2.calculate_area())\n",
        "print(\"Area of rectangle3:\", rectangle3.calculate_area())\n"
      ],
      "metadata": {
        "colab": {
          "base_uri": "https://localhost:8080/"
        },
        "id": "S4tPsUtSe7pZ",
        "outputId": "0e7cefed-4da0-4e15-c731-0e34283ece44"
      },
      "execution_count": null,
      "outputs": [
        {
          "output_type": "stream",
          "name": "stdout",
          "text": [
            "Area of rectangle1: 0\n",
            "Area of rectangle2: 15\n",
            "Area of rectangle3: 0\n"
          ]
        }
      ]
    },
    {
      "cell_type": "markdown",
      "source": [
        "11. What is method overloading, and how is it related to constructors in Python?\n"
      ],
      "metadata": {
        "id": "5UNlN_FOe751"
      }
    },
    {
      "cell_type": "markdown",
      "source": [
        "- Method overloading is a concept in object-oriented programming where multiple methods with the same name but different parameters or different numbers of parameters are defined within a class. Python, unlike some other programming languages like Java or C++, does not support method overloading in the traditional sense.\n",
        "- In Python, you can't have multiple methods with the same name but different signatures (i.e., different parameters). However, you can achieve similar behavior using default parameter values or variable-length argument lists.\n",
        "- When it comes to constructors in Python, since the language doesn't support method overloading in the traditional sense, you typically achieve the functionality of having multiple constructors by using default parameter values or by using class methods as alternative constructors."
      ],
      "metadata": {
        "id": "8i98acsm7jZL"
      }
    },
    {
      "cell_type": "code",
      "source": [
        "class MyClass:\n",
        "    def __init__(self, param1, param2=None):\n",
        "        if param2 is None:\n",
        "            self.constructor1(param1)\n",
        "        else:\n",
        "            self.constructor2(param1, param2)\n",
        "\n",
        "    def constructor1(self, param1):\n",
        "        print(\"Constructor 1 called with param1:\", param1)\n",
        "\n",
        "    def constructor2(self, param1, param2):\n",
        "        print(\"Constructor 2 called with param1:\", param1, \"and param2:\", param2)\n",
        "\n",
        "# Using the first constructor\n",
        "obj1 = MyClass(\"Value1\")\n",
        "\n",
        "# Using the second constructor\n",
        "obj2 = MyClass(\"Value1\", \"Value2\")\n"
      ],
      "metadata": {
        "colab": {
          "base_uri": "https://localhost:8080/"
        },
        "id": "8wQJ2Ghxe9cD",
        "outputId": "b361f7b2-1485-4467-e02c-431c316563f6"
      },
      "execution_count": null,
      "outputs": [
        {
          "output_type": "stream",
          "name": "stdout",
          "text": [
            "Constructor 1 called with param1: Value1\n",
            "Constructor 2 called with param1: Value1 and param2: Value2\n"
          ]
        }
      ]
    },
    {
      "cell_type": "markdown",
      "source": [
        "Alternatively, you can use class methods as alternative constructors:"
      ],
      "metadata": {
        "id": "RyR1I8lT8wEu"
      }
    },
    {
      "cell_type": "code",
      "source": [
        "class MyClass:\n",
        "    def __init__(self, param1, param2):\n",
        "        self.param1 = param1\n",
        "        self.param2 = param2\n",
        "\n",
        "    @classmethod\n",
        "    def from_single_param(cls, param1):\n",
        "        return cls(param1, \"default_value\")\n",
        "\n",
        "# Using the class method as an alternative constructor\n",
        "obj = MyClass.from_single_param(\"Value1\")\n"
      ],
      "metadata": {
        "id": "KUa5q2MM8w2K"
      },
      "execution_count": null,
      "outputs": []
    },
    {
      "cell_type": "markdown",
      "source": [
        "12. Explain the use of the `super()` function in Python constructors. Provide an example.\n"
      ],
      "metadata": {
        "id": "LKBVdiWEe9p1"
      }
    },
    {
      "cell_type": "markdown",
      "source": [
        "In Python, the super() function is used to call methods of the parent class (also known as the superclass or base class) from within a subclass. When working with constructors, super() allows you to invoke the constructor of the parent class from within the constructor of the subclass. This is useful when you want to extend the functionality of the parent class's constructor in the subclass without duplicating code."
      ],
      "metadata": {
        "id": "ThU1FQvI9APM"
      }
    },
    {
      "cell_type": "code",
      "source": [
        "class Parent:\n",
        "    def __init__(self, parent_param):\n",
        "        self.parent_param = parent_param\n",
        "        print(\"Parent constructor called with parameter:\", parent_param)\n",
        "\n",
        "class Child(Parent):\n",
        "    def __init__(self, parent_param, child_param):\n",
        "        super().__init__(parent_param)\n",
        "        self.child_param = child_param\n",
        "        print(\"Child constructor called with parameter:\", child_param)\n",
        "\n",
        "# Creating an instance of the Child class\n",
        "child_obj = Child(\"Parent parameter\", \"Child parameter\")\n"
      ],
      "metadata": {
        "colab": {
          "base_uri": "https://localhost:8080/"
        },
        "id": "o8FO7Lqh9Cd0",
        "outputId": "15ce7716-9238-4682-8f42-ccf926052414"
      },
      "execution_count": null,
      "outputs": [
        {
          "output_type": "stream",
          "name": "stdout",
          "text": [
            "Parent constructor called with parameter: Parent parameter\n",
            "Child constructor called with parameter: Child parameter\n"
          ]
        }
      ]
    },
    {
      "cell_type": "markdown",
      "source": [
        "- Using super() ensures that the initialization logic defined in the parent class's constructor is executed before any additional initialization logic defined in the subclass's constructor. This promotes code reuse and maintains a clear hierarchy in class inheritance.\n",
        "\n",
        "\n",
        "\n",
        "\n"
      ],
      "metadata": {
        "id": "b1SyIlHo9Pdc"
      }
    },
    {
      "cell_type": "code",
      "source": [],
      "metadata": {
        "id": "2gLtdO4ue_Nh"
      },
      "execution_count": null,
      "outputs": []
    },
    {
      "cell_type": "markdown",
      "source": [
        "13. Create a class called `Book` with a constructor that initializes the `title`, `author`, and `published_year`\n",
        "attributes. Provide a method to display book details.\n"
      ],
      "metadata": {
        "id": "VAKcaESde_bO"
      }
    },
    {
      "cell_type": "code",
      "source": [
        "class Book:\n",
        "    def __init__(self, title, author, published_year):\n",
        "        self.title = title\n",
        "        self.author = author\n",
        "        self.published_year = published_year\n",
        "\n",
        "    def display_details(self):\n",
        "        print(\"Title:\", self.title)\n",
        "        print(\"Author:\", self.author)\n",
        "        print(\"Published Year:\", self.published_year)\n",
        "\n",
        "# Creating an instance of the Book class\n",
        "book1 = Book(\"Python Programming\", \"John Smith\", 2020)\n",
        "\n",
        "# Displaying book details\n",
        "book1.display_details()\n"
      ],
      "metadata": {
        "colab": {
          "base_uri": "https://localhost:8080/"
        },
        "id": "WDXghmT-fBRP",
        "outputId": "c09088da-5b7e-4f6c-e786-be4b713362a0"
      },
      "execution_count": null,
      "outputs": [
        {
          "output_type": "stream",
          "name": "stdout",
          "text": [
            "Title: Python Programming\n",
            "Author: John Smith\n",
            "Published Year: 2020\n"
          ]
        }
      ]
    },
    {
      "cell_type": "markdown",
      "source": [
        "14. Discuss the differences between constructors and regular methods in Python classes.\n"
      ],
      "metadata": {
        "id": "mV7LcpcXfBks"
      }
    },
    {
      "cell_type": "markdown",
      "source": [
        "- Constructors and regular methods in Python classes serve different purposes and have distinct characteristics. Here are the key differences between them:\n",
        "\n",
        "- Purpose:\n",
        "    - Constructors: Constructors are special methods used for initializing objects of a class. They are automatically called when an object is created.\n",
        "    - Regular methods: Regular methods perform specific tasks or operations on the object's attributes. They are called explicitly on the object.\n",
        "\n",
        "\n",
        "- Invocation:\n",
        "    - Constructors: Constructors are automatically invoked when an object of the class is created using the class name followed by parentheses.\n",
        "    - Regular methods: Regular methods are called explicitly on the object using dot notation (object.method()).\n",
        "\n",
        "- Name:\n",
        "    - Constructors: Constructors are typically named __init__() in Python classes, although you can technically name them differently.\n",
        "    - Regular methods: Regular methods can have any valid name as long as it follows the naming conventions for Python identifiers.\n",
        "\n",
        "\n",
        "- Parameters:\n",
        "    - Constructors: Constructors may accept parameters to initialize the object's attributes. The first parameter conventionally is self, followed by any additional parameters.\n",
        "    - Regular methods: Regular methods may or may not accept parameters, depending on the specific task they perform.\n",
        "\n",
        "\n",
        "- Return Value:\n",
        "    - Constructors: Constructors do not return any value explicitly. Their primary purpose is to initialize object attributes.\n",
        "    - Regular methods: Regular methods may return a value if specified using the return statement.\n",
        "\n",
        "\n",
        "- Usage:\n",
        "    - Constructors: Constructors are used to initialize the object's state, set up initial values, and perform any necessary setup tasks.\n",
        "    - Regular methods: Regular methods perform various operations or tasks on the object's attributes. They encapsulate behaviors associated with the object."
      ],
      "metadata": {
        "id": "7qONbeUl_c8l"
      }
    },
    {
      "cell_type": "code",
      "source": [
        "class MyClass:\n",
        "    def __init__(self, param):\n",
        "        self.param = param\n",
        "\n",
        "    def regular_method(self):\n",
        "        print(\"Regular method called with param:\", self.param)\n",
        "\n",
        "# Creating an object of the class\n",
        "obj = MyClass(\"value\")\n",
        "\n",
        "# Constructor __init__() automatically called\n",
        "print(\"Object created with param:\", obj.param)\n",
        "\n",
        "# Calling regular method explicitly\n",
        "obj.regular_method()\n"
      ],
      "metadata": {
        "colab": {
          "base_uri": "https://localhost:8080/"
        },
        "id": "YqYv5fFafDLn",
        "outputId": "d8e0e216-6d1c-41ea-851c-06e2c47044b1"
      },
      "execution_count": null,
      "outputs": [
        {
          "output_type": "stream",
          "name": "stdout",
          "text": [
            "Object created with param: value\n",
            "Regular method called with param: value\n"
          ]
        }
      ]
    },
    {
      "cell_type": "markdown",
      "source": [
        "15. Explain the role of the `self` parameter in instance variable initialization within a constructor.\n"
      ],
      "metadata": {
        "id": "rCWCFXypfDZj"
      }
    },
    {
      "cell_type": "markdown",
      "source": [
        "\n",
        "- In Python, the self parameter in a constructor (or any method within a class) serves as a reference to the instance of the class itself. It allows you to access and modify the attributes and methods of the object within the class definition.\n",
        "\n",
        "- In the context of instance variable initialization within a constructor, self is used to bind the instance variables to the instance of the class. When you define instance variables within the constructor and assign values to them using self, you're essentially initializing attributes for that particular instance of the class."
      ],
      "metadata": {
        "id": "__GIGoROBCih"
      }
    },
    {
      "cell_type": "code",
      "source": [
        "class MyClass:\n",
        "    def __init__(self, param1, param2):\n",
        "        self.param1 = param1\n",
        "        self.param2 = param2\n",
        "\n",
        "# Creating an instance of MyClass\n",
        "obj = MyClass(\"value1\", \"value2\")\n"
      ],
      "metadata": {
        "id": "qZpmzZLifFB3"
      },
      "execution_count": null,
      "outputs": []
    },
    {
      "cell_type": "markdown",
      "source": [
        "- In the constructor __init__(), self.param1 = param1 initializes an instance variable param1 with the value of the param1 parameter passed during object creation.\n",
        "- Similarly, self.param2 = param2 initializes another instance variable param2 with the value of the param2 parameter passed during object creation.\n",
        "- The self keyword ensures that the instance variables param1 and param2 are bound to the instance of the class (obj in this case), making them accessible throughout the class.\n",
        "- Without self, the variables param1 and param2 would only exist within the scope of the constructor and would not be accessible outside it or to other methods within the class."
      ],
      "metadata": {
        "id": "ddFBvxHUBrc6"
      }
    },
    {
      "cell_type": "markdown",
      "source": [
        "16. How do you prevent a class from having multiple instances by using constructors in Python? Provide an\n",
        "example.\n"
      ],
      "metadata": {
        "id": "WLSP1mWkfFPu"
      }
    },
    {
      "cell_type": "markdown",
      "source": [
        "- You can prevent a class from having multiple instances by implementing a design pattern called the Singleton pattern. In Python, you can achieve this by using a class variable to store the single instance of the class and a class method to control the instantiation process."
      ],
      "metadata": {
        "id": "ju6jEj8t7fi2"
      }
    },
    {
      "cell_type": "code",
      "source": [
        "class Singleton:\n",
        "    _instance = None\n",
        "\n",
        "    def __new__(cls):\n",
        "        if cls._instance is None:\n",
        "            cls._instance = super().__new__(cls)\n",
        "        return cls._instance\n",
        "\n",
        "    def __init__(self):\n",
        "        if not hasattr(self, 'initialized'):\n",
        "            self.initialized = True\n",
        "            print(\"Singleton instance initialized\")\n",
        "\n",
        "# Creating instances\n",
        "singleton1 = Singleton()\n",
        "singleton2 = Singleton()\n",
        "\n",
        "print(singleton1 is singleton2)  # Output: True, both variables reference the same instance\n"
      ],
      "metadata": {
        "colab": {
          "base_uri": "https://localhost:8080/"
        },
        "id": "D3RrHglYfG1V",
        "outputId": "028db740-38da-4bda-9f44-fb3a2724e8e7"
      },
      "execution_count": null,
      "outputs": [
        {
          "output_type": "stream",
          "name": "stdout",
          "text": [
            "Singleton instance initialized\n",
            "True\n"
          ]
        }
      ]
    },
    {
      "cell_type": "markdown",
      "source": [
        "- The Singleton class has a private class variable _instance to store the single instance of the class.\n",
        "- The __new__() method is overridden to ensure that only one instance of the class is created. It checks whether the _instance variable is None, and if so, creates a new instance using the superclass's __new__() method. Otherwise, it returns the existing instance.\n",
        "- The __init__() method is used to initialize the instance attributes. In this example, it's just printing a message to indicate that the singleton instance is initialized.\n",
        "- When you create multiple instances of the Singleton class (singleton1 and singleton2), they both reference the same instance, thanks to the Singleton pattern implementation."
      ],
      "metadata": {
        "id": "RJaF_9_ECFW0"
      }
    },
    {
      "cell_type": "markdown",
      "source": [
        "17. Create a Python class called `Student` with a constructor that takes a list of subjects as a parameter and\n",
        "initializes the `subjects` attribute.\n"
      ],
      "metadata": {
        "id": "PZVFASMHqqRR"
      }
    },
    {
      "cell_type": "code",
      "source": [
        "class Student:\n",
        "    def __init__(self, subjects):\n",
        "        self.subjects = subjects\n",
        "\n",
        "# Creating an instance of the Student class\n",
        "student1 = Student([\"Math\", \"Science\", \"English\"])\n",
        "\n",
        "# Accessing the subjects attribute\n",
        "print(\"Subjects of student1:\", student1.subjects)\n"
      ],
      "metadata": {
        "colab": {
          "base_uri": "https://localhost:8080/"
        },
        "id": "SHHrvvv8qsc2",
        "outputId": "07fa4b8d-9a85-47a8-8502-d3de9b3c4184"
      },
      "execution_count": null,
      "outputs": [
        {
          "output_type": "stream",
          "name": "stdout",
          "text": [
            "Subjects of student1: ['Math', 'Science', 'English']\n"
          ]
        }
      ]
    },
    {
      "cell_type": "markdown",
      "source": [
        "18. What is the purpose of the `__del__` method in Python classes, and how does it relate to constructors?\n"
      ],
      "metadata": {
        "id": "RfNbvq4iqsu0"
      }
    },
    {
      "cell_type": "markdown",
      "source": [
        "- The __del__ method in Python classes serves as a destructor. It is called when an object is about to be destroyed, i.e., when there are no more references to the object or when it goes out of scope. The primary purpose of the __del__ method is to perform cleanup or finalization tasks before the object is removed from memory.\n",
        "\n",
        "- The __del__ method is the opposite of the constructor (__init__ method). While the constructor is called when an object is created, the __del__ method is called when the object is destroyed. This makes it useful for releasing resources or performing other cleanup operations associated with the object."
      ],
      "metadata": {
        "id": "-zsRFHmyoplN"
      }
    },
    {
      "cell_type": "code",
      "source": [
        "class MyClass:\n",
        "    def __init__(self, name):\n",
        "        self.name = name\n",
        "        print(\"Constructor called for\", self.name)\n",
        "\n",
        "    def __del__(self):\n",
        "        print(\"Destructor called for\", self.name)\n",
        "\n",
        "# Creating objects of the class\n",
        "obj1 = MyClass(\"Object 1\")\n",
        "obj2 = MyClass(\"Object 2\")\n",
        "\n",
        "# Deleting references to the objects\n",
        "del obj1\n",
        "del obj2\n"
      ],
      "metadata": {
        "colab": {
          "base_uri": "https://localhost:8080/"
        },
        "id": "2IVBN4TiqvvA",
        "outputId": "6c047245-1e60-42f9-ac73-11c154b8bb55"
      },
      "execution_count": null,
      "outputs": [
        {
          "output_type": "stream",
          "name": "stdout",
          "text": [
            "Constructor called for Object 1\n",
            "Constructor called for Object 2\n",
            "Destructor called for Object 1\n",
            "Destructor called for Object 2\n"
          ]
        }
      ]
    },
    {
      "cell_type": "markdown",
      "source": [
        "19. Explain the use of constructor chaining in Python. Provide a practical example.\n"
      ],
      "metadata": {
        "id": "btbrXL33qwHw"
      }
    },
    {
      "cell_type": "markdown",
      "source": [
        "- Constructor chaining in Python refers to the process of one constructor calling another constructor within the same class or between parent and child classes. This allows for reusing initialization logic and avoids code duplication.\n",
        "\n",
        "- In Python, constructor chaining is typically achieved using the super() function to call the constructor of the parent class."
      ],
      "metadata": {
        "id": "goXzKH8GpQtX"
      }
    },
    {
      "cell_type": "code",
      "source": [
        "class Parent:\n",
        "    def __init__(self, name):\n",
        "        self.name = name\n",
        "        print(\"Parent constructor called with name:\", self.name)\n",
        "\n",
        "class Child(Parent):\n",
        "    def __init__(self, name, age):\n",
        "        super().__init__(name)\n",
        "        self.age = age\n",
        "        print(\"Child constructor called with name:\", self.name, \"and age:\", self.age)\n",
        "\n",
        "# Creating an instance of the Child class\n",
        "child_obj = Child(\"Alice\", 25)\n"
      ],
      "metadata": {
        "colab": {
          "base_uri": "https://localhost:8080/"
        },
        "id": "uwIacZ5-qyz4",
        "outputId": "f9db0b50-e1d2-42ca-ef81-2fb6596ea7a3"
      },
      "execution_count": null,
      "outputs": [
        {
          "output_type": "stream",
          "name": "stdout",
          "text": [
            "Parent constructor called with name: Alice\n",
            "Child constructor called with name: Alice and age: 25\n"
          ]
        }
      ]
    },
    {
      "cell_type": "markdown",
      "source": [
        "20. Create a Python class called `Car` with a default constructor that initializes the `make` and `model`\n",
        "attributes. Provide a method to display car information."
      ],
      "metadata": {
        "id": "VK00sT5OqzHK"
      }
    },
    {
      "cell_type": "code",
      "source": [
        "class Car:\n",
        "  def __init__(self):\n",
        "    self.make = \"Unknown\"\n",
        "    self.model = \"Unknown\"\n",
        "\n",
        "  def display_info(self):\n",
        "    print(\"Car Make:\", self.make)\n",
        "    print(\"Car Model:\", self.model)\n",
        "\n",
        "# Creating an instance of the Car class\n",
        "car1 = Car()\n",
        "\n",
        "\n",
        "# Displaying car information\n",
        "car1.display_info()"
      ],
      "metadata": {
        "colab": {
          "base_uri": "https://localhost:8080/"
        },
        "id": "xrktL2E9q0BX",
        "outputId": "b3b03a88-1e32-446c-e050-18dd601105b1"
      },
      "execution_count": null,
      "outputs": [
        {
          "output_type": "stream",
          "name": "stdout",
          "text": [
            "Car Make: Unknown\n",
            "Car Model: Unknown\n"
          ]
        }
      ]
    },
    {
      "cell_type": "code",
      "execution_count": null,
      "metadata": {
        "id": "mnpQ1D4-ePTc"
      },
      "outputs": [],
      "source": []
    },
    {
      "cell_type": "markdown",
      "source": [
        "Inheritance:\n",
        "1. What is inheritance in Python? Explain its significance in object-oriented programming.\n"
      ],
      "metadata": {
        "id": "dxxpFaO4rbqs"
      }
    },
    {
      "cell_type": "markdown",
      "source": [
        "- Inheritance\n",
        "  - Inheritance is a fundamental concept in object-oriented programming (OOP) where a new class, called a subclass or derived class, can inherit attributes and methods from an existing class, called a superclass or base class. Inheritance allows you to create a hierarchy of classes where subclasses can reuse and extend the functionality defined in the superclass.\n",
        "- Inheritance refers to a class's capacity to derive features and traits from another class. One of the most significant characteristics of Object-Oriented Programming is inheritance. A class that inherits properties from another class is referred to as a subclass or a derived class. A class whose properties and member functions are inherited by other classes are referred to as superclass or base class. Inheritance supports the concept of \"reusability\".\n",
        "Consider a class Vehicle that contains all the essential functions which a vehicle must possess. This includes accelerating speed, applying brakes, changing gear and so on.\n",
        "- Now let us assume the classes Car, Bus, Truck and so on. All of these classes can be considered as a subclass of the class Vehicle since all of them must essentially possess all the properties of the class Vehicle."
      ],
      "metadata": {
        "id": "zh3qjrb5snPI"
      }
    },
    {
      "cell_type": "markdown",
      "source": [
        "2. Differentiate between single inheritance and multiple inheritance in Python. Provide examples for each.\n"
      ],
      "metadata": {
        "id": "xTlu31jWrg-J"
      }
    },
    {
      "cell_type": "markdown",
      "source": [
        "- Single Inheritance:\n",
        "\n",
        "    - Single inheritance refers to the inheritance relationship where a subclass inherits from only one superclass.\n",
        "    - In single inheritance, each subclass has only one direct superclass.\n",
        "    - It promotes a simple and straightforward hierarchy.\n",
        "    Example of single inheritance:"
      ],
      "metadata": {
        "id": "qHj8ANNruoeX"
      }
    },
    {
      "cell_type": "code",
      "source": [
        "class Animal:\n",
        "    def speak(self):\n",
        "        print(\"Animal speaks\")\n",
        "\n",
        "class Dog(Animal):  # Dog inherits from Animal\n",
        "    def bark(self):\n",
        "        print(\"Dog barks\")\n",
        "\n",
        "# Creating an instance of Dog\n",
        "dog = Dog()\n",
        "dog.speak()  # Output: Animal speaks\n",
        "dog.bark()   # Output: Dog barks\n"
      ],
      "metadata": {
        "colab": {
          "base_uri": "https://localhost:8080/"
        },
        "id": "wrPPg4_Drj6q",
        "outputId": "e6f253c4-e0c5-4308-bea4-795c97c8ff81"
      },
      "execution_count": null,
      "outputs": [
        {
          "output_type": "stream",
          "name": "stdout",
          "text": [
            "Animal speaks\n",
            "Dog barks\n"
          ]
        }
      ]
    },
    {
      "cell_type": "markdown",
      "source": [
        "- Multiple Inheritance:\n",
        "\n",
        "    - Multiple inheritance refers to the inheritance relationship where a subclass inherits from more than one superclass.\n",
        "    - In multiple inheritance, a subclass can inherit attributes and methods from multiple superclasses.\n",
        "    - It allows for greater flexibility but can also lead to complexity and potential conflicts if not managed properly.\n",
        "    Example of multiple inheritance:"
      ],
      "metadata": {
        "id": "D2JdDTXhvBSE"
      }
    },
    {
      "cell_type": "code",
      "source": [
        "class A:\n",
        "    def method_a(self):\n",
        "        print(\"Method A\")\n",
        "\n",
        "class B:\n",
        "    def method_b(self):\n",
        "        print(\"Method B\")\n",
        "\n",
        "class C(A, B):  # C inherits from both A and B\n",
        "    def method_c(self):\n",
        "        print(\"Method C\")\n",
        "\n",
        "# Creating an instance of C\n",
        "obj = C()\n",
        "obj.method_a()\n",
        "obj.method_b()\n",
        "obj.method_c()\n"
      ],
      "metadata": {
        "colab": {
          "base_uri": "https://localhost:8080/"
        },
        "id": "qAktJFs4rgnU",
        "outputId": "a925faf6-72aa-41ee-8f9e-f639c2d233d1"
      },
      "execution_count": null,
      "outputs": [
        {
          "output_type": "stream",
          "name": "stdout",
          "text": [
            "Method A\n",
            "Method B\n",
            "Method C\n"
          ]
        }
      ]
    },
    {
      "cell_type": "markdown",
      "source": [
        "3. Create a Python class called `Vehicle` with attributes `color` and `speed`. Then, create a child class called\n",
        "`Car` that inherits from `Vehicle` and adds a `brand` attribute. Provide an example of creating a `Car` object.\n"
      ],
      "metadata": {
        "id": "LH5M-MYvrkJ-"
      }
    },
    {
      "cell_type": "code",
      "source": [
        "class Vehicle:\n",
        "    def __init__(self, color, speed):\n",
        "        self.color = color\n",
        "        self.speed = speed\n",
        "\n",
        "class Car(Vehicle):\n",
        "    def __init__(self, color, speed, brand):\n",
        "        super().__init__(color, speed)\n",
        "        self.brand = brand\n",
        "\n",
        "# Creating a Car object\n",
        "car = Car(\"Red\", 100, \"Toyota\")\n",
        "\n",
        "# Accessing attributes of the Car object\n",
        "print(\"Car color:\", car.color)\n",
        "print(\"Car speed:\", car.speed)\n",
        "print(\"Car brand:\", car.brand)\n"
      ],
      "metadata": {
        "colab": {
          "base_uri": "https://localhost:8080/"
        },
        "id": "vZ4tjjFTrm5D",
        "outputId": "70f1e2df-2256-4e69-ad6c-71be0442803c"
      },
      "execution_count": null,
      "outputs": [
        {
          "output_type": "stream",
          "name": "stdout",
          "text": [
            "Car color: Red\n",
            "Car speed: 100\n",
            "Car brand: Toyota\n"
          ]
        }
      ]
    },
    {
      "cell_type": "markdown",
      "source": [
        "4. Explain the concept of method overriding in inheritance. Provide a practical example.\n"
      ],
      "metadata": {
        "id": "XN12rqISrnRy"
      }
    },
    {
      "cell_type": "markdown",
      "source": [
        "- Method overriding is a concept in object-oriented programming where a subclass provides a specific implementation of a method that is already defined in its superclass. This allows the subclass to modify or extend the behavior of the inherited method without changing its signature.\n",
        "\n",
        "- In Python, method overriding occurs when a subclass defines a method with the same name and parameters as a method in its superclass. When an object of the subclass calls the overridden method, the subclass's implementation is executed instead of the superclass's implementation."
      ],
      "metadata": {
        "id": "aNiyqFpYxUHh"
      }
    },
    {
      "cell_type": "code",
      "source": [
        "class Animal:\n",
        "    def speak(self):\n",
        "        print(\"Animal speaks\")\n",
        "\n",
        "class Dog(Animal):\n",
        "    def speak(self):\n",
        "        print(\"Dog barks\")\n",
        "\n",
        "# Creating objects of Animal and Dog classes\n",
        "animal = Animal()\n",
        "dog = Dog()\n",
        "\n",
        "# Calling speak() method on objects\n",
        "animal.speak()  # Output: Animal speaks\n",
        "dog.speak()     # Output: Dog barks\n"
      ],
      "metadata": {
        "colab": {
          "base_uri": "https://localhost:8080/"
        },
        "id": "58rAiBnyrpkk",
        "outputId": "fdf27706-685a-4695-d9d7-e0d4a88dacaf"
      },
      "execution_count": null,
      "outputs": [
        {
          "output_type": "stream",
          "name": "stdout",
          "text": [
            "Animal speaks\n",
            "Dog barks\n"
          ]
        }
      ]
    },
    {
      "cell_type": "markdown",
      "source": [
        "- Method overriding allows subclasses to provide specialized behavior while maintaining a consistent interface defined by the superclass. It promotes code reuse and enables polymorphism, where objects of different classes can respond differently to the same method call."
      ],
      "metadata": {
        "id": "0x3HHjpKxzO_"
      }
    },
    {
      "cell_type": "markdown",
      "source": [
        "5. How can you access the methods and attributes of a parent class from a child class in Python? Give an\n",
        "example.\n"
      ],
      "metadata": {
        "id": "buaBPN0Vrpz3"
      }
    },
    {
      "cell_type": "markdown",
      "source": [
        "- In Python, we can access the methods and attributes of a parent class from a child class using the super() function. The super() function returns a proxy object that delegates method calls to the parent class, allowing you to access methods and attributes defined in the parent class within the child class."
      ],
      "metadata": {
        "id": "0bG3_xz-yRdy"
      }
    },
    {
      "cell_type": "code",
      "source": [
        "class Parent:\n",
        "  def __init__(self, name):\n",
        "    self.name = name\n",
        "\n",
        "  def greet(self):\n",
        "    print(\"Hello, I'm\", self.name)\n",
        "\n",
        "class Child(Parent):\n",
        "  def __init__(self, name, age):\n",
        "    super().__init__(name) # Call parent class constructor to initialize name attribute\n",
        "    self.age = age\n",
        "\n",
        "  def display_info(self):\n",
        "    print(\"Name:\", self.name)\n",
        "    print(\"Age:\", self.age)\n",
        "\n",
        "  def greet(self):\n",
        "    super().greet()\n",
        "    print(\"I'm a child!\")\n",
        "\n",
        "child = Child(\"Alice\", 10)\n",
        "\n",
        "# Accessing methods and attributes of the parent class from the child class\n",
        "child.display_info()\n",
        "child.greet()\n"
      ],
      "metadata": {
        "colab": {
          "base_uri": "https://localhost:8080/"
        },
        "id": "ZUE3zTD8rsFl",
        "outputId": "77618c9b-af62-425a-d017-ea065d7459c9"
      },
      "execution_count": null,
      "outputs": [
        {
          "output_type": "stream",
          "name": "stdout",
          "text": [
            "Name: Alice\n",
            "Age: 10\n",
            "Hello, I'm Alice\n",
            "I'm a child!\n"
          ]
        }
      ]
    },
    {
      "cell_type": "markdown",
      "source": [
        "6. Discuss the use of the `super()` function in Python inheritance. When and why is it used? Provide an\n",
        "example.\n"
      ],
      "metadata": {
        "id": "B3I15VhXrsXV"
      }
    },
    {
      "cell_type": "markdown",
      "source": [
        "- In Python inheritance, the super() function is used to access methods and attributes of the superclass (parent class) from the subclass (child class). It provides a way to invoke methods of the superclass within the subclass, enabling the subclass to extend or modify the behavior defined in the superclass.\n",
        "- The super() function is particularly useful when you want to call methods or constructors of the superclass from the subclass, especially when you override methods in the subclass but still want to execute the overridden method from the superclass. It ensures that the method resolution order (MRO) is followed correctly, allowing for proper method invocation in complex inheritance hierarchies."
      ],
      "metadata": {
        "id": "hO7rNqgI6zrU"
      }
    },
    {
      "cell_type": "code",
      "source": [
        "class Animal:\n",
        "  def speak(self):\n",
        "    print(\"Animal speaks\")\n",
        "\n",
        "class Dog(Animal):\n",
        "  def speak(self):\n",
        "    super().speak() # Call the speak() method of the superclass\n",
        "    print(\"Dog barks\")\n",
        "\n",
        "# Creating an instance of the Dog class\n",
        "dog = Dog()\n",
        "\n",
        "# Calling the speak() method of the Dog class\n",
        "dog.speak()"
      ],
      "metadata": {
        "colab": {
          "base_uri": "https://localhost:8080/"
        },
        "id": "YyWPt64KsXp7",
        "outputId": "2f3bcc31-46a9-4f88-e684-8a13bae1bd4c"
      },
      "execution_count": null,
      "outputs": [
        {
          "output_type": "stream",
          "name": "stdout",
          "text": [
            "Animal speaks\n",
            "Dog barks\n"
          ]
        }
      ]
    },
    {
      "cell_type": "markdown",
      "source": [
        "7. Create a Python class called `Animal` with a method `speak()`. Then, create child classes `Dog` and `Cat` that inherit from `Animal` and override the `speak()` method. Provide an example of using these classes.\n"
      ],
      "metadata": {
        "id": "osllmQaOrum_"
      }
    },
    {
      "cell_type": "code",
      "source": [
        "class Animal:\n",
        "  def speak(self):\n",
        "    print(\"Animal speaks\")\n",
        "\n",
        "class Dog(Animal):\n",
        "  def speak(self):\n",
        "    print(\"Dog barks\")\n",
        "\n",
        "class Cat(Animal):\n",
        "  def speak(self):\n",
        "    print(\"Cat meows\")\n",
        "\n",
        "# Creating instances of Dog and Cat classes\n",
        "dog = Dog()\n",
        "cat = Cat()\n",
        "\n",
        "# Calling the speak() method on objects of Dog and Cat classes\n",
        "dog.speak()\n",
        "cat.speak()\n",
        "\n"
      ],
      "metadata": {
        "colab": {
          "base_uri": "https://localhost:8080/"
        },
        "id": "ZSmvQrgIrwzC",
        "outputId": "b5dd0523-04da-4b18-c67e-e55bc01f653b"
      },
      "execution_count": null,
      "outputs": [
        {
          "output_type": "stream",
          "name": "stdout",
          "text": [
            "Dog barks\n",
            "Cat meows\n"
          ]
        }
      ]
    },
    {
      "cell_type": "markdown",
      "source": [
        "8. Explain the role of the `isinstance()` function in Python and how it relates to inheritance.\n"
      ],
      "metadata": {
        "id": "NAK8Dr_wrw-_"
      }
    },
    {
      "cell_type": "markdown",
      "source": [
        "\n",
        "- In Python, the isinstance() function is used to determine whether an object is an instance of a particular class or subclass. It returns True if the object is an instance of the specified class or any of its subclasses, and False otherwise.\n",
        "\n",
        "- The isinstance() function is often used in conjunction with inheritance to check the type of an object and perform appropriate actions based on its type. It allows you to write code that is more flexible and can handle objects of different types in a polymorphic manner.\n",
        "\n",
        "- Here's how isinstance() relates to inheritance:\n",
        "\n",
        "- Checking Class Membership: You can use isinstance() to check whether an object belongs to a specific class or any of its subclasses. This is useful when you want to perform different operations based on the type of the object.\n",
        "\n",
        "- Polymorphism: isinstance() enables polymorphism by allowing you to write code that operates on objects of different classes in a uniform way. This is especially useful when dealing with collections of objects that may have different types but share a common superclass.\n",
        "\n",
        "- Dynamic Dispatch: Inheritance and isinstance() allow for dynamic dispatch of methods, where the appropriate method implementation is selected based on the type of the object at runtime. This enables code to adapt to different types of objects without the need for explicit type checks.\n"
      ],
      "metadata": {
        "id": "lb6WJTPG-94W"
      }
    },
    {
      "cell_type": "code",
      "source": [
        "class Animal:\n",
        "  def sound(self):\n",
        "    pass\n",
        "\n",
        "class Dog(Animal):\n",
        "  def sound(self):\n",
        "    print(\"Dog barks\")\n",
        "\n",
        "class Cat(Animal):\n",
        "  def sound(self):\n",
        "    print(\"Cat meows\")\n",
        "\n",
        "# Create instances of Dog and Cat classes\n",
        "dog = Dog()\n",
        "cat = Cat()\n",
        "\n",
        "# Using isinstance() to check the type of objects\n",
        "print(isinstance(dog, Animal))\n",
        "print(isinstance(cat, Animal))\n",
        "\n",
        "# Polymorphic behavior using isinstance()\n",
        "def make_sound(animal):\n",
        "  if isinstance(animal, Animal):\n",
        "    animal.sound()\n",
        "\n",
        "make_sound(dog)\n",
        "make_sound(cat)"
      ],
      "metadata": {
        "colab": {
          "base_uri": "https://localhost:8080/"
        },
        "id": "wWcLtfierzc6",
        "outputId": "8db587b2-8612-40a1-b4b1-477d43d6a815"
      },
      "execution_count": null,
      "outputs": [
        {
          "output_type": "stream",
          "name": "stdout",
          "text": [
            "True\n",
            "True\n",
            "Dog barks\n",
            "Cat meows\n"
          ]
        }
      ]
    },
    {
      "cell_type": "markdown",
      "source": [
        "9. What is the purpose of the `issubclass()` function in Python? Provide an example.\n"
      ],
      "metadata": {
        "id": "2ZdaRNnerzqf"
      }
    },
    {
      "cell_type": "markdown",
      "source": [
        "- The issubclass() function in Python is used to check whether a given class is a subclass of another class. It returns True if the first argument (a class) is a subclass of the second argument (a class or a tuple of classes), and False otherwise\n",
        "- The issubclass() function can be useful in situations where you need to determine the inheritance relationship between classes programmatically.\n"
      ],
      "metadata": {
        "id": "8MZKuRt6CQBI"
      }
    },
    {
      "cell_type": "code",
      "source": [
        "class Animal:\n",
        "  pass\n",
        "\n",
        "class Dog(Animal):\n",
        "  pass\n",
        "\n",
        "# Checking if Dog is a subclass of Animal\n",
        "print(issubclass(Dog, Animal))\n",
        "\n",
        "# Checking if Animal is a subclass of object (base class of all classes)\n",
        "print(issubclass(Animal, object))\n",
        "\n",
        "#Checking if int is a subclass of object\n",
        "print(issubclass(int, object))\n",
        "\n",
        "#checking if list is a subclass of tuple\n",
        "print(issubclass(list, tuple))"
      ],
      "metadata": {
        "colab": {
          "base_uri": "https://localhost:8080/"
        },
        "id": "SKAB9eJbr2Ie",
        "outputId": "0e8cead5-9345-416c-98cf-55cac31f8f12"
      },
      "execution_count": null,
      "outputs": [
        {
          "output_type": "stream",
          "name": "stdout",
          "text": [
            "True\n",
            "True\n",
            "True\n",
            "False\n"
          ]
        }
      ]
    },
    {
      "cell_type": "markdown",
      "source": [
        "10. Discuss the concept of constructor inheritance in Python. How are constructors inherited in child classes?\n"
      ],
      "metadata": {
        "id": "yRRnaX7Qr2Tk"
      }
    },
    {
      "cell_type": "markdown",
      "source": [
        "- In Python, constructors are inherited in child classes just like any other method. When a subclass is created, it inherits all the attributes and methods, including the constructor (__init__() method), from its superclass(es). If the subclass does not define its own constructor, it implicitly inherits the constructor of its nearest superclass.\n",
        "\n",
        "- Constructor inheritance ensures that when an object of a subclass is created, the constructor of its superclass is also called, allowing for initialization of inherited attributes and any other necessary setup. If the subclass defines its own constructor, it can choose to either override or extend the behavior of the superclass constructor.\n",
        "\n",
        "- 1. Implicit Inheritance: If a subclass does not define its own constructor, it implicitly inherits the constructor of its nearest superclass.\n",
        "\n",
        "- 2. Explicit Inheritance: If a subclass defines its own constructor but still wants to invoke the constructor of its superclass, it can explicitly call the superclass constructor using super().__init__().\n",
        "\n",
        "- 3. Overriding and Extending: If a subclass defines its own constructor, it can choose to override or extend the behavior of the superclass constructor. It can override the constructor by providing its own implementation, or it can extend the constructor by calling the superclass constructor and then adding additional initialization logic."
      ],
      "metadata": {
        "id": "EJBrzTDeFH1_"
      }
    },
    {
      "cell_type": "code",
      "source": [
        "class Parents:\n",
        "  def __init__(self, name):\n",
        "    self.name = name\n",
        "    print(\"Parent constructor called\")\n",
        "\n",
        "class Child(Parent):\n",
        "  def __init__(self, name, age):\n",
        "    super().__init__(name)\n",
        "    self.age = age\n",
        "    print(\"Child constructor called\")\n",
        "\n",
        "#creating an instance of the child class\n",
        "child = Child(\"Abhi\", 10)"
      ],
      "metadata": {
        "colab": {
          "base_uri": "https://localhost:8080/"
        },
        "id": "mi8bC5NAr481",
        "outputId": "2eb117b8-b73b-4681-da69-661d8e80f53e"
      },
      "execution_count": null,
      "outputs": [
        {
          "output_type": "stream",
          "name": "stdout",
          "text": [
            "Child constructor called\n"
          ]
        }
      ]
    },
    {
      "cell_type": "markdown",
      "source": [
        "11. Create a Python class called `Shape` with a method `area()` that calculates the area of a shape. Then, create child classes `Circle` and `Rectangle` that inherit from `Shape` and implement the `area()` method\n",
        "accordingly. Provide an example.\n"
      ],
      "metadata": {
        "id": "_aJUNY14r5Ie"
      }
    },
    {
      "cell_type": "markdown",
      "source": [
        "In Python, constructors are inherited by child classes just like any other method. When a child class is instantiated, Python looks for a constructor in the child class first. If it doesn't find one, it looks for a constructor in the parent class and calls it. If the parent class doesn't have a constructor either, Python continues searching up the inheritance chain until it finds a constructor to call."
      ],
      "metadata": {
        "id": "U0c4-HgmHQnb"
      }
    },
    {
      "cell_type": "code",
      "source": [
        "class Parent:\n",
        "  def __init__(self):\n",
        "    print(\"Parent constructor\")\n",
        "\n",
        "class Child(Parent):\n",
        "  def __init__(self):\n",
        "    super().__init__()\n",
        "    print(\"Child constructor\")\n",
        "\n",
        "# Creating an instance of the child class\n",
        "child = Child()\n"
      ],
      "metadata": {
        "colab": {
          "base_uri": "https://localhost:8080/"
        },
        "id": "9n0ZGj0Vr7ev",
        "outputId": "96f86f91-5dfd-4c8e-f538-9ae5db4fa674"
      },
      "execution_count": null,
      "outputs": [
        {
          "output_type": "stream",
          "name": "stdout",
          "text": [
            "Parent constructor\n",
            "Child constructor\n"
          ]
        }
      ]
    },
    {
      "cell_type": "markdown",
      "source": [
        "12. Explain the use of abstract base classes (ABCs) in Python and how they relate to inheritance. Provide an\n",
        "example using the `abc` module.\n"
      ],
      "metadata": {
        "id": "oGrlmv2dr7ua"
      }
    },
    {
      "cell_type": "markdown",
      "source": [
        "\n",
        "- Abstract Base Classes (ABCs) in Python are a way of defining a blueprint for classes that enforce a specific interface or set of methods that must be implemented by subclasses. ABCs allow you to define a common API for a group of related classes, ensuring that all subclasses adhere to the same interface. They are particularly useful for establishing contracts between classes and promoting code reuse and maintainability.\n",
        "\n",
        "- The abc module in Python provides tools for creating abstract base classes. The ABC class serves as the base class for defining abstract base classes, and the abstractmethod decorator is used to mark methods as abstract, indicating that they must be implemented by subclasses."
      ],
      "metadata": {
        "id": "2jUlqLK7IvXj"
      }
    },
    {
      "cell_type": "code",
      "source": [
        "from abc import ABC, abstractmethod\n",
        "\n",
        "class Shape(ABC):\n",
        "    @abstractmethod\n",
        "    def area(self):\n",
        "        pass\n",
        "\n",
        "class Circle(Shape):\n",
        "    def __init__(self, radius):\n",
        "        self.radius = radius\n",
        "\n",
        "    def area(self):\n",
        "        return 3.14 * self.radius**2\n",
        "\n",
        "class Rectangle(Shape):\n",
        "    def __init__(self, width, height):\n",
        "        self.width = width\n",
        "        self.height = height\n",
        "\n",
        "    def area(self):\n",
        "        return self.width * self.height\n",
        "\n",
        "# Creating instances of Circle and Rectangle classes\n",
        "circle = Circle(5)\n",
        "rectangle = Rectangle(4, 6)\n",
        "\n",
        "# Calculating and printing the area of shapes\n",
        "print(\"Area of circle:\", circle.area())       # Output: Area of circle: 78.5\n",
        "print(\"Area of rectangle:\", rectangle.area()) # Output: Area of rectangle: 24\n"
      ],
      "metadata": {
        "colab": {
          "base_uri": "https://localhost:8080/"
        },
        "id": "pq1nLJOsr94l",
        "outputId": "fb8c48ee-f7a6-44a9-f148-c0536323e786"
      },
      "execution_count": null,
      "outputs": [
        {
          "output_type": "stream",
          "name": "stdout",
          "text": [
            "Area of circle: 78.5\n",
            "Area of rectangle: 24\n"
          ]
        }
      ]
    },
    {
      "cell_type": "markdown",
      "source": [
        "13. How can you prevent a child class from modifying certain attributes or methods inherited from a parent\n",
        "class in Python?\n"
      ],
      "metadata": {
        "id": "HE-KOdpJr-Kq"
      }
    },
    {
      "cell_type": "markdown",
      "source": [
        "- In Python, you can prevent a child class from modifying certain attributes or methods inherited from a parent class by using encapsulation and access control mechanisms. Although Python does not have built-in access modifiers like private, protected, or public as in some other programming languages, you can achieve similar behavior through naming conventions and property decorators.\n",
        "\n",
        "- Here are two common approaches to prevent a child class from modifying certain attributes or methods inherited from a parent class:\n",
        "\n",
        "- Encapsulation with private attributes: Prefixing attributes or methods with a double underscore (__) makes them \"private\" in Python, which means they cannot be accessed or modified directly from outside the class. However, they can still be accessed and modified within the class itself, including its subclasses. This approach relies on convention rather than enforcement.\n",
        "\n",
        "- Property decorators: You can use property decorators (@property, @attribute.setter, @attribute.deleter) to define getter, setter, and deleter methods for attributes. This allows you to control access to attributes and implement custom behavior when getting, setting, or deleting them."
      ],
      "metadata": {
        "id": "qGlNTw_9JK95"
      }
    },
    {
      "cell_type": "code",
      "source": [
        "class Parent:\n",
        "    def __init__(self):\n",
        "        self.__attribute = 42  # Private attribute\n",
        "\n",
        "    @property\n",
        "    def attribute(self):\n",
        "        return self.__attribute\n",
        "\n",
        "class Child(Parent):\n",
        "    def __init__(self):\n",
        "        super().__init__()\n",
        "\n",
        "    @property\n",
        "    def attribute(self):\n",
        "        return super().attribute  # Getter method\n",
        "\n",
        "    @attribute.setter\n",
        "    def attribute(self, value):\n",
        "        raise AttributeError(\"Cannot modify attribute in Child class\")\n",
        "\n",
        "# Creating instances of Parent and Child classes\n",
        "parent = Parent()\n",
        "child = Child()\n",
        "\n",
        "# Accessing attribute in Parent class\n",
        "print(parent.attribute)  # Output: 42\n",
        "\n",
        "# Attempting to modify attribute in Child class\n",
        "try:\n",
        "    child.attribute = 10  # Raises AttributeError\n",
        "except AttributeError as e:\n",
        "    print(e)\n"
      ],
      "metadata": {
        "colab": {
          "base_uri": "https://localhost:8080/"
        },
        "id": "wxvEgJnQsBVh",
        "outputId": "8e877800-2536-4e43-ca7c-eee4835f39fd"
      },
      "execution_count": null,
      "outputs": [
        {
          "output_type": "stream",
          "name": "stdout",
          "text": [
            "42\n",
            "Cannot modify attribute in Child class\n"
          ]
        }
      ]
    },
    {
      "cell_type": "markdown",
      "source": [
        "14. Create a Python class called `Employee` with attributes `name` and `salary`. Then, create a child class\n",
        "`Manager` that inherits from `Employee` and adds an attribute `department`. Provide an example.\n"
      ],
      "metadata": {
        "id": "G7vXKeYlsBnt"
      }
    },
    {
      "cell_type": "code",
      "source": [
        "class Employee:\n",
        "    def __init__(self, name, salary):\n",
        "        self.name = name\n",
        "        self.salary = salary\n",
        "\n",
        "class Manager(Employee):\n",
        "    def __init__(self, name, salary, department):\n",
        "        super().__init__(name, salary)\n",
        "        self.department = department\n",
        "\n",
        "# Creating an instance of the Manager class\n",
        "manager = Manager(\"John Doe\", 50000, \"Marketing\")\n",
        "\n",
        "# Accessing attributes of the Manager object\n",
        "print(\"Name:\", manager.name)\n",
        "print(\"Salary:\", manager.salary)\n",
        "print(\"Department:\", manager.department)\n"
      ],
      "metadata": {
        "colab": {
          "base_uri": "https://localhost:8080/"
        },
        "id": "W00XfIrwsEZt",
        "outputId": "071a1e1c-4ec8-47a4-a15c-04000deaf0c5"
      },
      "execution_count": null,
      "outputs": [
        {
          "output_type": "stream",
          "name": "stdout",
          "text": [
            "Name: John Doe\n",
            "Salary: 50000\n",
            "Department: Marketing\n"
          ]
        }
      ]
    },
    {
      "cell_type": "markdown",
      "source": [
        "15. Discuss the concept of method overloading in Python inheritance. How does it differ from method\n",
        "overriding?\n"
      ],
      "metadata": {
        "id": "E_zbz4wXsEnr"
      }
    },
    {
      "cell_type": "markdown",
      "source": [
        "- In Python, method overloading refers to the ability to define multiple methods with the same name but different signatures within a single class. However, Python does not support traditional method overloading as seen in languages like Java or C++, where different methods with the same name can have different parameter types or numbers.\n",
        "\n",
        "- Instead, in Python, method overloading is typically achieved using default parameter values or variable-length argument lists. You can define a single method with a flexible number of parameters or with parameters having default values to simulate method overloading."
      ],
      "metadata": {
        "id": "dCsIEeXAKdsq"
      }
    },
    {
      "cell_type": "code",
      "source": [
        "class MathOperations:\n",
        "    def add(self, a, b=0):\n",
        "        return a + b\n",
        "\n",
        "# Creating an instance of MathOperations class\n",
        "math = MathOperations()\n",
        "\n",
        "# Calling the add method with different numbers of arguments\n",
        "print(math.add(5))\n",
        "print(math.add(5, 3))\n"
      ],
      "metadata": {
        "colab": {
          "base_uri": "https://localhost:8080/"
        },
        "id": "dhTkqwd8sGsg",
        "outputId": "bea94aef-9578-44f6-90c5-c604b93b3b60"
      },
      "execution_count": null,
      "outputs": [
        {
          "output_type": "stream",
          "name": "stdout",
          "text": [
            "5\n",
            "8\n"
          ]
        }
      ]
    },
    {
      "cell_type": "markdown",
      "source": [
        "16. Explain the purpose of the `__init__()` method in Python inheritance and how it is utilized in child classes.\n"
      ],
      "metadata": {
        "id": "KVSEI4CPsG86"
      }
    },
    {
      "cell_type": "markdown",
      "source": [
        "\n",
        "- The __init__() method in Python is a special method, also known as a constructor, that is automatically called when a new instance of a class is created. Its primary purpose is to initialize the object's attributes or perform any setup that is necessary before the object can be used.\n",
        "\n",
        "- In the context of inheritance, the __init__() method is often utilized to initialize attributes that are specific to the child class, while also invoking the __init__() method of the parent class to initialize attributes inherited from the parent class.\n",
        "\n",
        "Here's how the __init__() method is typically utilized in child classes:\n",
        "\n",
        "- Initialization of Child Class Attributes: The __init__() method in the child class can define additional attributes that are specific to instances of the child class. These attributes are initialized within the child class's __init__() method.\n",
        "\n",
        "- Invoking the Parent Class's init() Method: In many cases, it's important to ensure that attributes inherited from the parent class are initialized properly. This is achieved by explicitly calling the __init__() method of the parent class within the __init__() method of the child class using the super() function."
      ],
      "metadata": {
        "id": "Y2no65gYK0B_"
      }
    },
    {
      "cell_type": "code",
      "source": [],
      "metadata": {
        "id": "YoVDbYpTsJZw"
      },
      "execution_count": null,
      "outputs": []
    },
    {
      "cell_type": "markdown",
      "source": [
        "17. Create a Python class called `Bird` with a method `fly()`. Then, create child classes `Eagle` and `Sparrow` that inherit from `Bird` and implement the `fly()` method differently. Provide an example of using these\n",
        "classes.\n"
      ],
      "metadata": {
        "id": "QzycZ9XOsJtI"
      }
    },
    {
      "cell_type": "code",
      "source": [
        "class Bird:\n",
        "  def fly(self):\n",
        "    print(\"Bird flies\")\n",
        "\n",
        "class Eagle(Bird):\n",
        "  def fly(self):\n",
        "    print(\"Eagle soars high in the sky\")\n",
        "\n",
        "class Sparrow(Bird):\n",
        "  def fly(self):\n",
        "    print(\"Sparrow flutters through the air\")\n",
        "\n",
        "#Creating instance of Eagle and Sparrow classes\n",
        "\n",
        "eagle = Eagle()\n",
        "sparrow = Sparrow()\n",
        "\n",
        "# Calling the fly() method on objects of Eagle and Sparrow classes\n",
        "eagle.fly()\n",
        "sparrow.fly()"
      ],
      "metadata": {
        "colab": {
          "base_uri": "https://localhost:8080/"
        },
        "id": "pCfcozDWsMef",
        "outputId": "92b1c7b2-4a12-431e-92e5-87b8114b88c7"
      },
      "execution_count": null,
      "outputs": [
        {
          "output_type": "stream",
          "name": "stdout",
          "text": [
            "Eagle soars high in the sky\n",
            "Sparrow flutters through the air\n"
          ]
        }
      ]
    },
    {
      "cell_type": "markdown",
      "source": [
        "18. What is the \"diamond problem\" in multiple inheritance, and how does Python address it?\n"
      ],
      "metadata": {
        "id": "iX6B1NkIsM4D"
      }
    },
    {
      "cell_type": "markdown",
      "source": [
        "- The \"diamond problem\" is a common issue that arises in multiple inheritance when a subclass inherits from two or more classes that have a common ancestor. This results in a diamond-shaped inheritance hierarchy, hence the name \"diamond problem.\" The problem occurs when the common ancestor class's methods or attributes are overridden in one or more of the intermediate classes, leading to ambiguity in method resolution for the subclass.\n",
        "\n"
      ],
      "metadata": {
        "id": "2hoSn0QKMYgj"
      }
    },
    {
      "cell_type": "code",
      "source": [
        "    A\n",
        "   / \\\n",
        "  B   C\n",
        "   \\ /\n",
        "    D\n",
        "\n"
      ],
      "metadata": {
        "id": "N_9unPmisPYm"
      },
      "execution_count": null,
      "outputs": []
    },
    {
      "cell_type": "markdown",
      "source": [
        "- Here, classes B and C inherit from class A, and class D inherits from both B and C. If B and C both override a method from class A, and class D does not provide its own implementation, it becomes unclear which overridden method should be called when an instance of class D invokes that method.\n",
        "\n",
        "- Python addresses the diamond problem using the method resolution order (MRO) algorithm, known as C3 Linearization. When multiple inheritance is involved, Python determines the order in which methods and attributes are searched for resolution. This ensures that method resolution is unambiguous and follows a consistent order.\n",
        "\n",
        "- Python's approach to resolving the diamond problem can be summarized as follows:\n",
        "\n",
        "  - Python calculates the MRO for each class involved in the inheritance hierarchy using the C3 Linearization algorithm.\n",
        "  - The MRO defines the order in which methods and attributes are searched for resolution.\n",
        "  - When a method is called on an instance of a class, Python traverses the MRO from left to right, looking for the method or attribute in each class in the order specified by the MRO.\n",
        "  - If the method or attribute is found in a superclass, Python stops the search and executes the method or returns the attribute value. Otherwise, it continues searching through subsequent classes in the MRO until the method or attribute is found or until the end of the MRO is reached."
      ],
      "metadata": {
        "id": "be8VtLi1M8Bj"
      }
    },
    {
      "cell_type": "markdown",
      "source": [
        "19. Discuss the concept of \"is-a\" and \"has-a\" relationships in inheritance, and provide examples of each.\n"
      ],
      "metadata": {
        "id": "XSS_iWDpsPs-"
      }
    },
    {
      "cell_type": "markdown",
      "source": [
        "\n",
        "In object-oriented programming, \"is-a\" and \"has-a\" relationships are two fundamental concepts that describe the relationships between classes.\n",
        "\n",
        "- \"Is-a\" Relationship:\n",
        "\n",
        "  - An \"is-a\" relationship, also known as inheritance or specialization, denotes a relationship where one class is a subtype of another class. This relationship implies that the subclass inherits attributes and behavior from the superclass, and it can be used interchangeably with the superclass.\n",
        "  In an \"is-a\" relationship, the subclass shares the characteristics of the superclass and may extend or override its behavior to provide specialized functionality.\n",
        "    - Examples of \"is-a\" relationships include:\n",
        "    - A Car is a Vehicle.\n",
        "    - An Eagle is a Bird.\n",
        "    - A Square is a Rectangle.\n",
        "    - \"Has-a\" Relationship:\n",
        "\n",
        "- A \"has-a\" relationship describes a situation where one class contains an instance of another class as one of its attributes. This relationship signifies that one class \"has\" another class as part of its internal state or structure.\n",
        "In a \"has-a\" relationship, the containing class has access to the methods and attributes of the contained class through its own interface.\n",
        "  - Examples of \"has-a\" relationships include:\n",
        "  - A Car has an Engine.\n",
        "  - A Person has a Job.\n",
        "  - A Library has a collection of Books."
      ],
      "metadata": {
        "id": "8wtTRNfXN8H2"
      }
    },
    {
      "cell_type": "code",
      "source": [
        "# Example of \"is-a\" relationship(inheritance)\n",
        "class Vehicle:\n",
        "  def move(self):\n",
        "    print(\"Vehicle is moving\")\n",
        "\n",
        "class Car(Vehicle):\n",
        "  def honk(self):\n",
        "    print(\"Car is honking\")\n",
        "\n",
        "\n",
        "    # Example of \"has-a\" relationship (composition)\n",
        "  class Engine:\n",
        "    def start(self):\n",
        "      print(\"Engine started\")\n",
        "\n",
        "  def __init__(self):\n",
        "    self.engine = self.Engine()\n",
        "\n",
        "# Using \"is-a\" relationship\n",
        "#Driver code\n",
        "\n",
        "car = Car()\n",
        "car.move()\n",
        "car.honk()\n",
        "\n",
        "car.engine.start()\n"
      ],
      "metadata": {
        "colab": {
          "base_uri": "https://localhost:8080/"
        },
        "id": "aFzX1nCZ7vdV",
        "outputId": "51ab15c4-58de-440b-93ba-0296f0126aa3"
      },
      "execution_count": null,
      "outputs": [
        {
          "output_type": "stream",
          "name": "stdout",
          "text": [
            "Vehicle is moving\n",
            "Car is honking\n",
            "Engine started\n"
          ]
        }
      ]
    },
    {
      "cell_type": "markdown",
      "source": [],
      "metadata": {
        "id": "TXhgvVlRQvBE"
      }
    },
    {
      "cell_type": "markdown",
      "source": [
        "20. Create a Python class hierarchy for a university system. Start with a base class `Person` and create child\n",
        "classes `Student` and `Professor`, each with their own attributes and methods. Provide an example of using\n",
        "these classes in a university context."
      ],
      "metadata": {
        "id": "8-7o2842sS55"
      }
    },
    {
      "cell_type": "code",
      "source": [
        "class Person:\n",
        "    def __init__(self, name, age, gender):\n",
        "        self.name = name\n",
        "        self.age = age\n",
        "        self.gender = gender\n",
        "\n",
        "    def introduce(self):\n",
        "        print(f\"Hello, my name is {self.name}, I am {self.age} years old and I am {self.gender}.\")\n",
        "\n",
        "\n",
        "class Student(Person):\n",
        "    def __init__(self, name, age, gender, student_id):\n",
        "        super().__init__(name, age, gender)\n",
        "        self.student_id = student_id\n",
        "\n",
        "    def study(self):\n",
        "        print(f\"{self.name} is studying.\")\n",
        "\n",
        "\n",
        "class Professor(Person):\n",
        "    def __init__(self, name, age, gender, department):\n",
        "        super().__init__(name, age, gender)\n",
        "        self.department = department\n",
        "\n",
        "    def teach(self):\n",
        "        print(f\"{self.name} is teaching {self.department} students.\")\n",
        "\n",
        "\n",
        "# Example of using the classes in a university context\n",
        "student1 = Student(\"Alice\", 20, \"female\", \"S12345\")\n",
        "professor1 = Professor(\"Dr. Smith\", 45, \"male\", \"Computer Science\")\n",
        "\n",
        "student1.introduce()\n",
        "student1.study()\n",
        "\n",
        "professor1.introduce()\n",
        "professor1.teach()\n"
      ],
      "metadata": {
        "colab": {
          "base_uri": "https://localhost:8080/"
        },
        "id": "3AeNbGJnruPT",
        "outputId": "cebbff7c-0d97-453f-a99c-3eca7958c90d"
      },
      "execution_count": null,
      "outputs": [
        {
          "output_type": "stream",
          "name": "stdout",
          "text": [
            "Hello, my name is Alice, I am 20 years old and I am female.\n",
            "Alice is studying.\n",
            "Hello, my name is Dr. Smith, I am 45 years old and I am male.\n",
            "Dr. Smith is teaching Computer Science students.\n"
          ]
        }
      ]
    },
    {
      "cell_type": "markdown",
      "source": [
        "Encapsulation:\n",
        "- 1. Explain the concept of encapsulation in Python. What is its role in object-oriented programming?\n"
      ],
      "metadata": {
        "id": "b_9k2XH2Qwbu"
      }
    },
    {
      "cell_type": "markdown",
      "source": [
        "- Encapsulation is described as the binding of data and the functions that alter it in Object-Oriented Programming. Encapsulation makes a class's variables or data concealed from other classes and that they can only be accessible through member functions of the class in which it is stated.\n",
        "Let us consider the following example:\n",
        "- In a company, there are different divisions such as accounts, finance, sales, and so on. The finance department’s duty is to keep track of all financial data and the transactions performed on them. Similarly, the sales department’s duty is to keep track of all sales-related activities.\n",
        "- Let us assume that an official from the finance department requires the sales data for a specific month. In this scenario, he cannot access the sales section's data directly. An official from the sales department must be contacted because only he can access the data. Here, the process of asking the sales officials for the data depicts encapsulation. The sales department's data and the people who can influence it are bundled together under the category \"sales section.\"\n",
        "\n",
        "- Key Aspects of Encapsulation:\n",
        " -  Data Hiding: Encapsulation hides the internal state of an object from the outside world. This means that the attributes of a class are typically declared as private or protected, preventing direct access or modification by external code.\n",
        "\n",
        "- Access Control: Encapsulation allows the class to define specific methods for accessing and modifying its data. By providing a controlled interface, encapsulation ensures that the object's state is accessed and modified according to predefined rules, promoting data integrity and security.\n",
        "\n",
        "- Abstraction: Encapsulation facilitates abstraction by exposing only essential details of an object's behavior while hiding implementation details. Users of the class interact with its public interface (methods) without needing to know how the class internally manages its data.\n",
        "\n",
        "- Modularity: Encapsulation promotes modularity by organizing code into self-contained units (classes). Each class encapsulates its own data and behavior, allowing changes to be made to one class without affecting other parts of the program. This enhances code maintainability and reusability.\n",
        "\n",
        "- Role of Encapsulation in OOP:\n",
        "- Data Protection: Encapsulation protects the internal state of objects from unintended access and modification, preventing potential bugs and ensuring data consistency.\n",
        "\n",
        "- Information Hiding: Encapsulation hides the implementation details of a class, reducing complexity and improving code readability. This helps developers focus on the essential aspects of the class's interface without being distracted by internal details.\n",
        "\n",
        "- Enhanced Security: By controlling access to data through methods, encapsulation enhances security by enforcing validation and access restrictions. This prevents unauthorized manipulation of sensitive data.\n",
        "\n",
        "- Code Maintainability: Encapsulation promotes code maintainability by encapsulating related functionality within classes. Changes to the internal implementation of a class can be made without affecting other parts of the codebase, reducing the risk of unintended side effects."
      ],
      "metadata": {
        "id": "gpUN5B939uNi"
      }
    },
    {
      "cell_type": "code",
      "source": [],
      "metadata": {
        "id": "Yq1iuqyJ1Iou"
      },
      "execution_count": null,
      "outputs": []
    },
    {
      "cell_type": "markdown",
      "source": [
        "- 2. Describe the key principles of encapsulation, including access control and data hiding.\n"
      ],
      "metadata": {
        "id": "A28Yzfssxw3L"
      }
    },
    {
      "cell_type": "markdown",
      "source": [
        "- Encapsulation in object-oriented programming (OOP) is based on several key principles, including access control and data hiding, which together facilitate the creation of robust and maintainable software systems.\n",
        "\n",
        "- Data Hiding:\n",
        "  - Definition: Data hiding involves restricting direct access to the internal state (attributes) of an object from outside the class definition.\n",
        "      - Private Attributes: In many object-oriented languages like Python, attributes are typically declared as private by prefixing them with underscores (_). This convention indicates that these attributes are intended for internal use only and should not be accessed directly from outside the class.\n",
        "\n",
        "      - Encapsulation: Data hiding is achieved through encapsulation, where the class exposes a controlled interface (methods) for accessing and modifying its internal state. This allows the class to maintain control over how its data is accessed and modified, promoting data integrity and security.\n",
        "\n",
        "      - Information Hiding: Data hiding also involves hiding the implementation details of a class, reducing the complexity and improving the maintainability of the codebase. By hiding unnecessary details, developers can focus on the essential aspects of the class's interface without being concerned about internal implementation changes.\n",
        "\n",
        "- Access Control:\n",
        "Definition: Access control determines the level of accessibility of the attributes and methods of a class from outside the class definition.\n",
        "\n",
        "   - Public Interface: Classes typically define a public interface consisting of methods that are accessible from outside the class. This interface defines how users interact with the class and provides a way to access and modify the object's state.\n",
        "\n",
        "  - Private and Protected Attributes/Methods: In addition to public methods, classes may also define private and protected attributes/methods. Private attributes/methods are only accessible within the class itself, while protected attributes/methods are accessible within the class and its subclasses.\n",
        "\n",
        "  - Encapsulation: Access control plays a crucial role in encapsulation by enforcing the principle of data hiding. It ensures that the internal state of an object is accessed and modified only through well-defined methods, preventing unintended manipulation and promoting encapsulation.\n",
        "\n",
        "  - encapsulation relies on the principles of access control and data hiding to create well-structured and maintainable object-oriented designs. By encapsulating data and behavior within classes and controlling access to them, encapsulation promotes data integrity, security, modularity, and abstraction in software systems."
      ],
      "metadata": {
        "id": "5W9hye6CB6it"
      }
    },
    {
      "cell_type": "code",
      "source": [],
      "metadata": {
        "id": "xZf-TJr11JO8"
      },
      "execution_count": null,
      "outputs": []
    },
    {
      "cell_type": "markdown",
      "source": [
        "3. How can you achieve encapsulation in Python classes? Provide an example.\n"
      ],
      "metadata": {
        "id": "UkgWJUmGxzvS"
      }
    },
    {
      "cell_type": "markdown",
      "source": [
        "- encapsulation can be achieved through the use of private attributes and methods, along with the concept of property decorators for controlled attribute access.\n",
        "\n",
        "- Using Private Attributes and Methods:\n",
        "\n",
        "  - By convention, attributes or methods intended for internal use within a class are prefixed with a single underscore _, indicating that they are private and should not be accessed directly from outside the class. However, Python does not enforce strict access control like some other languages, so this convention relies on developers to respect it."
      ],
      "metadata": {
        "id": "C8JL25r7EkfT"
      }
    },
    {
      "cell_type": "code",
      "source": [
        "class Bankaccount:\n",
        "  def __init__(self, account_number, balance):\n",
        "    self._account_number = account_number #private attribute\n",
        "    self._balance = balance #private attribute\n",
        "\n",
        "  def _calculate_interest(self):\n",
        "    #Private method\n",
        "    return self._balance * 0.05 #Simple interest calculation\n",
        "\n",
        "  def deposite(self, amount):\n",
        "    self.balance += amount\n",
        "\n",
        "  def withdraw(self, amount):\n",
        "    if  amount <= self.balance:\n",
        "      self.balance -= amount\n",
        "    else:\n",
        "      print(\"Insufficient balance\")\n",
        "\n",
        "  def get_balance(self):\n",
        "    return self._balance"
      ],
      "metadata": {
        "id": "N6yppn471H_B"
      },
      "execution_count": null,
      "outputs": []
    },
    {
      "cell_type": "markdown",
      "source": [
        "Using Property Decorators:\n",
        "  - Python provides property decorators to define getter, setter, and deleter methods for controlling attribute access. This allows you to define custom behavior when getting or setting attribute values."
      ],
      "metadata": {
        "id": "EgmP_7-wGbNz"
      }
    },
    {
      "cell_type": "code",
      "source": [
        "class Person:\n",
        "  def __init__(self, name, age):\n",
        "    self._name = name\n",
        "    self._age = age\n",
        "\n",
        "  @property\n",
        "  def name(self):\n",
        "    return self._name\n",
        "\n",
        "  @name.setter\n",
        "  def name(self, value):\n",
        "    self._name = value\n",
        "\n",
        "  @property\n",
        "  def age(self):\n",
        "    return self._age\n",
        "\n",
        "  @age.setter\n",
        "  def age(self, value):\n",
        "    self._age = value\n",
        "\n",
        "person = Person(\"Abhi\", 26)\n",
        "print(person.name)\n",
        "person.name = \"Bob\"\n",
        "print(person.name)\n"
      ],
      "metadata": {
        "colab": {
          "base_uri": "https://localhost:8080/"
        },
        "id": "FezuSXk9Gb6B",
        "outputId": "b8bbdd4c-189a-47fb-ca34-666f733a9a88"
      },
      "execution_count": null,
      "outputs": [
        {
          "output_type": "stream",
          "name": "stdout",
          "text": [
            "Abhi\n",
            "Bob\n"
          ]
        }
      ]
    },
    {
      "cell_type": "markdown",
      "source": [
        "4. Discuss the difference between public, private, and protected access modifiers in Python.\n"
      ],
      "metadata": {
        "id": "VPzV1JFbx2BN"
      }
    },
    {
      "cell_type": "markdown",
      "source": [
        "- access modifiers are not strictly enforced like in some other object-oriented programming languages such as Java or C++. However, Python provides conventions and mechanisms to control access to class members. These access modifiers include public, private, and protected, which affect how attributes and methods are accessed and modified outside the class definition.\n",
        "\n",
        "Public Access Modifier:\n",
        "  - In Python, attributes and methods without any leading underscore are considered public by convention. Public members can be accessed and modified from outside the class definition without any restrictions."
      ],
      "metadata": {
        "id": "uZqmHMgWIREy"
      }
    },
    {
      "cell_type": "code",
      "source": [
        "class MyClass:\n",
        "    def __init__(self):\n",
        "        self.public_attribute = \"Public attribute\"\n",
        "\n",
        "    def public_method(self):\n",
        "        return \"Public method\"\n",
        "\n",
        "obj = MyClass()\n",
        "print(obj.public_attribute)\n",
        "print(obj.public_method())\n"
      ],
      "metadata": {
        "colab": {
          "base_uri": "https://localhost:8080/"
        },
        "id": "vAGsEhTh1HLU",
        "outputId": "1991fd7a-7d1b-4171-f314-479ef18cce0e"
      },
      "execution_count": null,
      "outputs": [
        {
          "output_type": "stream",
          "name": "stdout",
          "text": [
            "Public attribute\n",
            "Public method\n"
          ]
        }
      ]
    },
    {
      "cell_type": "markdown",
      "source": [
        "Private Access Modifier:\n",
        "  - Attributes and methods prefixed with a single underscore _ are conventionally considered private. Although Python does not enforce strict access control, this convention indicates that these members should not be accessed directly from outside the class."
      ],
      "metadata": {
        "id": "ZGSmOgfzLqDg"
      }
    },
    {
      "cell_type": "code",
      "source": [
        "class MyClass:\n",
        "    def __init__(self):\n",
        "        self._private_attribute = \"Private attribute\"\n",
        "\n",
        "    def _private_method(self):\n",
        "        return \"Private method\"\n",
        "obj = MyClass()\n",
        "print(obj._private_attribute)\n",
        "print(obj._private_method())"
      ],
      "metadata": {
        "colab": {
          "base_uri": "https://localhost:8080/"
        },
        "id": "hq2N-JCQL5HD",
        "outputId": "8896f317-4622-495c-9f85-b08e52f4ce73"
      },
      "execution_count": null,
      "outputs": [
        {
          "output_type": "stream",
          "name": "stdout",
          "text": [
            "Private attribute\n",
            "Private method\n"
          ]
        }
      ]
    },
    {
      "cell_type": "markdown",
      "source": [
        "5. Create a Python class called `Person` with a private attribute `__name`. Provide methods to get and set the\n",
        "name attribute.\n"
      ],
      "metadata": {
        "id": "GFSUrMeux6x0"
      }
    },
    {
      "cell_type": "code",
      "source": [
        "class Person:\n",
        "    def __init__(self, name):\n",
        "        self.__name = name\n",
        "\n",
        "    def get_name(self):\n",
        "        return self.__name\n",
        "\n",
        "    def set_name(self, name):\n",
        "        self.__name = name\n",
        "\n",
        "# Example usage\n",
        "person = Person(\"Alice\")\n",
        "print(person.get_name())\n",
        "person.set_name(\"Bob\")\n",
        "print(person.get_name())\n"
      ],
      "metadata": {
        "colab": {
          "base_uri": "https://localhost:8080/"
        },
        "id": "Y9zMgd2-1K4n",
        "outputId": "9958db15-2709-4e4f-da01-46a903f29238"
      },
      "execution_count": null,
      "outputs": [
        {
          "output_type": "stream",
          "name": "stdout",
          "text": [
            "Alice\n",
            "Bob\n"
          ]
        }
      ]
    },
    {
      "cell_type": "markdown",
      "source": [
        "\n",
        "6. Explain the purpose of getter and setter methods in encapsulation. Provide examples.\n"
      ],
      "metadata": {
        "id": "Ep_FKM-W1LSs"
      }
    },
    {
      "cell_type": "markdown",
      "source": [
        "- Getter and setter methods are used in encapsulation to provide controlled access to private attributes of a class. They allow for reading and modifying the values of private attributes while enforcing validation or performing additional operations if needed. This helps maintain data integrity and encapsulation, as the internal state of an object is accessed and modified through well-defined methods rather than directly accessing the attributes.\n",
        "\n",
        "- Purpose of Getter Methods:\n",
        "  - Getter methods are used to retrieve the values of private attributes. They provide a way to access the internal state of an object without directly accessing its private attributes."
      ],
      "metadata": {
        "id": "FWtxGlVVMt6V"
      }
    },
    {
      "cell_type": "code",
      "source": [
        "class Person:\n",
        "  def __init__(self, name):\n",
        "    self.__name = name\n",
        "\n",
        "  def get_name(self):\n",
        "    return self.__name\n",
        "\n",
        "person = Person(\"Abhi\")\n",
        "print(person.get_name())"
      ],
      "metadata": {
        "colab": {
          "base_uri": "https://localhost:8080/"
        },
        "id": "tnC4C_mXNMkO",
        "outputId": "637196e9-b70a-4521-e734-2a925b0673d6"
      },
      "execution_count": null,
      "outputs": [
        {
          "output_type": "stream",
          "name": "stdout",
          "text": [
            "Abhi\n"
          ]
        }
      ]
    },
    {
      "cell_type": "markdown",
      "source": [
        "Purpose of Setter Methods:\n",
        "  - Setter methods are used to modify the values of private attributes. They provide a way to update the internal state of an object while enforcing validation or performing additional operations if needed."
      ],
      "metadata": {
        "id": "L1VoJZycNpvC"
      }
    },
    {
      "cell_type": "code",
      "source": [
        "class Person:\n",
        "    def __init__(self, name):\n",
        "        self.__name = name\n",
        "\n",
        "    def set_name(self, name):\n",
        "        # Add validation if needed\n",
        "        self.__name = name\n",
        "\n",
        "    def get_name(self):\n",
        "        return self.__name\n",
        "\n",
        "# Example usage\n",
        "person = Person(\"Alice\")\n",
        "person.set_name(\"Bob\")\n",
        "print(person.get_name())\n"
      ],
      "metadata": {
        "colab": {
          "base_uri": "https://localhost:8080/"
        },
        "id": "XNFwEvZ21g4k",
        "outputId": "2b075b23-a650-4ff7-a675-380e8d117018"
      },
      "execution_count": null,
      "outputs": [
        {
          "output_type": "stream",
          "name": "stdout",
          "text": [
            "Bob\n"
          ]
        }
      ]
    },
    {
      "cell_type": "markdown",
      "source": [
        "Benefits of Getter and Setter Methods:\n",
        "  - Encapsulation: Getter and setter methods promote encapsulation by providing controlled access to private attributes, ensuring that the internal state of an object is accessed and modified through well-defined interfaces.\n",
        "\n",
        "  - Data Validation: Setter methods allow validation of input values before setting the attribute, ensuring data integrity and preventing invalid states.\n",
        "\n",
        "  - Abstraction: Getter and setter methods abstract the internal representation of data, allowing the implementation details to be changed without affecting the interface provided to users of the class.\n",
        "\n",
        "  - Flexibility: Getter and setter methods provide flexibility to add additional logic or perform operations before getting or setting attribute values, such as logging, caching, or triggering events."
      ],
      "metadata": {
        "id": "cqBG_Ps2PP9A"
      }
    },
    {
      "cell_type": "markdown",
      "source": [
        "7. What is name mangling in Python, and how does it affect encapsulation?\n"
      ],
      "metadata": {
        "id": "KZQvmBzH1hP0"
      }
    },
    {
      "cell_type": "code",
      "source": [
        "class MyClass:\n",
        "    def __init__(self):\n",
        "        self.__private_attribute = 42\n",
        "\n",
        "    def get_private_attribute(self):\n",
        "        return self.__private_attribute\n",
        "\n",
        "# Attempting to access the attribute directly from outside the class\n",
        "obj = MyClass()\n",
        "#print(obj.__private_attribute)  # Raises an AttributeError: 'MyClass' object has no attribute '__private_attribute'\n",
        "\n",
        "# Accessing the attribute using name mangling\n",
        "print(obj._MyClass__private_attribute)  # Output: 42\n",
        "\n",
        "# Accessing the attribute using a getter method\n",
        "print(obj.get_private_attribute())  #42\n"
      ],
      "metadata": {
        "colab": {
          "base_uri": "https://localhost:8080/"
        },
        "id": "PlLEkdrTP5QL",
        "outputId": "512c0bc6-7202-4829-c711-287c3910dfe1"
      },
      "execution_count": null,
      "outputs": [
        {
          "output_type": "stream",
          "name": "stdout",
          "text": [
            "42\n",
            "42\n"
          ]
        }
      ]
    },
    {
      "cell_type": "code",
      "source": [],
      "metadata": {
        "id": "gd9239L91jLx"
      },
      "execution_count": null,
      "outputs": []
    },
    {
      "cell_type": "markdown",
      "source": [
        "8. Create a Python class called `BankAccount` with private attributes for the account balance (`__balance`) and account number (`__account_number`). Provide methods for depositing and withdrawing money.\n"
      ],
      "metadata": {
        "id": "4kbpvdeT1jZ1"
      }
    },
    {
      "cell_type": "code",
      "source": [
        "class BankAccount:\n",
        "  def __init__(self, account_number, initial_balance = 0):\n",
        "    self.__account_number = account_number\n",
        "    self.__balance = initial_balance\n",
        "\n",
        "  def deposit(self, amount):\n",
        "    if amount > 0:\n",
        "      self.__balance += amount\n",
        "      print(f\"deposited ${amount}. New balance: ${self.__balance}\")\n",
        "    else:\n",
        "      print(\"Invalid deposite\")\n",
        "\n",
        "  def withdraw(self, amount):\n",
        "    if amount <= self.__balance:\n",
        "      self.__balance -= amount\n",
        "      print(f\"Withdraw ${amount}. New balance: ${self.__balance}\")\n",
        "    else:\n",
        "      print(\"Insufficient fund\")\n",
        "\n",
        "  def get_balance(self):\n",
        "    return self.__balance\n",
        "\n",
        "  def get_account_number(self):\n",
        "    return self.__account_number\n",
        "\n",
        "account = BankAccount(\"1234567890\", 1000)\n",
        "print(\"Account Number:\", account.get_account_number())\n",
        "print(\"Initial Balance:\", account.get_balance())\n",
        "\n",
        "account.deposit(50000)\n",
        "account.withdraw(20000)\n",
        "account.withdraw(1500)\n",
        "\n",
        "print(\"Final Balance:\", account.get_balance())"
      ],
      "metadata": {
        "colab": {
          "base_uri": "https://localhost:8080/"
        },
        "id": "V-AhNk8T1ldR",
        "outputId": "4e24bc2a-ebea-4b6c-f0b7-cdbf519b2d16"
      },
      "execution_count": null,
      "outputs": [
        {
          "output_type": "stream",
          "name": "stdout",
          "text": [
            "Account Number: 1234567890\n",
            "Initial Balance: 1000\n",
            "deposited $50000. New balance: $51000\n",
            "Withdraw $20000. New balance: $31000\n",
            "Withdraw $1500. New balance: $29500\n",
            "Final Balance: 29500\n"
          ]
        }
      ]
    },
    {
      "cell_type": "markdown",
      "source": [],
      "metadata": {
        "id": "02moBqyC1ovg"
      }
    },
    {
      "cell_type": "markdown",
      "source": [
        "9. Discuss the advantages of encapsulation in terms of code maintainability and security.\n"
      ],
      "metadata": {
        "id": "Zi9Oyv8X1lrY"
      }
    },
    {
      "cell_type": "markdown",
      "source": [
        "Code Maintainability:\n",
        "  Modularity: Encapsulation promotes modularity by encapsulating related data and behavior within a class. This modular design makes it easier to understand and manage code, as each class represents a self-contained unit with well-defined responsibilities.\n",
        "\n",
        "  - Abstraction: Encapsulation allows developers to abstract away unnecessary implementation details and expose only essential features through a public interface. This abstraction simplifies code consumption and reduces dependencies, making it easier to update or replace the internal implementation without affecting other parts of the codebase.\n",
        "\n",
        "  - Encapsulation of Complexity: Complex logic and data structures can be encapsulated within classes, reducing the complexity of individual components. This simplification makes code easier to understand, debug, and maintain over time.\n",
        "\n",
        "  - Ease of Modification: Encapsulation limits the scope of changes required when modifying code. By localizing changes to specific classes or modules, encapsulation reduces the risk of unintended side effects and facilitates incremental updates without disrupting the entire system.\n",
        "\n",
        "Security:\n",
        "  - Data Hiding: Encapsulation hides the internal state of objects and provides controlled access through well-defined interfaces. This prevents direct manipulation of sensitive data from outside the class, reducing the risk of data corruption, tampering, or unauthorized access.\n",
        "\n",
        "  - Access Control: Encapsulation allows developers to enforce access control policies by restricting access to certain attributes or methods. By defining public, private, and protected members, encapsulation ensures that only authorized code can interact with sensitive parts of the system, enhancing security.\n",
        "\n",
        "  - Encapsulation of Security Measures: Security-related logic, such as authentication, authorization, and validation, can be encapsulated within classes. This centralization of security measures makes it easier to implement and maintain consistent security policies across the codebase.\n",
        "\n",
        "  - Prevention of Inadvertent Changes: Encapsulation prevents unintended modifications to critical data or behavior by encapsulating them within classes. By exposing only well-defined interfaces, encapsulation reduces the likelihood of accidental misuse or manipulation of sensitive components, improving overall system robustness and security."
      ],
      "metadata": {
        "id": "y5YT8_rNT62B"
      }
    },
    {
      "cell_type": "code",
      "source": [],
      "metadata": {
        "id": "6_Qqh7Qh1vaO"
      },
      "execution_count": null,
      "outputs": []
    },
    {
      "cell_type": "markdown",
      "source": [
        "10. How can you access private attributes in Python? Provide an example demonstrating the use of name\n",
        "mangling.\n"
      ],
      "metadata": {
        "id": "IT0WDHfg1vt1"
      }
    },
    {
      "cell_type": "markdown",
      "source": [
        "-\n",
        "In Python, private attributes can be accessed indirectly from outside the class using a mechanism called name mangling. When an attribute is declared with a double underscore prefix (__) within a class definition, Python internally changes its name to include the class name as a prefix. This process effectively hides the attribute's name from external code but allows it to be accessed using the mangled name."
      ],
      "metadata": {
        "id": "gbOjVU0VVbIE"
      }
    },
    {
      "cell_type": "code",
      "source": [
        "class MyClass:\n",
        "    def __init__(self):\n",
        "        self.__private_attribute = \"Private attribute\"\n",
        "\n",
        "# Attempting to access the private attribute directly from outside the class\n",
        "obj = MyClass()\n",
        "# This will raise an AttributeError because the attribute is private\n",
        "# print(obj.__private_attribute)\n",
        "\n",
        "# Accessing the private attribute using name mangling\n",
        "print(obj._MyClass__private_attribute)  # Output: Private attribute\n"
      ],
      "metadata": {
        "colab": {
          "base_uri": "https://localhost:8080/"
        },
        "id": "-KC6lRgz1xmx",
        "outputId": "bf2f589e-21f3-4be3-e2da-fb853fd0e24d"
      },
      "execution_count": null,
      "outputs": [
        {
          "output_type": "stream",
          "name": "stdout",
          "text": [
            "Private attribute\n"
          ]
        }
      ]
    },
    {
      "cell_type": "markdown",
      "source": [
        "11. Create a Python class hierarchy for a school system, including classes for students, teachers, and courses,\n",
        "and implement encapsulation principles to protect sensitive information.\n"
      ],
      "metadata": {
        "id": "P1MYInJr1x20"
      }
    },
    {
      "cell_type": "code",
      "source": [
        "class Student:\n",
        "    def __init__(self, name, student_id, age):\n",
        "        self._name = name\n",
        "        self._student_id = student_id\n",
        "        self._age = age\n",
        "        self._courses = []  # List to store enrolled courses\n",
        "\n",
        "    def enroll_course(self, course):\n",
        "        self._courses.append(course)\n",
        "\n",
        "    def get_courses(self):\n",
        "        return self._courses\n",
        "\n",
        "    def __str__(self):\n",
        "        return f\"Student: {self._name}, ID: {self._student_id}, Age: {self._age}\"\n",
        "\n",
        "\n",
        "class Teacher:\n",
        "    def __init__(self, name, teacher_id, age):\n",
        "        self._name = name\n",
        "        self._teacher_id = teacher_id\n",
        "        self._age = age\n",
        "        self._courses_taught = []  # List to store courses taught\n",
        "\n",
        "    def assign_course(self, course):\n",
        "        self._courses_taught.append(course)\n",
        "\n",
        "    def get_courses_taught(self):\n",
        "        return self._courses_taught\n",
        "\n",
        "    def __str__(self):\n",
        "        return f\"Teacher: {self._name}, ID: {self._teacher_id}, Age: {self._age}\"\n",
        "\n",
        "\n",
        "class Course:\n",
        "    def __init__(self, course_code, course_name):\n",
        "        self._course_code = course_code\n",
        "        self._course_name = course_name\n",
        "\n",
        "    def __str__(self):\n",
        "        return f\"Course: {self._course_code} - {self._course_name}\"\n",
        "\n",
        "\n",
        "# Example usage:\n",
        "\n",
        "# Create students\n",
        "student1 = Student(\"Alice\", \"S001\", 18)\n",
        "student2 = Student(\"Bob\", \"S002\", 17)\n",
        "\n",
        "# Create teacher\n",
        "teacher = Teacher(\"Mr. Smith\", \"T001\", 35)\n",
        "\n",
        "# Create courses\n",
        "math_course = Course(\"MATH101\", \"Mathematics\")\n",
        "physics_course = Course(\"PHYS101\", \"Physics\")\n",
        "\n",
        "# Enroll students in courses\n",
        "student1.enroll_course(math_course)\n",
        "student2.enroll_course(physics_course)\n",
        "\n",
        "# Assign courses to teacher\n",
        "teacher.assign_course(math_course)\n",
        "teacher.assign_course(physics_course)\n",
        "\n",
        "# Print student, teacher, and course details\n",
        "print(student1)\n",
        "print(student2)\n",
        "print(teacher)\n",
        "print(\"Courses enrolled by student1:\", [str(course) for course in student1.get_courses()])\n",
        "print(\"Courses taught by teacher:\", [str(course) for course in teacher.get_courses_taught()])\n"
      ],
      "metadata": {
        "colab": {
          "base_uri": "https://localhost:8080/"
        },
        "id": "5Q7KMSMA1zp0",
        "outputId": "0545227c-d9dd-42dc-c9a5-235d71cfcbe2"
      },
      "execution_count": null,
      "outputs": [
        {
          "output_type": "stream",
          "name": "stdout",
          "text": [
            "Student: Alice, ID: S001, Age: 18\n",
            "Student: Bob, ID: S002, Age: 17\n",
            "Teacher: Mr. Smith, ID: T001, Age: 35\n",
            "Courses enrolled by student1: ['Course: MATH101 - Mathematics']\n",
            "Courses taught by teacher: ['Course: MATH101 - Mathematics', 'Course: PHYS101 - Physics']\n"
          ]
        }
      ]
    },
    {
      "cell_type": "markdown",
      "source": [
        "12. Explain the concept of property decorators in Python and how they relate to encapsulation.\n"
      ],
      "metadata": {
        "id": "jtw1qlA_1z8s"
      }
    },
    {
      "cell_type": "markdown",
      "source": [
        "-\n",
        "In Python, property decorators (@property, @<attribute>.setter, @<attribute>.deleter) are used to define special methods that control the behavior of attribute access, assignment, and deletion. Property decorators provide a way to encapsulate the implementation details of attribute access and modification, allowing developers to enforce validation, perform additional operations, or abstract away the internal representation of data.\n",
        "\n",
        "-\n",
        "Purpose of Property Decorators:\n",
        "Getter Method (@property): The @property decorator allows defining a method that behaves like a read-only property. When accessed, this method is called automatically without requiring explicit function call syntax. Getter methods are useful for abstracting the internal representation of data and providing controlled access to attributes.\n",
        "\n",
        "- Setter Method (@<attribute>.setter): The @<attribute>.setter decorator allows defining a method that sets the value of an attribute. When assigned a value, this method is called automatically, allowing validation or additional operations to be performed before setting the attribute. Setter methods are useful for enforcing data validation rules and maintaining data integrity.\n",
        "\n",
        "- Deleter Method (@<attribute>.deleter): The @<attribute>.deleter decorator allows defining a method that deletes an attribute's value. When the attribute is deleted, this method is called automatically, allowing cleanup or additional operations to be performed before removing the attribute. Deleter methods are useful for resource management or performing cleanup actions when an attribute is no longer needed.\n",
        "\n",
        "- Relationship to Encapsulation:\n",
        "  - Property decorators help enforce encapsulation by providing controlled access to class attributes. Instead of directly accessing or modifying attributes, users of the class interact with getter, setter, and deleter methods, which encapsulate the implementation details and enforce validation rules or perform additional operations as needed. This ensures that the internal state of objects is accessed and modified through well-defined interfaces, promoting data integrity, security, and abstraction."
      ],
      "metadata": {
        "id": "Z3HR7-ISdK6f"
      }
    },
    {
      "cell_type": "code",
      "source": [
        "class Person:\n",
        "    def __init__(self, name, age):\n",
        "        self._name = name\n",
        "        self._age = age\n",
        "\n",
        "    @property\n",
        "    def name(self):\n",
        "        return self._name\n",
        "\n",
        "    @name.setter\n",
        "    def name(self, value):\n",
        "        if isinstance(value, str):\n",
        "            self._name = value\n",
        "        else:\n",
        "            raise TypeError(\"Name must be a string\")\n",
        "\n",
        "    @property\n",
        "    def age(self):\n",
        "        return self._age\n",
        "\n",
        "    @age.setter\n",
        "    def age(self, value):\n",
        "        if isinstance(value, int) and value >= 0:\n",
        "            self._age = value\n",
        "        else:\n",
        "            raise ValueError(\"Age must be a non-negative integer\")\n",
        "\n",
        "# Example usage\n",
        "person = Person(\"Alice\", 30)\n",
        "print(person.name)\n",
        "person.name = \"Bob\"\n",
        "print(person.name)\n",
        "\n",
        "# Attempting to set name to an invalid type will raise an error\n",
        "# person.name = 123  # Raises TypeError: Name must be a string\n"
      ],
      "metadata": {
        "colab": {
          "base_uri": "https://localhost:8080/"
        },
        "id": "cdEu9i3K12E5",
        "outputId": "90a78f3d-72b4-4652-86e7-7e82378059e0"
      },
      "execution_count": null,
      "outputs": [
        {
          "output_type": "stream",
          "name": "stdout",
          "text": [
            "Alice\n",
            "Bob\n"
          ]
        }
      ]
    },
    {
      "cell_type": "markdown",
      "source": [
        "13. What is data hiding, and why is it important in encapsulation? Provide examples.\n"
      ],
      "metadata": {
        "id": "hxpwZ8Ih12S1"
      }
    },
    {
      "cell_type": "markdown",
      "source": [
        "- Data hiding is a fundamental concept in encapsulation that involves concealing the internal state (data) of an object within a class, making it inaccessible from outside the class definition. By restricting direct access to the internal state, data hiding promotes encapsulation by ensuring that the object's state is accessed and modified only through well-defined interfaces (methods) provided by the class. This helps maintain data integrity, security, and abstraction, while also allowing for easier maintenance and evolution of the codebase.\n",
        "\n",
        "- Importance of Data Hiding in Encapsulation:\n",
        "  Data Integrity: Data hiding prevents external code from directly accessing and modifying the internal state of an object. This reduces the risk of accidental or unauthorized modifications to the object's data, ensuring data integrity and consistency.\n",
        "\n",
        "  - Security: Hiding sensitive data from outside the class helps prevent unauthorized access or manipulation. By exposing only essential interfaces for accessing and modifying data, data hiding enhances security and reduces the risk of data breaches or malicious attacks.\n",
        "\n",
        "  - Abstraction: Data hiding allows developers to abstract away unnecessary implementation details and expose only essential features through well-defined interfaces. This simplifies code consumption and reduces dependencies, promoting code maintainability and evolution.\n",
        "\n",
        "  - Encapsulation of Complexity: By encapsulating data within classes and hiding unnecessary details, data hiding reduces the complexity of individual components. This makes code easier to understand, debug, and maintain, especially in large-scale applications.\n",
        "\n",
        "Examples of Data Hiding:\n",
        "Private Attributes: Declaring attributes as private within a class hides them from external code. Access to these attributes is provided through getter and setter methods, ensuring controlled access and modification."
      ],
      "metadata": {
        "id": "AMjFxjwBdvx-"
      }
    },
    {
      "cell_type": "code",
      "source": [
        "class BankAccount:\n",
        "    def __init__(self, account_number, initial_balance=0):\n",
        "        self.__account_number = account_number\n",
        "        self.__balance = initial_balance\n",
        "\n",
        "    def get_balance(self):\n",
        "        return self.__balance\n",
        "\n",
        "    def set_balance(self, balance):\n",
        "        self.__balance = balance\n"
      ],
      "metadata": {
        "id": "Le5nJHvz14PG"
      },
      "execution_count": null,
      "outputs": []
    },
    {
      "cell_type": "markdown",
      "source": [
        "Protected Methods: Methods that are intended for internal use within a class or its subclasses can be declared as protected. While they are still accessible from outside the class, their names are prefixed with a single underscore to indicate that they should be treated as internal implementation details."
      ],
      "metadata": {
        "id": "98pXPsIaeOSd"
      }
    },
    {
      "cell_type": "code",
      "source": [
        "class BaseClass:\n",
        "    def _protected_method(self):\n",
        "        # Implementation details...\n"
      ],
      "metadata": {
        "id": "wYDR0sE2edUf"
      },
      "execution_count": null,
      "outputs": []
    },
    {
      "cell_type": "code",
      "source": [],
      "metadata": {
        "id": "6JyXQonjecJy"
      },
      "execution_count": null,
      "outputs": []
    },
    {
      "cell_type": "markdown",
      "source": [
        "14. Create a Python class called `Employee` with private attributes for salary (`__salary`) and employee ID (`__employee_id`). Provide a method to calculate yearly bonuses.\n"
      ],
      "metadata": {
        "id": "-7CF0b8m14dO"
      }
    },
    {
      "cell_type": "code",
      "source": [
        "class Employee:\n",
        "    def __init__(self, salary, employee_id):\n",
        "        self.__salary = salary\n",
        "        self.__employee_id = employee_id\n",
        "\n",
        "    def calculate_yearly_bonus(self, bonus_percentage):\n",
        "        bonus_amount = self.__salary * (bonus_percentage / 100)\n",
        "        return bonus_amount\n",
        "\n",
        "# Example usage:\n",
        "employee = Employee(50000, \"E1234\")\n",
        "yearly_bonus = employee.calculate_yearly_bonus(10)  # 10% bonus\n",
        "print(\"Yearly Bonus:\", yearly_bonus)\n"
      ],
      "metadata": {
        "colab": {
          "base_uri": "https://localhost:8080/"
        },
        "id": "cYJ8GSEt16Up",
        "outputId": "a1968d82-41b2-4be7-f9a7-cb15fdcd4cd1"
      },
      "execution_count": null,
      "outputs": [
        {
          "output_type": "stream",
          "name": "stdout",
          "text": [
            "Yearly Bonus: 5000.0\n"
          ]
        }
      ]
    },
    {
      "cell_type": "markdown",
      "source": [
        "15. Discuss the use of accessors and mutators in encapsulation. How do they help maintain control over\n",
        "attribute access?\n"
      ],
      "metadata": {
        "id": "juqnn-tF16gV"
      }
    },
    {
      "cell_type": "markdown",
      "source": [
        "- Accessors and mutators are methods used in encapsulation to control access to attributes of a class. They provide a controlled interface for retrieving and modifying the values of attributes, allowing developers to enforce validation rules, perform additional operations, or hide the internal representation of data.\n",
        "\n",
        "- Accessors (Getters):\n",
        "  - Accessors, also known as getters, are methods used to retrieve the values of attributes from outside the class. They provide read-only access to the attributes, allowing users to retrieve their values without directly accessing them.\n",
        "\n",
        "- Purpose:\n",
        "\n",
        "  - Encapsulate the internal state of objects by providing controlled access to attributes.\n",
        "  - Enforce read-only access to certain attributes, preventing unintended modifications.\n",
        "  - Abstract away the internal representation of data, allowing the implementation details to be changed without affecting the interface provided to users of the class."
      ],
      "metadata": {
        "id": "A3mC337xfGis"
      }
    },
    {
      "cell_type": "code",
      "source": [
        "class Person:\n",
        "    def __init__(self, name):\n",
        "        self._name = name\n",
        "\n",
        "    def get_name(self):\n",
        "        return self._name\n",
        "\n",
        "person = Person(\"Alice\")\n",
        "print(person.get_name())  # Output: Alice\n"
      ],
      "metadata": {
        "colab": {
          "base_uri": "https://localhost:8080/"
        },
        "id": "Gv7_-SMt18WJ",
        "outputId": "12c979ea-cb30-4eff-f5f0-ae8752553976"
      },
      "execution_count": null,
      "outputs": [
        {
          "output_type": "stream",
          "name": "stdout",
          "text": [
            "Alice\n"
          ]
        }
      ]
    },
    {
      "cell_type": "markdown",
      "source": [
        "- Mutators (Setters):\n",
        "  - Mutators, also known as setters, are methods used to modify the values of attributes from outside the class. They provide a controlled interface for modifying attribute values, allowing developers to enforce validation rules or perform additional operations before setting the values.\n",
        "\n",
        "- Purpose:\n",
        "\n",
        "  - Enforce data validation rules before modifying attribute values, ensuring data integrity.\n",
        "  - Perform additional operations or side effects when modifying attributes, such as logging or triggering events.\n",
        "  - Abstract away the internal representation of data by providing a uniform interface for modifying attributes."
      ],
      "metadata": {
        "id": "zPrLhtpyfcsg"
      }
    },
    {
      "cell_type": "code",
      "source": [
        "class Person:\n",
        "    def __init__(self, name):\n",
        "        self._name = name\n",
        "\n",
        "    def set_name(self, name):\n",
        "        # Add validation if needed\n",
        "        self._name = name\n",
        "\n",
        "    def get_name(self):\n",
        "        return self._name\n",
        "\n",
        "person = Person(\"Alice\")\n",
        "person.set_name(\"Bob\")\n",
        "print(person.get_name())"
      ],
      "metadata": {
        "colab": {
          "base_uri": "https://localhost:8080/"
        },
        "id": "BsoO_B7eftJ-",
        "outputId": "3f2f7c60-fc64-4f4a-d795-a2af2137e490"
      },
      "execution_count": null,
      "outputs": [
        {
          "output_type": "stream",
          "name": "stdout",
          "text": [
            "Bob\n"
          ]
        }
      ]
    },
    {
      "cell_type": "markdown",
      "source": [
        "- Benefits of Accessors and Mutators:\n",
        "  - Controlled Access: Accessors and mutators provide controlled access to attributes, allowing developers to enforce validation rules and perform additional operations while maintaining encapsulation.\n",
        "\n",
        "  - Data Validation: Mutators allow developers to enforce data validation rules before modifying attribute values, ensuring data integrity and preventing invalid states.\n",
        "\n",
        "  - Abstraction: Accessors and mutators abstract away the internal representation of data, allowing developers to change the implementation details without affecting the interface provided to users of the class.\n",
        "\n",
        "  - Flexibility: Accessors and mutators provide flexibility to add additional logic or perform operations before getting or setting attribute values, such as logging, caching, or triggering events."
      ],
      "metadata": {
        "id": "93LXulIigKdu"
      }
    },
    {
      "cell_type": "markdown",
      "source": [
        "16. What are the potential drawbacks or disadvantages of using encapsulation in Python?\n"
      ],
      "metadata": {
        "id": "kSCcGifc18j0"
      }
    },
    {
      "cell_type": "markdown",
      "source": [
        "\n",
        "While encapsulation is a fundamental concept in object-oriented programming that offers numerous benefits, there are also potential drawbacks or disadvantages associated with its use in Python:\n",
        "\n",
        "  - Overhead: Implementing encapsulation in Python often requires defining getter and setter methods for attributes, which can lead to additional code overhead and verbosity, especially for classes with many attributes.\n",
        "\n",
        "  - Complexity: Encapsulation can introduce complexity to codebases, particularly when enforcing access control or implementing validation logic in getter and setter methods. This complexity may make code harder to understand and maintain, especially for beginners.\n",
        "\n",
        "  - Performance Impact: Using getter and setter methods for attribute access can incur a slight performance overhead compared to direct attribute access. While the impact is typically minimal, it may become noticeable in performance-critical applications.\n",
        "\n",
        "  - Boilerplate Code: Encapsulation can lead to the proliferation of boilerplate code, particularly when implementing getter and setter methods for multiple attributes in a class. This can make codebases more verbose and less concise.\n",
        "\n",
        "  - Violation of Pythonic Idioms: Python favors simplicity, readability, and ease of use, and strict encapsulation may sometimes conflict with these principles. Python's philosophy of \"consenting adults\" encourages developers to trust each other to use classes responsibly rather than imposing strict access control.\n",
        "\n",
        "  - Flexibility: Strict encapsulation can limit the flexibility of a class, making it harder to extend or modify its behavior without modifying its implementation. This can hinder code reuse and make classes less adaptable to changing requirements.\n",
        "\n",
        "  - Testing Complexity: Encapsulated classes may be harder to test, especially if their internal state is hidden or if complex validation logic is implemented in getter and setter methods. This can increase the complexity of writing unit tests and may require additional effort to achieve adequate test coverage."
      ],
      "metadata": {
        "id": "b-UPueyZgqmz"
      }
    },
    {
      "cell_type": "code",
      "source": [],
      "metadata": {
        "id": "GwKBMxLF1-aN"
      },
      "execution_count": null,
      "outputs": []
    },
    {
      "cell_type": "markdown",
      "source": [
        "17. Create a Python class for a library system that encapsulates book information, including titles, authors,\n",
        "and availability status.\n"
      ],
      "metadata": {
        "id": "WhHYEJkc1-pk"
      }
    },
    {
      "cell_type": "code",
      "source": [
        "class Book:\n",
        "  def __init__(self, title, author, availability = True):\n",
        "    self._title = title\n",
        "    self._author = author\n",
        "    self._availability = availability\n",
        "\n",
        "  def get_title(self):\n",
        "    return self._title\n",
        "\n",
        "  def get_author(self):\n",
        "    return self._author\n",
        "\n",
        "  def is_availability(self):\n",
        "    return self._availability\n",
        "\n",
        "  def borrow_book(self):\n",
        "    if self._availability:\n",
        "      self._availability = False\n",
        "      print(f\"The book '{self._title}' by {self._author} has been borrowed.\")\n",
        "    else:\n",
        "      print(f\"The book '{self._title}' by {self._author} is currently not available \")\n",
        "\n",
        "  def return_book(self):\n",
        "    if not self._availability:\n",
        "      self._availability = True\n",
        "      print(f\"The book '{self._title}' by {self._author} hasbeen returned\")\n",
        "    else:\n",
        "      print(f\"The book '{self._title}' by {self._author} has already returned or is available. \")\n",
        "\n",
        "book1 = Book(\"Harry Potter and the Philosopher's Stone\", \"J.K. Rowling\")\n",
        "book2 = Book(\"The Great Gatsby\", \"F. Scott Fitzgerald\")\n",
        "\n",
        "# Check book information\n",
        "print(\"Book 1:\", book1.get_title(), \"by\", book1.get_author())\n",
        "print(\"Book 2:\", book2.get_title(), \"by\", book2.get_author())\n",
        "\n",
        "# Borrow a book\n",
        "book1.borrow_book()\n",
        "\n",
        "# Try to borrow a book that is already borrowed\n",
        "book1.borrow_book()\n",
        "\n",
        "# Return a book\n",
        "book1.return_book()\n",
        "\n",
        "# Try to return a book that is already returned\n",
        "book1.return_book()"
      ],
      "metadata": {
        "colab": {
          "base_uri": "https://localhost:8080/"
        },
        "id": "oPgCQupQ2Aiv",
        "outputId": "897e37fc-bcb1-45d1-9ea7-97aecffb46df"
      },
      "execution_count": null,
      "outputs": [
        {
          "output_type": "stream",
          "name": "stdout",
          "text": [
            "Book 1: Harry Potter and the Philosopher's Stone by J.K. Rowling\n",
            "Book 2: The Great Gatsby by F. Scott Fitzgerald\n",
            "The book 'Harry Potter and the Philosopher's Stone' by J.K. Rowling has been borrowed.\n",
            "The book 'Harry Potter and the Philosopher's Stone' by J.K. Rowling is currently not available \n",
            "The book 'Harry Potter and the Philosopher's Stone' by J.K. Rowling hasbeen returned\n",
            "The book 'Harry Potter and the Philosopher's Stone' by J.K. Rowling has already returned or is available. \n"
          ]
        }
      ]
    },
    {
      "cell_type": "markdown",
      "source": [
        "18. Explain how encapsulation enhances code reusability and modularity in Python programs.\n"
      ],
      "metadata": {
        "id": "9clpnr7D2Avo"
      }
    },
    {
      "cell_type": "markdown",
      "source": [
        "Encapsulation enhances code reusability and modularity in Python programs by promoting the following principles:\n",
        "\n",
        "- Abstraction: Encapsulation allows developers to abstract away unnecessary implementation details and expose only essential features through a public interface. By hiding internal implementation details, encapsulation simplifies code consumption and reduces dependencies, making it easier to reuse and integrate components into different parts of the codebase.\n",
        "\n",
        "- Modularity: Encapsulation promotes modularity by encapsulating related data and behavior within a class. Each class represents a self-contained unit with well-defined responsibilities, making it easier to understand, maintain, and reuse code. Modules can be composed of classes that interact with each other through well-defined interfaces, promoting code organization and separation of concerns.\n",
        "\n",
        "- Code Isolation: Encapsulation isolates the internal state and behavior of objects within classes, reducing the likelihood of unintended side effects and conflicts between different parts of the codebase. By encapsulating data and behavior, encapsulation minimizes the scope of changes required when modifying code, making it easier to maintain and extend over time.\n",
        "\n",
        "- Encapsulation of Implementation Details: Encapsulation allows developers to encapsulate implementation details within classes, hiding them from external code and preventing direct manipulation. This encapsulation of implementation details promotes code reuse by allowing classes to be reused without exposing internal details, promoting encapsulation and separation of concerns.\n",
        "\n",
        "- Encapsulation of Interfaces: Encapsulation defines well-defined interfaces for interacting with objects, hiding internal implementation details and providing controlled access to attributes and methods. By encapsulating interfaces, encapsulation facilitates code reuse by allowing classes to be reused in different contexts without requiring modifications to the calling code.\n",
        "\n",
        "- encapsulation enhances code reusability and modularity in Python programs by promoting abstraction, modularity, code isolation, encapsulation of implementation details, and encapsulation of interfaces. By encapsulating related data and behavior within classes and providing well-defined interfaces, encapsulation simplifies code consumption, reduces dependencies, and promotes code organization and separation of concerns, making code more reusable, modular, and maintainable."
      ],
      "metadata": {
        "id": "tOQNOk24lwk1"
      }
    },
    {
      "cell_type": "code",
      "source": [],
      "metadata": {
        "id": "g4ATYDmk2C92"
      },
      "execution_count": null,
      "outputs": []
    },
    {
      "cell_type": "markdown",
      "source": [
        "19. Describe the concept of information hiding in encapsulation. Why is it essential in software development?\n"
      ],
      "metadata": {
        "id": "WGyCzKSJ2DQg"
      }
    },
    {
      "cell_type": "markdown",
      "source": [
        "- Enhanced Security: By hiding implementation details, information hiding helps prevent unauthorized access to sensitive data and reduces the risk of data corruption or tampering.\n",
        "\n",
        "- Abstraction: Information hiding promotes abstraction by allowing developers to hide unnecessary implementation details and expose only essential features through well-defined interfaces. This simplifies code consumption and reduces dependencies, making it easier to understand and maintain the codebase.\n",
        "\n",
        "- Reduced Complexity: Information hiding reduces complexity by encapsulating implementation details within classes or modules. This reduces the cognitive load on developers by hiding irrelevant details and promoting a clear separation of concerns.\n",
        "\n",
        "- Maintainability: By hiding implementation details, information hiding makes it easier to maintain and evolve code over time. Changes to the internal implementation can be made without affecting the external interface, minimizing the impact on other parts of the codebase.\n",
        "\n",
        "- Code Reusability: Information hiding promotes code reusability by encapsulating reusable components within classes or modules. This allows developers to reuse existing code without needing to understand or modify the internal implementation details.\n",
        "\n",
        "- Flexibility: Information hiding makes it easier to modify or extend code without affecting other parts of the system. Developers can change the internal implementation of a class or module without impacting other components that rely on it, promoting flexibility and adaptability."
      ],
      "metadata": {
        "id": "inMre0xmmIQD"
      }
    },
    {
      "cell_type": "code",
      "source": [],
      "metadata": {
        "id": "TLhhzESy2Euf"
      },
      "execution_count": null,
      "outputs": []
    },
    {
      "cell_type": "markdown",
      "source": [
        "20. Create a Python class called `Customer` with private attributes for customer details like name, address,\n",
        "and contact information. Implement encapsulation to ensure data integrity and security.\n",
        "\n"
      ],
      "metadata": {
        "id": "ZtPXu5Kn2E7r"
      }
    },
    {
      "cell_type": "markdown",
      "source": [],
      "metadata": {
        "id": "zHPuEpO22HMI"
      }
    },
    {
      "cell_type": "code",
      "source": [
        "class Customer:\n",
        "  def __init__(self, name, address, contact_info):\n",
        "    self.__name = name\n",
        "    self.__address = address\n",
        "    self.__contact_info = contact_info\n",
        "\n",
        "\n",
        "  def get_name(self):\n",
        "    return self.__name\n",
        "\n",
        "  def get_address(self):\n",
        "    return self.__address\n",
        "\n",
        "  def get_contact_info(self):\n",
        "    return self.__contact_info\n",
        "\n",
        "  def set_address(self, address):\n",
        "    self.__address = address\n",
        "\n",
        "  def set_contact_info(self, contact_info):\n",
        "    self.__contact_info = contact_info\n",
        "\n",
        "  def set_name(self, name):\n",
        "    self.__name = name\n",
        "\n",
        "\n",
        "customer = Customer(\"Abhi\", \"123 Main Town\", \"abhisinha10099@gmail.com\")\n",
        "\n",
        "# Attempting to access private attributes directly will raise an AttributeError\n",
        "# print(customer.__name)\n",
        "# print(customer.__address)\n",
        "# print(customer.__contact_info)\n",
        "\n",
        "\n",
        "# Accessing private attributes using getter methods\n",
        "print(\"Customer Name:\", customer.get_name())\n",
        "print(\"Customer Address:\", customer.get_address())\n",
        "print(\"Customer Contact Info:\", customer.get_contact_info())\n",
        "\n",
        "# Attempting to modify private attributes directly will raise an AttributeError\n",
        "# customer.__name = \"Bob\"\n",
        "# customer.__address = \"456 Elm Street\"\n",
        "# customer.__contact_info = \"bob@example.com\"\n",
        "\n",
        "# Modifying private attributes using setter methods\n",
        "customer.set_name(\"Bob\")\n",
        "customer.set_address(\"456 Elm Street\")\n",
        "customer.set_contact_info(\"bob@example.com\")\n",
        "\n",
        "# Verify changes\n",
        "print(\"Updated Customer Name:\", customer.get_name())\n",
        "print(\"Updated Customer Address:\", customer.get_address())\n",
        "print(\"Updated Customer Contact Info:\", customer.get_contact_info())"
      ],
      "metadata": {
        "colab": {
          "base_uri": "https://localhost:8080/"
        },
        "id": "ln0M9an_2Hey",
        "outputId": "4772209b-4919-472d-e025-e71114ac5154"
      },
      "execution_count": null,
      "outputs": [
        {
          "output_type": "stream",
          "name": "stdout",
          "text": [
            "Customer Name: Abhi\n",
            "Customer Address: 123 Main Town\n",
            "Customer Contact Info: abhisinha10099@gmail.com\n",
            "Updated Customer Name: Bob\n",
            "Updated Customer Address: 456 Elm Street\n",
            "Updated Customer Contact Info: bob@example.com\n"
          ]
        }
      ]
    },
    {
      "cell_type": "markdown",
      "source": [
        "Polymorphism:\n",
        "1. What is polymorphism in Python? Explain how it is related to object-oriented programming.\n"
      ],
      "metadata": {
        "id": "IkIjHomx2Ie-"
      }
    },
    {
      "cell_type": "markdown",
      "source": [
        "- Polymorphism refers to the fact that something exists in multiple forms. Polymorphism, in simple terms, is the ability of a message to be displayed in multiple formats. For example, at the same time, a person might have a variety of characteristics. At the same time, he is a father, a spouse, and a worker. As a result, the same person behaves differently in different settings. Polymorphism is the term for this.\n",
        "- There are mainly two types of polymorphism in C++. They are as follows:\n",
        "Compile Time Polymorphism: Function overloading and operator overloading is used to achieve this form of polymorphism.\n",
        "Runtime Polymorphism: Function Overriding is used to generate this form of polymorphism."
      ],
      "metadata": {
        "id": "dU06tAeuphTH"
      }
    },
    {
      "cell_type": "markdown",
      "source": [
        "Relationship to Object-Oriented Programming (OOP):\n",
        "  Inheritance: Polymorphism is closely related to inheritance, one of the core principles of object-oriented programming. Inheritance allows classes to inherit attributes and methods from their parent classes, enabling code reuse and promoting code organization. Polymorphism allows subclasses to override or extend inherited methods, providing different implementations based on the specific subclass.\n",
        "\n",
        "  Method Overriding: Polymorphism enables method overriding, where a subclass provides its own implementation of a method inherited from its superclass. This allows objects of the subclass to respond to method calls in a way that is specific to the subclass, while still adhering to the common interface defined by the superclass. Method overriding is a key mechanism for achieving polymorphism in Python and other object-oriented languages.\n",
        "\n",
        "  Duck Typing: Python's dynamic typing and duck typing philosophy also contribute to polymorphism. Duck typing allows objects to be treated based on their behavior rather than their explicit type. This means that objects of different classes can respond to the same method call as long as they implement the required behavior, enabling polymorphic behavior without explicit inheritance relationships.\n",
        "\n",
        "  Interface Implementation: Polymorphism enables the implementation of interfaces or abstract classes, which define a common set of methods that subclasses must implement. Different subclasses can provide their own implementations of these methods, allowing objects of different types to be treated uniformly through polymorphism.\n",
        "\n",
        "\n",
        "\n"
      ],
      "metadata": {
        "id": "mrz6UT8Jpxvb"
      }
    },
    {
      "cell_type": "code",
      "source": [],
      "metadata": {
        "id": "kzab97eL2Krn"
      },
      "execution_count": null,
      "outputs": []
    },
    {
      "cell_type": "markdown",
      "source": [
        "2. Describe the difference between compile-time polymorphism and runtime polymorphism in Python.\n"
      ],
      "metadata": {
        "id": "T1KFoAhi2K6P"
      }
    },
    {
      "cell_type": "markdown",
      "source": [
        "Compile-Time Polymorphism (Static Polymorphism):\n",
        "  - Method Overloading: In languages that support compile-time polymorphism, such as C++ and Java, method overloading allows multiple methods in the same class to have the same name but different parameters. The appropriate method to call is determined at compile time based on the number and types of arguments passed to the method call.\n",
        "\n",
        "  - Early Binding: Compile-time polymorphism involves early binding, where the method call is bound to the corresponding method implementation at compile time. This means that the decision about which method to call is made by the compiler before the program is executed.\n",
        "\n",
        "\n",
        "  - Example: In Java or C++, method overloading allows defining multiple print methods with different parameter type"
      ],
      "metadata": {
        "id": "DXIB6HvxqNKg"
      }
    },
    {
      "cell_type": "markdown",
      "source": [
        "Runtime Polymorphism (Dynamic Polymorphism):\n",
        "  - Method Overriding: Runtime polymorphism involves method overriding, where a subclass provides its own implementation of a method that is already defined in its superclass. The decision about which method to call is made at runtime based on the actual type of the object.\n",
        "\n",
        "  - Late Binding: Runtime polymorphism involves late binding, where the method call is resolved dynamically at runtime based on the actual type of the object. This allows for dynamic method dispatch, where the appropriate method implementation is selected based on the runtime type of the object.\n",
        "\n",
        "  - Example: In Python, method overriding allows subclasses to provide their own implementation of methods defined in their superclass:"
      ],
      "metadata": {
        "id": "rtji7JXEqzAO"
      }
    },
    {
      "cell_type": "code",
      "source": [
        "class Animal:\n",
        "  def speak(self):\n",
        "    print(\"Animal speaks\")\n",
        "\n",
        "class Dog(Animal):\n",
        "  def speak(self):\n",
        "    print(\"Dog barks\")\n",
        "\n",
        "class Cat(Animal):\n",
        "  def speak(self):\n",
        "    print(\"Cat meows\")\n",
        "\n",
        "# Runtime polymorphism\n",
        "Animals = [Dog(), Cat()]\n",
        "for Animal in Animals:\n",
        "  Animal.speak()"
      ],
      "metadata": {
        "colab": {
          "base_uri": "https://localhost:8080/"
        },
        "id": "oIbSXoQn2MZc",
        "outputId": "c07ee75a-b835-4e95-d4b8-c9c69004ecd3"
      },
      "execution_count": null,
      "outputs": [
        {
          "output_type": "stream",
          "name": "stdout",
          "text": [
            "Dog barks\n",
            "Cat meows\n"
          ]
        }
      ]
    },
    {
      "cell_type": "markdown",
      "source": [
        "3. Create a Python class hierarchy for shapes (e.g., circle, square, triangle) and demonstrate polymorphism\n",
        "through a common method, such as `calculate_area()`.\n"
      ],
      "metadata": {
        "id": "2FJbDkBL2Mlo"
      }
    },
    {
      "cell_type": "code",
      "source": [
        "import math\n",
        "\n",
        "class Shape:\n",
        "  def calculate_area(self):\n",
        "    pass\n",
        "\n",
        "class Circle(Shape):\n",
        "  def __init__(self, radius):\n",
        "    self.radius = radius\n",
        "\n",
        "  def calculate_area(self):\n",
        "    return math.pi * self.radius ** 2\n",
        "\n",
        "class Square(Shape):\n",
        "  def __init__(self, side):\n",
        "    self.side = side\n",
        "\n",
        "  def calculate_area(self):\n",
        "    return self.side ** 2\n",
        "\n",
        "class Triangle(Shape):\n",
        "  def __init__(self, base, height):\n",
        "    self.base = base\n",
        "    self.height = height\n",
        "\n",
        "  def calculate_area(self):\n",
        "    return 0.5 * self.base * self.height\n",
        "\n",
        "circle = Circle(5)\n",
        "print(\"Area of Circle: \", circle.calculate_area())\n",
        "\n",
        "square = Square(4)\n",
        "print(\"Area of square:\", square.calculate_area())\n",
        "\n",
        "triangle = Triangle(3, 6)\n",
        "print(\"Area of Triangle :\", triangle.calculate_area())"
      ],
      "metadata": {
        "colab": {
          "base_uri": "https://localhost:8080/"
        },
        "id": "EeV5g3K12OpP",
        "outputId": "d7cc5b91-ad54-4587-c3d7-051c0851fa16"
      },
      "execution_count": null,
      "outputs": [
        {
          "output_type": "stream",
          "name": "stdout",
          "text": [
            "Area of Circle:  78.53981633974483\n",
            "Area of square: 16\n",
            "Area of Triangle : 9.0\n"
          ]
        }
      ]
    },
    {
      "cell_type": "markdown",
      "source": [
        "4. Explain the concept of method overriding in polymorphism. Provide an example.\n"
      ],
      "metadata": {
        "id": "1lhM2cMt2O3k"
      }
    },
    {
      "cell_type": "markdown",
      "source": [
        "- Method overriding is a concept in object-oriented programming where a subclass provides its own implementation of a method that is already defined in its superclass. This allows subclasses to provide specialized behavior while still adhering to the common interface defined by the superclass. Method overriding is a key mechanism for achieving polymorphism, where objects of different subclasses can be treated uniformly through a common interface."
      ],
      "metadata": {
        "id": "jamJ63tNvB0l"
      }
    },
    {
      "cell_type": "code",
      "source": [
        "class Animal:\n",
        "    def speak(self):\n",
        "        return \"Animal speaks\"\n",
        "\n",
        "class Dog(Animal):\n",
        "    def speak(self):\n",
        "        return \"Dog barks\"\n",
        "\n",
        "class Cat(Animal):\n",
        "    def speak(self):\n",
        "        return \"Cat meows\"\n",
        "\n",
        "# Example usage:\n",
        "dog = Dog()\n",
        "cat = Cat()\n",
        "\n",
        "print(dog.speak())  # Output: Dog barks\n",
        "print(cat.speak())  # Output: Cat meows\n"
      ],
      "metadata": {
        "colab": {
          "base_uri": "https://localhost:8080/"
        },
        "id": "xAnuFJpG2Qn3",
        "outputId": "4b5c0161-202b-492e-d784-39e3b0e1b3be"
      },
      "execution_count": null,
      "outputs": [
        {
          "output_type": "stream",
          "name": "stdout",
          "text": [
            "Dog barks\n",
            "Cat meows\n"
          ]
        }
      ]
    },
    {
      "cell_type": "markdown",
      "source": [
        "5. How is polymorphism different from method overloading in Python? Provide examples for both.\n"
      ],
      "metadata": {
        "id": "d73qCMhK2Q1m"
      }
    },
    {
      "cell_type": "code",
      "source": [
        "class MathOperations:\n",
        "    def add(self, a, b=0):\n",
        "        return a + b\n",
        "\n",
        "# Example usage:\n",
        "math_ops = MathOperations()\n",
        "\n",
        "print(math_ops.add(2, 3))\n",
        "print(math_ops.add(2))\n"
      ],
      "metadata": {
        "id": "ZE4QU0q62Sy7"
      },
      "execution_count": null,
      "outputs": []
    },
    {
      "cell_type": "markdown",
      "source": [
        "6. Create a Python class called `Animal` with a method `speak()`. Then, create child classes like `Dog`, `Cat`, and `Bird`, each with their own `speak()` method. Demonstrate polymorphism by calling the `speak()` method\n",
        "on objects of different subclasses.\n"
      ],
      "metadata": {
        "id": "wJze7RdU2TAd"
      }
    },
    {
      "cell_type": "code",
      "source": [
        "class Animal:\n",
        "    def speak(self):\n",
        "        return \"Animal speaks\"\n",
        "\n",
        "class Dog(Animal):\n",
        "    def speak(self):\n",
        "        return \"Dog barks\"\n",
        "\n",
        "class Cat(Animal):\n",
        "    def speak(self):\n",
        "        return \"Cat meows\"\n",
        "\n",
        "class Bird(Animal):\n",
        "    def speak(self):\n",
        "        return \"Bird chirps\"\n",
        "\n",
        "# Example usage:\n",
        "dog = Dog()\n",
        "cat = Cat()\n",
        "bird = Bird()\n",
        "\n",
        "print(dog.speak())   # Output: Dog barks\n",
        "print(cat.speak())   # Output: Cat meows\n",
        "print(bird.speak())  # Output: Bird chirps\n"
      ],
      "metadata": {
        "colab": {
          "base_uri": "https://localhost:8080/"
        },
        "id": "YMTMyrRl2U-H",
        "outputId": "085a9dab-50a3-42c8-bf20-bff77a41dd29"
      },
      "execution_count": null,
      "outputs": [
        {
          "output_type": "stream",
          "name": "stdout",
          "text": [
            "Dog barks\n",
            "Cat meows\n",
            "Bird chirps\n"
          ]
        }
      ]
    },
    {
      "cell_type": "markdown",
      "source": [],
      "metadata": {
        "id": "61j3F0Bp2avH"
      }
    },
    {
      "cell_type": "code",
      "source": [],
      "metadata": {
        "id": "Rp0Q7_MG2bQ-"
      },
      "execution_count": null,
      "outputs": []
    },
    {
      "cell_type": "markdown",
      "source": [
        "7. Discuss the use of abstract methods and classes in achieving polymorphism in Python. Provide an example\n",
        "using the `abc` module.\n"
      ],
      "metadata": {
        "id": "6iCZxjfQ2VNc"
      }
    },
    {
      "cell_type": "code",
      "source": [],
      "metadata": {
        "id": "YCwg50A-2W-r"
      },
      "execution_count": null,
      "outputs": []
    },
    {
      "cell_type": "markdown",
      "source": [],
      "metadata": {
        "id": "Su5FxPnG2cdf"
      }
    },
    {
      "cell_type": "markdown",
      "source": [
        "8. Create a Python class hierarchy for a vehicle system (e.g., car, bicycle, boat) and implement a polymorphic `start()` method that prints a message specific to each vehicle type.\n"
      ],
      "metadata": {
        "id": "b9B6N7Zo2yjB"
      }
    },
    {
      "cell_type": "code",
      "source": [
        "class Vehicle:\n",
        "  def start(self):\n",
        "    pass\n",
        "class Car(Vehicle):\n",
        "  def start(self):\n",
        "    return(\"Car starts by turning the ignition\")\n",
        "\n",
        "class Bicycle(Vehicle):\n",
        "  def start(self):\n",
        "    return \"Bicycle starts by padling\"\n",
        "\n",
        "class Boat(Vehicle):\n",
        "  def start(self):\n",
        "    return(\"Boat starts by starting the engine\")\n",
        "\n",
        "car = Car()\n",
        "print(\"Car:\", car.start())\n",
        "\n",
        "bicycle = Bicycle()\n",
        "print(\"Bicycle\", bicycle.start())\n",
        "\n",
        "boat = Boat()\n",
        "print(\"Boat\", boat.start())"
      ],
      "metadata": {
        "colab": {
          "base_uri": "https://localhost:8080/"
        },
        "id": "edYdqO0F27Wc",
        "outputId": "e666adc9-54cf-4ffe-fbe9-1900cf0ef4a0"
      },
      "execution_count": null,
      "outputs": [
        {
          "output_type": "stream",
          "name": "stdout",
          "text": [
            "Car: Car starts by turning the ignition\n",
            "Bicycle Bicycle starts by padling\n",
            "Boat Boat starts by starting the engine\n"
          ]
        }
      ]
    },
    {
      "cell_type": "markdown",
      "source": [
        "9. Explain the significance of the `isinstance()` and `issubclass()` functions in Python polymorphism.\n"
      ],
      "metadata": {
        "id": "RRccLTYx2XLk"
      }
    },
    {
      "cell_type": "code",
      "source": [
        "class Animal:\n",
        "    pass\n",
        "\n",
        "class Dog(Animal):\n",
        "    pass\n",
        "\n",
        "print(issubclass(Dog, Animal))  # Output: True\n"
      ],
      "metadata": {
        "colab": {
          "base_uri": "https://localhost:8080/"
        },
        "id": "aw8JK4hx2-BK",
        "outputId": "313b6088-6405-4268-d872-f3e384a8c748"
      },
      "execution_count": null,
      "outputs": [
        {
          "output_type": "stream",
          "name": "stdout",
          "text": [
            "True\n"
          ]
        }
      ]
    },
    {
      "cell_type": "markdown",
      "source": [
        "10. What is the role of the `@abstractmethod` decorator in achieving polymorphism in Python? Provide an\n",
        "example.\n"
      ],
      "metadata": {
        "id": "JAIJIxz12-N2"
      }
    },
    {
      "cell_type": "code",
      "source": [
        "from abc import ABC, abstractmethod\n",
        "\n",
        "class Shape(ABC):\n",
        "  @abstractmethod\n",
        "  def calculate_area(self):\n",
        "    pass\n",
        "\n",
        "class Circle(Shape):\n",
        "  def __init__(self, radius):\n",
        "    self.radius = radius\n",
        "\n",
        "  def calculate_area(self):\n",
        "    return 3.14 * self.radius ** 2\n",
        "\n",
        "class Rectangle(Shape):\n",
        "  def __init__(self, width, height):\n",
        "    self.width =width\n",
        "    self.height = height\n",
        "\n",
        "  def calculate_area(self):\n",
        "    return self.width * self.height\n",
        "\n",
        "# Attempting to instantiate Shape directly will raise an error\n",
        "# shape = Shape()  # TypeError: Can't instantiate abstract class Shape with abstract methods calculate_area\n",
        "\n",
        "#Driver Code\n",
        "circle = Circle(5)\n",
        "print(\"Area of Circle:\", circle.calculate_area())\n",
        "\n",
        "rectangle = Rectangle(4, 6)\n",
        "print(\"Area of Rectangle:\", rectangle.calculate_area)\n"
      ],
      "metadata": {
        "colab": {
          "base_uri": "https://localhost:8080/"
        },
        "id": "z06uSKOw2_03",
        "outputId": "5d517694-56ce-4fed-e14d-275cfda1ab0f"
      },
      "execution_count": null,
      "outputs": [
        {
          "output_type": "stream",
          "name": "stdout",
          "text": [
            "Area of Circle: 78.5\n",
            "Area of Rectangle: <bound method Rectangle.calculate_area of <__main__.Rectangle object at 0x7af24a5822f0>>\n"
          ]
        }
      ]
    },
    {
      "cell_type": "markdown",
      "source": [
        "11. Create a Python class called `Shape` with a polymorphic method `area()` that calculates the area of different shapes (e.g., circle, rectangle, triangle).\n"
      ],
      "metadata": {
        "id": "9btFFJcg3ABZ"
      }
    },
    {
      "cell_type": "code",
      "source": [
        "import math\n",
        "\n",
        "class Shape:\n",
        "    def area(self):\n",
        "        pass\n",
        "\n",
        "class Circle(Shape):\n",
        "    def __init__(self, radius):\n",
        "        self.radius = radius\n",
        "\n",
        "    def area(self):\n",
        "        return math.pi * self.radius ** 2\n",
        "\n",
        "class Rectangle(Shape):\n",
        "    def __init__(self, width, height):\n",
        "        self.width = width\n",
        "        self.height = height\n",
        "\n",
        "    def area(self):\n",
        "        return self.width * self.height\n",
        "\n",
        "class Triangle(Shape):\n",
        "    def __init__(self, base, height):\n",
        "        self.base = base\n",
        "        self.height = height\n",
        "\n",
        "    def area(self):\n",
        "        return 0.5 * self.base * self.height\n",
        "\n",
        "# Example usage:\n",
        "circle = Circle(5)\n",
        "print(\"Area of Circle:\", circle.area())\n",
        "\n",
        "rectangle = Rectangle(4, 6)\n",
        "print(\"Area of Rectangle:\", rectangle.area())\n",
        "\n",
        "triangle = Triangle(3, 6)\n",
        "print(\"Area of Triangle:\", triangle.area())\n"
      ],
      "metadata": {
        "colab": {
          "base_uri": "https://localhost:8080/"
        },
        "id": "x9GoIlpY3BzX",
        "outputId": "c63b01a0-18b6-46db-d285-1e372c37aa7f"
      },
      "execution_count": null,
      "outputs": [
        {
          "output_type": "stream",
          "name": "stdout",
          "text": [
            "Area of Circle: 78.53981633974483\n",
            "Area of Rectangle: 24\n",
            "Area of Triangle: 9.0\n"
          ]
        }
      ]
    },
    {
      "cell_type": "markdown",
      "source": [
        "12. Discuss the benefits of polymorphism in terms of code reusability and flexibility in Python programs.\n"
      ],
      "metadata": {
        "id": "Z5lIj0as3CB6"
      }
    },
    {
      "cell_type": "markdown",
      "source": [
        "- Code Reusability: Polymorphism allows different objects to be treated uniformly through a common interface. This means that code written to work with a superclass can also work with its subclasses without modification. As a result, developers can reuse existing code for a wide range of related objects, reducing redundancy and improving productivity.\n",
        "\n",
        "- Flexibility: Polymorphism enables dynamic behavior in Python programs. By defining common interfaces and allowing subclasses to provide their own implementations, polymorphism allows code to adapt to different object types and class hierarchies at runtime. This flexibility makes code more adaptable to changing requirements and promotes modular design.\n",
        "\n",
        "- Simplified Maintenance: Polymorphism promotes modular design and encapsulation, which can lead to simpler and more maintainable code. By defining common interfaces and delegating specific behavior to subclasses, polymorphism helps isolate changes to specific parts of the codebase. This makes it easier to update and maintain code over time, as changes in one part of the system are less likely to affect other parts.\n",
        "\n",
        "- Easier Testing: Polymorphism facilitates unit testing and test-driven development (TDD) practices. By defining common interfaces and behaviors, developers can write test cases that verify the expected behavior of objects without needing to know their specific implementations. This makes it easier to write comprehensive tests and ensure the correctness of the codebase.\n",
        "\n",
        "- Enhanced Extensibility: Polymorphism enables the addition of new functionality to a system by introducing new subclasses or by modifying existing ones. Because subclasses can provide their own implementations of common methods, new functionality can be added without requiring changes to existing code. This promotes extensibility and makes it easier to evolve the system over time."
      ],
      "metadata": {
        "id": "XpiMKOcJYztC"
      }
    },
    {
      "cell_type": "code",
      "source": [
        "class Parent:\n",
        "    def method(self):\n",
        "        print(\"Parent's method\")\n",
        "\n",
        "class Child(Parent):\n",
        "    def method(self):\n",
        "        super().method()  # Call the method of the Parent class\n",
        "        print(\"Child's method\")\n",
        "\n",
        "# Example usage:\n",
        "child = Child()\n",
        "child.method()\n"
      ],
      "metadata": {
        "colab": {
          "base_uri": "https://localhost:8080/"
        },
        "id": "4jZgAofB3DqN",
        "outputId": "d02eaa03-0198-4e23-d37c-443f2b21c909"
      },
      "execution_count": null,
      "outputs": [
        {
          "output_type": "stream",
          "name": "stdout",
          "text": [
            "Parent's method\n",
            "Child's method\n"
          ]
        }
      ]
    },
    {
      "cell_type": "markdown",
      "source": [
        "13. Explain the use of the `super()` function in Python polymorphism. How does it help call methods of parent\n",
        "classes?\n"
      ],
      "metadata": {
        "id": "IY5x4GLz3D4O"
      }
    },
    {
      "cell_type": "markdown",
      "source": [
        "- In Python, the super() function is used to call methods and access attributes of a superclass from within a subclass. It provides a way to invoke the methods of the superclass without explicitly naming the superclass, making the code more maintainable and flexible, especially in cases of multiple inheritance.\n",
        "\n",
        "- Syntax: super().method()\n",
        "\n",
        "\n",
        "- When super() is called within a method of a subclass, it returns a proxy object that delegates method calls to the next class in the method resolution order (MRO).\n",
        "- The MRO defines the order in which Python looks for methods and attributes in the inheritance hierarchy.\n",
        "By calling super().method(), Python searches for the method in the superclass of the current class and invokes it.\n",
        "\n",
        "\n",
        "- Benefits of using super():\n",
        "    - Maintainability: Using super() makes code more maintainable by reducing the need to explicitly reference the superclass. If the inheritance hierarchy changes, only the call to super() needs to be updated, rather than every occurrence of the superclass name.\n",
        "\n",
        "    - Flexibility: super() supports cooperative multiple inheritance, allowing subclasses to call methods of all their superclasses in a predictable order. This enables greater flexibility in designing class hierarchies and composing behavior from multiple sources.\n",
        "\n",
        "    - Readability: By using super(), the intent of the code becomes clearer, as it explicitly indicates the intention to call methods of the superclass. This enhances readability and makes the code easier to understand for other developers."
      ],
      "metadata": {
        "id": "ZAyRzPxbb_qv"
      }
    },
    {
      "cell_type": "code",
      "source": [],
      "metadata": {
        "id": "qXzgLidZ3Fzg"
      },
      "execution_count": null,
      "outputs": []
    },
    {
      "cell_type": "markdown",
      "source": [
        "14. Create a Python class hierarchy for a banking system with various account types (e.g., savings, checking, credit card) and demonstrate polymorphism by implementing a common `withdraw()` method.\n"
      ],
      "metadata": {
        "id": "WfcvHAvz3GCV"
      }
    },
    {
      "cell_type": "code",
      "source": [
        "class Account:\n",
        "    def __init__(self, account_number, balance):\n",
        "        self.account_number = account_number\n",
        "        self.balance = balance\n",
        "\n",
        "    def withdraw(self, amount):\n",
        "        if amount > 0 and amount <= self.balance:\n",
        "            self.balance -= amount\n",
        "            print(f\"Withdrawal of ${amount} successful. New balance: ${self.balance}\")\n",
        "        else:\n",
        "            print(\"Invalid withdrawal amount or insufficient funds\")\n",
        "\n",
        "class SavingsAccount(Account):\n",
        "    def __init__(self, account_number, balance, interest_rate):\n",
        "        super().__init__(account_number, balance)\n",
        "        self.interest_rate = interest_rate\n",
        "\n",
        "    def withdraw(self, amount):\n",
        "        super().withdraw(amount)\n",
        "        # Apply penalty for exceeding withdrawal limit\n",
        "        if amount > 1000:\n",
        "            self.balance -= 10\n",
        "            print(\"Penalty of $10 applied for exceeding withdrawal limit\")\n",
        "\n",
        "class CheckingAccount(Account):\n",
        "    def __init__(self, account_number, balance, overdraft_limit):\n",
        "        super().__init__(account_number, balance)\n",
        "        self.overdraft_limit = overdraft_limit\n",
        "\n",
        "    def withdraw(self, amount):\n",
        "        if amount <= self.balance + self.overdraft_limit:\n",
        "            super().withdraw(amount)\n",
        "            if self.balance < 0:\n",
        "                print(\"Overdraft used\")\n",
        "        else:\n",
        "            print(\"Withdrawal amount exceeds available balance and overdraft limit\")\n",
        "\n",
        "class CreditCardAccount(Account):\n",
        "    def __init__(self, account_number, balance, credit_limit):\n",
        "        super().__init__(account_number, balance)\n",
        "        self.credit_limit = credit_limit\n",
        "\n",
        "    def withdraw(self, amount):\n",
        "        if amount <= self.balance + self.credit_limit:\n",
        "            super().withdraw(amount)\n",
        "            if self.balance < 0:\n",
        "                print(\"Credit limit used\")\n",
        "        else:\n",
        "            print(\"Withdrawal amount exceeds available balance and credit limit\")\n",
        "\n",
        "# Example usage:\n",
        "savings_account = SavingsAccount(\"SA123\", 5000, 0.05)\n",
        "savings_account.withdraw(2000)  # Output: Withdrawal of $2000 successful. New balance: $3000\n",
        "savings_account.withdraw(1500)  # Output: Withdrawal of $1500 successful. New balance: $1450, Penalty of $10 applied for exceeding withdrawal limit\n",
        "\n",
        "checking_account = CheckingAccount(\"CA456\", 3000, 1000)\n",
        "checking_account.withdraw(2500)  # Output: Withdrawal of $2500 successful. New balance: $500, Overdraft used\n",
        "checking_account.withdraw(1000)  # Output: Withdrawal amount exceeds available balance and overdraft limit\n",
        "\n",
        "credit_card_account = CreditCardAccount(\"CC789\", 2000, 5000)\n",
        "credit_card_account.withdraw(3000)  # Output: Withdrawal of $3000 successful. New balance: -$1000, Credit limit used\n"
      ],
      "metadata": {
        "colab": {
          "base_uri": "https://localhost:8080/"
        },
        "id": "KuCEM3qa3H2h",
        "outputId": "69f03ee3-4238-4885-c5ef-a5291b22fa08"
      },
      "execution_count": null,
      "outputs": [
        {
          "output_type": "stream",
          "name": "stdout",
          "text": [
            "Withdrawal of $2000 successful. New balance: $3000\n",
            "Penalty of $10 applied for exceeding withdrawal limit\n",
            "Withdrawal of $1500 successful. New balance: $1490\n",
            "Penalty of $10 applied for exceeding withdrawal limit\n",
            "Withdrawal of $2500 successful. New balance: $500\n",
            "Invalid withdrawal amount or insufficient funds\n",
            "Invalid withdrawal amount or insufficient funds\n"
          ]
        }
      ]
    },
    {
      "cell_type": "markdown",
      "source": [
        "15. Describe the concept of operator overloading in Python and how it relates to polymorphism. Provide\n",
        "examples using operators like `+` and `*`.\n"
      ],
      "metadata": {
        "id": "S57czpXB3IHx"
      }
    },
    {
      "cell_type": "markdown",
      "source": [
        "- Operator overloading in Python allows developers to define the behavior of operators (+, -, *, /, etc.) for user-defined objects. By implementing special methods, also known as magic or dunder methods, Python classes can customize the behavior of built-in operators. This concept is closely related to polymorphism, as it allows objects of different types to respond to operators in ways that are appropriate for their respective types.\n",
        "\n",
        "-How Operator Overloading Relates to Polymorphism:\n",
        "  - Uniform Interface: Operator overloading provides a uniform interface for interacting with objects, allowing different objects to respond to operators in a way that makes sense for their types. This promotes polymorphic behavior, where objects of different types can be used interchangeably with operators.\n",
        "\n",
        "  - Dynamic Dispatch: When an operator is used on objects, Python dynamically dispatches the appropriate method based on the types of the operands. This allows for dynamic polymorphism, where the behavior of operators can vary depending on the types of the objects involved."
      ],
      "metadata": {
        "id": "txLtB2IEZCAO"
      }
    },
    {
      "cell_type": "code",
      "source": [],
      "metadata": {
        "id": "swDRBSNE3KL4"
      },
      "execution_count": null,
      "outputs": []
    },
    {
      "cell_type": "markdown",
      "source": [
        "16. What is dynamic polymorphism, and how is it achieved in Python?\n"
      ],
      "metadata": {
        "id": "vEUxrgua3Kb2"
      }
    },
    {
      "cell_type": "markdown",
      "source": [
        "- Dynamic polymorphism, also known as runtime polymorphism, is a feature of object-oriented programming languages where the method to be executed is determined at runtime based on the actual type of the object. This allows different objects to respond to the same method call in different ways, depending on their respective types and implementations.\n",
        "\n",
        "- In Python, dynamic polymorphism is achieved through method overriding and late binding:\n",
        "\n",
        "- Method Overriding: In Python, a subclass can provide a new implementation of a method that is already defined in its superclass. When a method is called on an object of the subclass, Python first looks for the method in the subclass. If the method is found, Python executes the subclass's implementation. If the method is not found in the subclass, Python looks for it in the superclass.\n",
        "\n",
        "- Late Binding: In Python, method binding occurs at runtime, meaning that the actual method implementation to be invoked is determined dynamically based on the object's type. This allows for dynamic polymorphism, where objects of different types can respond to the same method call differently."
      ],
      "metadata": {
        "id": "hw8OTI4vXnN_"
      }
    },
    {
      "cell_type": "code",
      "source": [
        "class Animal:\n",
        "  def make_sound(self):\n",
        "    print(\"Animal makes a sound\")\n",
        "\n",
        "class Dog(Animal):\n",
        "  def make_sound(self):\n",
        "    print(\"Dog barks\")\n",
        "\n",
        "class Cat(Animal):\n",
        "  def make_sound(self):\n",
        "    print(\"Cat meows\")\n",
        "\n",
        "animals = [Dog(), Cat()]\n",
        "\n",
        "for animal in animals:\n",
        "  animal.make_sound()"
      ],
      "metadata": {
        "colab": {
          "base_uri": "https://localhost:8080/"
        },
        "id": "JbR9Zz-X3MOF",
        "outputId": "c47b5f1c-c4ad-4588-c528-2d32bfd90848"
      },
      "execution_count": null,
      "outputs": [
        {
          "output_type": "stream",
          "name": "stdout",
          "text": [
            "Dog barks\n",
            "Cat meows\n"
          ]
        }
      ]
    },
    {
      "cell_type": "markdown",
      "source": [
        "17. Create a Python class hierarchy for employees in a company (e.g., manager, developer, designer) and implement polymorphism through a common `calculate_salary()` method.\n"
      ],
      "metadata": {
        "id": "ZwApHnP83Mcn"
      }
    },
    {
      "cell_type": "code",
      "source": [
        "class Employee:\n",
        "  def __init__(self, name, salary):\n",
        "    self.name = name\n",
        "    self.salary = salary\n",
        "\n",
        "  def calculate_salary(self):\n",
        "    return self.salary\n",
        "\n",
        "class Manager(Employee):\n",
        "  def calculate_salary(self):\n",
        "     return self.salary + 1000\n",
        "\n",
        "class Developer(Employee):\n",
        "  def calculate_salary(self):\n",
        "    return self.salary * 1.2\n",
        "\n",
        "class Designer(Employee):\n",
        "  def calculate_salary(self):\n",
        "     return self.salary * 1.1\n",
        "\n",
        "\n",
        "manager = Manager(\"Abhi\", 50000)\n",
        "print(\"Manager's salary:\", manager.calculate_salary())\n",
        "\n",
        "developer = Developer(\"Alisha\", 40000)\n",
        "print(\"Developer's salary:\", developer.calculate_salary())\n",
        "\n",
        "designer = Designer(\"Govind\", 30000000)\n",
        "print(\"Designer's salary:\", designer.calculate_salary())"
      ],
      "metadata": {
        "colab": {
          "base_uri": "https://localhost:8080/"
        },
        "id": "RPB6z2KV3Oap",
        "outputId": "77c715e3-f6cf-4a9f-cc10-4ebc9fffd26b"
      },
      "execution_count": null,
      "outputs": [
        {
          "output_type": "stream",
          "name": "stdout",
          "text": [
            "Manager's salary: 51000\n",
            "Developer's salary: 48000.0\n",
            "Designer's salary: 33000000.000000004\n"
          ]
        }
      ]
    },
    {
      "cell_type": "markdown",
      "source": [],
      "metadata": {
        "id": "AavwKkYgSRdA"
      }
    },
    {
      "cell_type": "markdown",
      "source": [
        "18. Discuss the concept of function pointers and how they can be used to achieve polymorphism in Python.\n"
      ],
      "metadata": {
        "id": "aKdv8bKs3OoD"
      }
    },
    {
      "cell_type": "code",
      "source": [
        "class Dog:\n",
        "    def sound(self):\n",
        "        return \"Woof\"\n",
        "\n",
        "class Cat:\n",
        "    def sound(self):\n",
        "        return \"Meow\"\n",
        "\n",
        "class Duck:\n",
        "    def quack(self):\n",
        "        return \"Quack\"\n",
        "\n",
        "# Function that takes a callable object as an argument and invokes it\n",
        "def make_sound(animal):\n",
        "    if hasattr(animal, 'sound') and callable(animal.sound):\n",
        "        return animal.sound()\n",
        "    else:\n",
        "        return \"Unknown animal sound\"\n",
        "\n",
        "# Example usage:\n",
        "dog = Dog()\n",
        "cat = Cat()\n",
        "duck = Duck()\n",
        "\n",
        "print(make_sound(dog))\n",
        "print(make_sound(cat))\n",
        "print(make_sound(duck))\n"
      ],
      "metadata": {
        "id": "QuzpwjfISV7m"
      },
      "execution_count": null,
      "outputs": []
    },
    {
      "cell_type": "markdown",
      "source": [
        "- In Python, there are no traditional function pointers like in languages such as C or C++. However, Python functions are first-class objects, which means they can be assigned to variables, passed as arguments to other functions, and returned as values from other functions. This capability allows Python to achieve polymorphism through a concept similar to function pointers, often referred to as \"duck typing\" or \"callable objects.\"\n",
        "\n",
        "- Duck Typing:\n",
        "    - Duck typing is a programming style that focuses on the behavior of an object rather than its type. According to the duck typing principle, \"if it looks like a duck, swims like a duck, and quacks like a duck, then it probably is a duck.\" In other words, as long as an object supports the necessary methods or attributes, it can be used in place of another object, even if they belong to different classes.\n",
        "\n",
        "Callable Objects:\n",
        "    - In Python, any object that implements the __call__() method can be treated as callable and invoked using function call syntax. This includes functions, methods, and objects with a __call__() method defined."
      ],
      "metadata": {
        "id": "_XAegjDHRsee"
      }
    },
    {
      "cell_type": "code",
      "source": [],
      "metadata": {
        "id": "1KE_yqwm3Qv6"
      },
      "execution_count": null,
      "outputs": []
    },
    {
      "cell_type": "markdown",
      "source": [
        "19. Explain the role of interfaces and abstract classes in polymorphism, drawing comparisons between them.\n"
      ],
      "metadata": {
        "id": "0YfccC4e3RBY"
      }
    },
    {
      "cell_type": "markdown",
      "source": [
        "- Interfaces and abstract classes play crucial roles in achieving polymorphism in object-oriented programming, but they do so in different ways. Let's explore their roles and draw comparisons between them:\n",
        "\n",
        "- Interfaces:\n",
        "    - Definition: An interface in object-oriented programming defines a contract specifying a set of methods or behaviors that a class must implement. It provides a blueprint for implementing classes to follow.\n",
        "\n",
        "    - Purpose: Interfaces are used to enforce a common set of behaviors across different classes. They promote loose coupling and high cohesion by allowing classes to interact based on shared behaviors rather than specific implementations.\n",
        "\n",
        "    - Implementation: In languages like Java or C#, interfaces are defined using the interface keyword, and a class can implement multiple interfaces. However, Python does not have built-in support for interfaces, but they can be emulated using abstract base classes from the abc module.\n",
        "\n",
        "- Abstract Classes:\n",
        "    - Definition: An abstract class in object-oriented programming is a class that cannot be instantiated directly and may contain one or more abstract methods, which are methods without implementations. Abstract classes serve as partial implementations that must be subclassed and extended to provide concrete implementations for the abstract methods.\n",
        "\n",
        "    - Purpose: Abstract classes provide a way to define common methods and behaviors that subclasses must implement. They serve as a template or blueprint for creating related classes with shared functionality.\n",
        "\n",
        "    - Implementation: In languages like Java or C#, abstract classes are defined using the abstract keyword, and subclasses must provide concrete implementations for all abstract methods. In Python, abstract classes are implemented using the ABC (Abstract Base Class) module and the abstractmethod decorator.\n",
        "\n",
        "- Comparisons:\n",
        "  - Instantiation: Abstract classes cannot be instantiated directly, while interfaces do not have instances at all.\n",
        "\n",
        "  - Implementation: Abstract classes may contain concrete methods along with abstract methods, while interfaces contain only abstract method signatures.\n",
        "\n",
        "  - Extensibility: Subclasses of abstract classes must provide concrete implementations for all abstract methods, while classes implementing interfaces must implement all interface methods.\n",
        "\n",
        "  - Multiple Inheritance: Languages like Java and C# support multiple interface implementation, allowing a class to implement multiple interfaces. Python also supports multiple inheritance, but there's no inherent distinction between implementing multiple interfaces and inheriting from multiple abstract classes.\n",
        "\n",
        "- Role in Polymorphism:\n",
        "  - Both interfaces and abstract classes facilitate polymorphism by defining common interfaces and behaviors that can be implemented by multiple classes.\n",
        "\n",
        "  - They allow objects of different classes to be treated uniformly through a common interface, enabling polymorphic behavior where different objects respond to the same method calls in different ways."
      ],
      "metadata": {
        "id": "AolzTshMTTlE"
      }
    },
    {
      "cell_type": "code",
      "source": [],
      "metadata": {
        "id": "KDGpL7gM3SnB"
      },
      "execution_count": null,
      "outputs": []
    },
    {
      "cell_type": "markdown",
      "source": [
        "20. Create a Python class for a zoo simulation, demonstrating polymorphism with different animal types (e.g., mammals, birds, reptiles) and their behavior (e.g., eating, sleeping, making sounds).\n",
        "\n"
      ],
      "metadata": {
        "id": "PnmUrffI3S3A"
      }
    },
    {
      "cell_type": "code",
      "source": [
        "class Animal:\n",
        "  def __init__(self, name):\n",
        "    self.name = name\n",
        "\n",
        "  def eat(self):\n",
        "    pass\n",
        "\n",
        "  def sleep(sleep):\n",
        "    pass\n",
        "\n",
        "  def make_sound(self):\n",
        "    pass\n",
        "\n",
        "class Mammal(Animal):\n",
        "  def eat(self):\n",
        "    return f\"{self.name} the mammal is eating\"\n",
        "\n",
        "  def sleep(self):\n",
        "    return f\"{self.name} the mammal is sleeping\"\n",
        "\n",
        "  def make_sound(self):\n",
        "    return f\"{self.name} the mammal make sound\"\n",
        "\n",
        "class Bird(Animal):\n",
        "  def eat(self):\n",
        "    return f\"{self.name} the bird is eating\"\n",
        "\n",
        "  def sleep(self):\n",
        "    return f\"{self.name} the bird is sleeping\"\n",
        "\n",
        "  def make_sound(self):\n",
        "    return f\"{self.name} the bird chirps\"\n",
        "\n",
        "class Reptile(Animal):\n",
        "  def eat(self):\n",
        "    return f\"{self.name} the reptile is eating\"\n",
        "\n",
        "  def sleep(self):\n",
        "    return f\"{self.name} the Reptile is sleeping\"\n",
        "\n",
        "  def make_sound(self):\n",
        "    return f\"{self.name} the reptile hisses\"\n",
        "\n",
        "mammal = Mammal(\"Lion\")\n",
        "bird = Bird(\"Eagle\")\n",
        "reptile = Reptile(\"snake\")\n",
        "\n",
        "print(mammal.make_sound())\n",
        "print(bird.sleep())\n",
        "print(reptile.make_sound())"
      ],
      "metadata": {
        "colab": {
          "base_uri": "https://localhost:8080/"
        },
        "id": "H0pU1AFT3Vd9",
        "outputId": "d176f82e-35bc-4834-a8fb-7f15dd904047"
      },
      "execution_count": null,
      "outputs": [
        {
          "output_type": "stream",
          "name": "stdout",
          "text": [
            "Lion the mammal make sound\n",
            "Eagle the bird is sleeping\n",
            "snake the reptile hisses\n"
          ]
        }
      ]
    },
    {
      "cell_type": "markdown",
      "source": [
        "\n",
        "\n",
        "Abstraction:\n",
        "1. What is abstraction in Python, and how does it relate to object-oriented programming?\n"
      ],
      "metadata": {
        "id": "XTG7CATs3VsR"
      }
    },
    {
      "cell_type": "markdown",
      "source": [
        "- Abstraction refers to revealing only the most important information while concealing the details. Data abstraction refers to exposing only the most important aspects of the data to the outside world while concealing the implementation specifics.\n",
        "  - Consider the case of a man driving a vehicle. The man only knows that pressing the accelerators will increase the vehicle's speed and that applying the brakes will stop it, but he has no idea how the speed is increased by pressing the accelerators, nor does he understand the car's inner mechanism or how the accelerator, brakes, and other controls are implemented in the car. This is the definition of abstraction.\n",
        "  - In Python, abstraction is often achieved through the use of abstract classes and methods, which are defined using the abc module (Abstract Base Classes). These abstract classes define methods that must be implemented by concrete subclasses, ensuring that specific behavior is provided while allowing flexibility in implementation."
      ],
      "metadata": {
        "id": "A256SeXKdWe0"
      }
    },
    {
      "cell_type": "code",
      "source": [
        "from abc import ABC, abstractmethod\n",
        "\n",
        "class Shape(ABC):\n",
        "  @abstractmethod\n",
        "  def area(self):\n",
        "    pass\n",
        "\n",
        "class Circle(Shape):\n",
        "  def __init__(self, radius):\n",
        "    self.radius = radius\n",
        "\n",
        "  def area(self):\n",
        "    return 3.14 * self.radius ** 2\n",
        "\n",
        "class Rectangle(Shape):\n",
        "  def __init__(self, width, height):\n",
        "    self.width = width\n",
        "    self.height = height\n",
        "\n",
        "  def area(self):\n",
        "    return self.width * self.height\n",
        "\n",
        "# Using abstraction\n",
        "circle = Circle(5)\n",
        "print(\"Area of circle:\", circle.area())\n",
        "\n",
        "rectangle = Rectangle(4, 6)\n",
        "print(\"Area of rectangle\", rectangle.area())"
      ],
      "metadata": {
        "id": "MaON5rFV3Xj1",
        "colab": {
          "base_uri": "https://localhost:8080/"
        },
        "outputId": "45c7e871-675f-4b38-fa30-73eafd3efa85"
      },
      "execution_count": null,
      "outputs": [
        {
          "output_type": "stream",
          "name": "stdout",
          "text": [
            "Area of circle: 78.5\n",
            "Area of rectangle 24\n"
          ]
        }
      ]
    },
    {
      "cell_type": "markdown",
      "source": [
        "2. Describe the benefits of abstraction in terms of code organization and complexity reduction.\n"
      ],
      "metadata": {
        "id": "u_EpW0Kx3Xxk"
      }
    },
    {
      "cell_type": "markdown",
      "source": [
        "- Encapsulation of Complexity: Abstraction allows you to encapsulate complex implementation details within classes or modules, hiding them from the rest of the program. This promotes modular design by breaking down the system into smaller, more manageable components.\n",
        "\n",
        "- Modularity: By defining clear interfaces and hiding implementation details, abstraction promotes modularity. Each module or class can focus on a specific functionality or responsibility, making the codebase easier to understand, maintain, and extend.\n",
        "\n",
        "- Code Reusability: Abstract classes and interfaces provide templates for creating multiple concrete implementations. This facilitates code reuse, as you can extend and reuse existing abstractions to build new classes or modules without rewriting the same code.\n",
        "\n",
        "- Simplified Maintenance: Abstraction allows you to isolate changes within specific modules or classes. When you need to modify the behavior of a component, you can do so without affecting other parts of the system, as long as the interface remains unchanged. This simplifies maintenance and reduces the risk of introducing bugs or unintended side effects.\n",
        "\n",
        "- Improved Collaboration: Abstraction promotes collaboration among team members by providing clear boundaries between different components of the system. Developers can work on individual modules or classes independently, focusing on their specific responsibilities without needing to understand the entire codebase in detail.\n",
        "\n",
        "- Enhanced Testing: Abstracting away implementation details makes it easier to write unit tests for individual components. Tests can focus on the expected behavior defined by the abstraction's interface, without worrying about the internal complexities of each class or module.\n",
        "\n",
        "- Scalability: Abstraction facilitates the scalability of the codebase by allowing you to add new features or refactor existing ones without significantly increasing complexity. As the system grows, abstraction helps manage the complexity by providing clear abstractions and interfaces.\n"
      ],
      "metadata": {
        "id": "D-QgayzzDpJi"
      }
    },
    {
      "cell_type": "code",
      "source": [],
      "metadata": {
        "id": "lLfhdOtF3ZVq"
      },
      "execution_count": null,
      "outputs": []
    },
    {
      "cell_type": "markdown",
      "source": [
        "3. Create a Python class called `Shape` with an abstract method `calculate_area()`. Then, create child classes (e.g., `Circle`, `Rectangle`) that implement the `calculate_area()` method. Provide an example of\n",
        "using these classes.\n"
      ],
      "metadata": {
        "id": "26DeSjBT3Ziy"
      }
    },
    {
      "cell_type": "code",
      "source": [
        "from abc import ABC, abstractmethod\n",
        "\n",
        "class Shape(ABC):\n",
        "  @abstractmethod\n",
        "  def area(self):\n",
        "    pass\n",
        "\n",
        "class Circle(Shape):\n",
        "  def __init__(self, radius):\n",
        "    self.radius = radius\n",
        "\n",
        "  def area(self):\n",
        "    return 3.14 * self.radius ** 2\n",
        "\n",
        "class Rectangle(Shape):\n",
        "  def __init__(self, width, height):\n",
        "    self.width = width\n",
        "    self.height = height\n",
        "\n",
        "  def area(self):\n",
        "    return self.width * self.height\n",
        "\n",
        "# Using abstraction\n",
        "circle = Circle(5)\n",
        "print(\"Area of circle:\", circle.area())\n",
        "\n",
        "rectangle = Rectangle(4, 6)\n",
        "print(\"Area of rectangle\", rectangle.area())"
      ],
      "metadata": {
        "id": "ToJMnfKd3bFm",
        "colab": {
          "base_uri": "https://localhost:8080/"
        },
        "outputId": "e87635bd-e9aa-431a-c6a5-ff48875f98c7"
      },
      "execution_count": null,
      "outputs": [
        {
          "output_type": "stream",
          "name": "stdout",
          "text": [
            "Area of circle: 78.5\n",
            "Area of rectangle 24\n"
          ]
        }
      ]
    },
    {
      "cell_type": "markdown",
      "source": [
        "4. Explain the concept of abstract classes in Python and how they are defined using the `abc` module. Provide\n",
        "an example.\n"
      ],
      "metadata": {
        "id": "JPGmjecC3bTg"
      }
    },
    {
      "cell_type": "markdown",
      "source": [
        "- In Python, abstract classes are classes that cannot be instantiated directly. They serve as templates or blueprints for other classes and typically contain one or more abstract methods, which are methods that must be implemented by concrete subclasses. Abstract classes are useful for defining a common interface or behavior that subclasses are expected to follow, while allowing flexibility in their implementation.\n",
        "\n",
        "- To define abstract classes in Python, you can use the abc module (Abstract Base Classes). This module provides the ABC (Abstract Base Class) class and the abstractmethod decorator, which allow you to create abstract methods within a class. By subclassing ABC and using the abstractmethod decorator, you can enforce the implementation of certain methods in concrete subclasses."
      ],
      "metadata": {
        "id": "EVhnJDtiE9SO"
      }
    },
    {
      "cell_type": "code",
      "source": [
        "from abc import ABC, abstractmethod\n",
        "\n",
        "class Shape(ABC):# Subclassing ABC to create an abstract class\n",
        "  @abstractmethod\n",
        "  def calculate_area(self):\n",
        "    pass\n",
        "\n",
        "  @abstractmethod\n",
        "  def calculate_perimeter(self):\n",
        "    pass\n",
        "\n",
        "class Circle(Shape):\n",
        "  def __init__(self, radius):\n",
        "    self.radius = radius\n",
        "\n",
        "  def calculate_area(self):\n",
        "    return 3.14 * self.radius ** 2\n",
        "\n",
        "  def calculate_perimeter(self):\n",
        "    return 2 * 3.14 * self.radius\n",
        "\n",
        "class Rectangle(Shape):\n",
        "  def __init__(self, width, height):\n",
        "    self.width = width\n",
        "    self.height = height\n",
        "\n",
        "  def calculate_area(self):\n",
        "     return self.width * self.height\n",
        "\n",
        "  def calculate_perimeter(self):\n",
        "     return 2 * (self.width + self.height)\n",
        "\n",
        "\n",
        "circle = Circle(5)\n",
        "print(\"Area of the circle:\", circle.calculate_area())\n",
        "print(\"Perimeter of cirecle:\", circle.calculate_perimeter())"
      ],
      "metadata": {
        "id": "A1FTBKZu3c_p",
        "colab": {
          "base_uri": "https://localhost:8080/"
        },
        "outputId": "4133f84f-1775-4dcc-de92-2701e7d72673"
      },
      "execution_count": null,
      "outputs": [
        {
          "output_type": "stream",
          "name": "stdout",
          "text": [
            "Area of the circle: 78.5\n",
            "Perimeter of cirecle: 31.400000000000002\n"
          ]
        }
      ]
    },
    {
      "cell_type": "markdown",
      "source": [
        "5. How do abstract classes differ from regular classes in Python? Discuss their use cases.\n"
      ],
      "metadata": {
        "id": "uh9rRoUN3dMP"
      }
    },
    {
      "cell_type": "markdown",
      "source": [
        "- Instantiation: Regular classes can be instantiated directly, meaning you can create objects of those classes using the class constructor. On the other hand, abstract classes cannot be instantiated directly; they serve as blueprints or templates for other classes and are meant to be subclassed.\n",
        "\n",
        "- Abstract Methods: Abstract classes can contain abstract methods, which are methods that have a declaration but no implementation. These abstract methods must be implemented by concrete subclasses. Regular classes can also have methods without implementations, but they are not enforced to be implemented by subclasses.\n",
        "\n",
        "- Purpose: Abstract classes are used to define a common interface or behavior that subclasses are expected to follow. They provide a way to enforce a certain structure or contract among related classes. Regular classes, on the other hand, are used to define concrete objects with specific attributes and behaviors.\n",
        "\n",
        "- Enforcement: Abstract classes can enforce the implementation of specific methods by marking them as abstract using the abstractmethod decorator from the abc module. Regular classes do not enforce the implementation of any methods, allowing subclasses to override methods as needed without any restrictions.\n",
        "\n",
        "- Composition vs. Inheritance: Abstract classes are often used in inheritance hierarchies, where subclasses inherit common behavior and attributes from a superclass. Regular classes can also participate in inheritance but may not necessarily be part of an inheritance hierarchy.\n",
        "\n",
        "\n",
        "- Use cases for abstract classes:\n",
        "\n",
        "    - Defining interfaces: Abstract classes are useful for defining interfaces or contracts that specify the methods a subclass must implement. This is helpful in enforcing a consistent API across multiple subclasses.\n",
        "    - Providing default implementations: Abstract classes can provide default implementations for some methods, allowing subclasses to override only the necessary methods.\n",
        "    - Building extensible frameworks: Abstract classes can be used to build extensible frameworks or libraries where certain behaviors can be customized by subclassing and implementing abstract methods.\n",
        "    \n",
        "    - Encapsulating common behavior: Abstract classes can encapsulate common behavior shared by multiple subclasses, promoting code reuse and modularity.\n",
        "- Use cases for regular classes:\n",
        "\n",
        "    - Defining concrete objects: Regular classes are used to define concrete objects with specific attributes and behaviors. These objects can be instantiated directly and used in applications.\n",
        "\n",
        "    - Implementing business logic: Regular classes are used to implement business logic, data models, or utility functions that do not require a common interface enforced by abstract classes.\n",
        "\n",
        "    - Providing utility functions: Regular classes can encapsulate utility functions or helper methods that perform specific tasks within an application or system.\n",
        "\n",
        "    - Creating standalone components: Regular classes can be standalone components that are not part of an inheritance hierarchy and do not need to adhere to a common interface enforced by abstract classes."
      ],
      "metadata": {
        "id": "cMe9KDzqHqjX"
      }
    },
    {
      "cell_type": "code",
      "source": [],
      "metadata": {
        "id": "Z8sAQFX43erU"
      },
      "execution_count": null,
      "outputs": []
    },
    {
      "cell_type": "markdown",
      "source": [
        "6. Create a Python class for a bank account and demonstrate abstraction by hiding the account balance and\n",
        "providing methods to deposit and withdraw funds.\n"
      ],
      "metadata": {
        "id": "KDXqR8Op3e4X"
      }
    },
    {
      "cell_type": "code",
      "source": [
        "class BankAccount:\n",
        "  def __init__(self, account_number, initial_balance=0):\n",
        "    self._account_number = account_number\n",
        "    self._balance = initial_balance\n",
        "\n",
        "  def deposit(self, amount):\n",
        "    if amount > 0:\n",
        "      self._balance += amount\n",
        "      print(f\"Deposite ${amount}. New balance: ${self._balance}.\")\n",
        "    else:\n",
        "      print(\"Invalid deposit amount.\")\n",
        "\n",
        "  def withdraw(self, amount):\n",
        "    if 0 < amount <= self._balance:\n",
        "      self._balance -= amount\n",
        "      print(f\"Withdraw ${amount}. New balance ${self._balance}\")\n",
        "    else:\n",
        "      print(\"Insufficient fund\")\n",
        "\n",
        "\n",
        "account = BankAccount(\"1234565779768\", 100000)\n",
        "account.deposit(5000)\n",
        "account.withdraw(2000)\n",
        "account.deposit(5000000000)"
      ],
      "metadata": {
        "id": "fr7TQ8RU3g-w",
        "colab": {
          "base_uri": "https://localhost:8080/"
        },
        "outputId": "2799cf39-9c23-4d10-d0d7-9f4b20088d00"
      },
      "execution_count": null,
      "outputs": [
        {
          "output_type": "stream",
          "name": "stdout",
          "text": [
            "Deposite $5000. New balance: $105000.\n",
            "Withdraw $2000. New balance $103000\n",
            "Deposite $5000000000. New balance: $5000103000.\n"
          ]
        }
      ]
    },
    {
      "cell_type": "markdown",
      "source": [
        "7. Discuss the concept of interface classes in Python and their role in achieving abstraction.\n"
      ],
      "metadata": {
        "id": "nyhkySkY3hSv"
      }
    },
    {
      "cell_type": "markdown",
      "source": [
        "- In Python, interface classes are classes that define a set of methods that must be implemented by their subclasses. They serve as blueprints or contracts, specifying the behavior that subclasses are expected to provide. Interface classes help achieve abstraction by hiding implementation details and providing a common interface for interacting with different objects, regardless of their specific implementations.\n",
        "\n",
        "- While Python does not have built-in support for interface classes like some other programming languages (e.g., Java), the concept of interfaces can be achieved using abstract base classes (ABCs) from the abc module. Abstract base classes allow you to define abstract methods using the abstractmethod decorator, which must be implemented by concrete subclasses. By defining interface classes using ABCs, you can enforce a certain structure or contract among related classes, promoting code reuse, modularity, and maintainability.\n",
        "\n",
        "\n",
        "- The role of interface classes in achieving abstraction includes:\n",
        "\n",
        "- Defining Common Interfaces: Interface classes define a common set of methods that subclasses are expected to implement. This allows objects of different classes to be treated uniformly based on their shared behavior, rather than their specific implementations.\n",
        "\n",
        "- Hiding Implementation Details: Interface classes hide the internal implementation details of subclasses, allowing users of those classes to interact with them through a standardized interface. This promotes encapsulation and reduces dependency on specific implementation details, improving code maintainability and flexibility.\n",
        "\n",
        "- Enforcing Contracts: Interface classes enforce a contract or agreement between classes, ensuring that subclasses provide certain methods with specific signatures. This helps prevent errors and inconsistencies in the implementation of subclasses by clearly defining the expected behavior.\n",
        "\n",
        "- Facilitating Polymorphism: Interface classes facilitate polymorphism, allowing objects of different classes to be treated interchangeably based on their shared interface. This enables code to be more generic and flexible, as it can work with objects of different types without needing to know their specific implementations.\n",
        "\n",
        "- Promoting Code Reuse: By defining common interfaces, interface classes promote code reuse by allowing multiple subclasses to share the same set of methods. This reduces duplication of code and encourages modular design, making it easier to extend and maintain the codebase over time.\n"
      ],
      "metadata": {
        "id": "2KgH7_4LLFaE"
      }
    },
    {
      "cell_type": "code",
      "source": [],
      "metadata": {
        "id": "3Q5l8aP73jG-"
      },
      "execution_count": null,
      "outputs": []
    },
    {
      "cell_type": "markdown",
      "source": [
        "8. Create a Python class hierarchy for animals and implement abstraction by defining common methods (e.g., `eat()`, `sleep()`) in an abstract base class.\n"
      ],
      "metadata": {
        "id": "TNqbg7rM3jVN"
      }
    },
    {
      "cell_type": "code",
      "source": [
        "from abc import ABC, abstractmethod\n",
        "\n",
        "class Animal(ABC):\n",
        "  def __init__(self, name, species):\n",
        "    self.name = name\n",
        "    self.species = species\n",
        "\n",
        "  @abstractmethod\n",
        "  def eat(self):\n",
        "    pass\n",
        "\n",
        "  @abstractmethod\n",
        "  def sleep(self):\n",
        "    pass\n",
        "\n",
        "class Dog(Animal):\n",
        "  def __init__(self, name):\n",
        "    super().__init__(name, species=\"Dog\")\n",
        "\n",
        "  def eat(self):\n",
        "    print(f\"{self.name} is eating dog food.\")\n",
        "\n",
        "  def sleep(self):\n",
        "    print(f\"{self.name} is sleeping in own bed\")\n",
        "\n",
        "class Cat(Animal):\n",
        "  def __init__(self, name):\n",
        "    super().__init__(name, species=\"Dog\")\n",
        "\n",
        "  def eat(self):\n",
        "    print(f\"{self.name} is eating cat food. \")\n",
        "\n",
        "  def sleep(self):\n",
        "    print(f\"{self.name} is sleeping in a cat bad\")\n",
        "\n",
        "class Bird(Animal):\n",
        "  def __init__(self, name):\n",
        "    super().__init__(name, species=\"Bird\")\n",
        "\n",
        "  def eat(self):\n",
        "    print(f\"{self.name}: is eating bird food.\")\n",
        "\n",
        "  def sleep(self):\n",
        "    print(f\"{self.name} is sleeping in birdcage\")\n",
        "\n",
        "dog = Dog(\"Moti\")\n",
        "cat = Cat(\"Pussi\")\n",
        "bird = Bird(\"Mittu\")\n",
        "\n",
        "\n",
        "dog.eat()\n",
        "dog.sleep()\n",
        "\n",
        "cat.eat()\n",
        "cat.sleep()\n",
        "\n",
        "bird.eat()\n",
        "bird.sleep()"
      ],
      "metadata": {
        "id": "bRP9x-rZ3lSu",
        "colab": {
          "base_uri": "https://localhost:8080/"
        },
        "outputId": "0e387ae8-560e-4d51-e088-b65aacff53f0"
      },
      "execution_count": null,
      "outputs": [
        {
          "output_type": "stream",
          "name": "stdout",
          "text": [
            "Moti is eating dog food.\n",
            "Moti is sleeping in own bed\n",
            "Pussi is eating cat food. \n",
            "Pussi is sleeping in a cat bad\n",
            "Mittu: is eating bird food.\n",
            "Mittu is sleeping in birdcage\n"
          ]
        }
      ]
    },
    {
      "cell_type": "markdown",
      "source": [
        "9. Explain the significance of encapsulation in achieving abstraction. Provide examples.\n"
      ],
      "metadata": {
        "id": "aHY7iQEt3lg4"
      }
    },
    {
      "cell_type": "markdown",
      "source": [
        "- Encapsulation is a fundamental concept in object-oriented programming that involves bundling data (attributes) and methods (behavior) that operate on that data into a single unit, known as a class. Encapsulation helps achieve abstraction by hiding the internal state of an object and exposing only the necessary information and functionality through well-defined interfaces. This allows the implementation details to be hidden from the outside world, promoting modularity, maintainability, and flexibility.\n",
        "\n",
        "\n",
        "- Data Hiding: Encapsulation allows the internal state of an object (its attributes) to be hidden from the outside world. By making attributes private or protected, direct access to them is restricted, and access is provided only through getter and setter methods. This hides the implementation details and prevents unauthorized access or modification of the object's state.\n",
        "\n",
        "- Abstraction: Encapsulation allows the implementation details of a class to be abstracted away, exposing only a well-defined interface to the outside world. Users of the class interact with it through these interfaces, without needing to know the internal workings of the class. This promotes code maintainability and reduces dependency on specific implementation details.\n",
        "\n",
        "- Modularity: Encapsulation promotes modularity by organizing code into logical units (classes) with well-defined boundaries. Each class encapsulates its own data and behavior, making it easier to understand, maintain, and extend the codebase. Changes made to one class are less likely to affect other parts of the system, reducing the risk of unintended side effects.\n",
        "\n",
        "- Flexibility: Encapsulation allows for the implementation of getter and setter methods, which provide controlled access to an object's attributes. This allows for validation, error checking, and additional logic to be implemented within these methods, providing flexibility and ensuring data integrity."
      ],
      "metadata": {
        "id": "Lki6PrhNlAZK"
      }
    },
    {
      "cell_type": "code",
      "source": [],
      "metadata": {
        "id": "eS9400WC3nOj"
      },
      "execution_count": null,
      "outputs": []
    },
    {
      "cell_type": "markdown",
      "source": [
        "10. What is the purpose of abstract methods, and how do they enforce abstraction in Python classes?\n"
      ],
      "metadata": {
        "id": "8_YcgiBj3ncL"
      }
    },
    {
      "cell_type": "markdown",
      "source": [
        "-\n",
        "Abstract methods in Python serve the purpose of defining methods in an abstract base class (ABC) that must be implemented by concrete subclasses. They enforce abstraction by defining a common interface or contract that subclasses are expected to adhere to, while allowing the implementation details to be deferred to the subclasses.\n",
        "\n",
        "\n",
        "- The purpose of abstract methods includes:\n",
        "\n",
        "- Defining Interfaces: Abstract methods define a set of methods that subclasses must implement. They serve as a contract or agreement, specifying the behavior that subclasses are expected to provide. This helps establish a common interface for interacting with different types of objects, regardless of their specific implementations.\n",
        "\n",
        "- Promoting Modularity: Abstract methods promote modularity by separating the specification of behavior from its implementation. They encapsulate the expected behavior within the abstract base class, allowing subclasses to provide their own implementations without affecting the overall design of the system.\n",
        "\n",
        "- Enforcing Structure: Abstract methods enforce a certain structure or template among related classes. They ensure that subclasses provide implementations for specific methods with predefined signatures, preventing errors and inconsistencies in the implementation of subclasses.\n",
        "\n",
        "- Facilitating Polymorphism: Abstract methods facilitate polymorphism by allowing objects of different classes to be treated uniformly based on their shared interface. This enables code to be more generic and flexible, as it can work with objects of different types without needing to know their specific implementations.\n",
        "\n",
        "In Python, abstract methods are defined using the abstractmethod decorator from the abc module. This decorator marks a method as abstract, indicating that it must be implemented by concrete subclasses. If a subclass fails to implement an abstract method defined in its superclass, an error will be raised at runtime, ensuring that all required methods are provided."
      ],
      "metadata": {
        "id": "fGu8ntq4mb6R"
      }
    },
    {
      "cell_type": "code",
      "source": [
        "from abc import ABC, abstractmethod\n",
        "\n",
        "class Shape(ABC):\n",
        "    @abstractmethod\n",
        "    def area(self):\n",
        "        pass\n",
        "\n",
        "class Circle(Shape):\n",
        "    def __init__(self, radius):\n",
        "        self.radius = radius\n",
        "\n",
        "    def area(self):\n",
        "        return 3.14 * self.radius ** 2\n",
        "\n",
        "class Rectangle(Shape):\n",
        "    def __init__(self, width, height):\n",
        "        self.width = width\n",
        "        self.height = height\n",
        "\n",
        "    def area(self):\n",
        "        return self.width * self.height\n",
        "\n",
        "# Example usage\n",
        "circle = Circle(5)\n",
        "print(\"Area of circle:\", circle.area())\n",
        "\n",
        "rectangle = Rectangle(4, 6)\n",
        "print(\"Area of rectangle:\", rectangle.area())\n"
      ],
      "metadata": {
        "id": "3vTrQ8cv3o_K",
        "colab": {
          "base_uri": "https://localhost:8080/"
        },
        "outputId": "ad9c9c3b-c9c1-4800-cb9c-ccf339d157a1"
      },
      "execution_count": null,
      "outputs": [
        {
          "output_type": "stream",
          "name": "stdout",
          "text": [
            "Area of circle: 78.5\n",
            "Area of rectangle: 24\n"
          ]
        }
      ]
    },
    {
      "cell_type": "markdown",
      "source": [
        "11. Create a Python class for a vehicle system and demonstrate abstraction by defining common methods (e.g., `start()`, `stop()`) in an abstract base class.\n"
      ],
      "metadata": {
        "id": "yRoY5I2-3pNb"
      }
    },
    {
      "cell_type": "code",
      "source": [
        "from abc import ABC, abstractmethod\n",
        "\n",
        "class Vehicle(ABC):\n",
        "  def __init__(self, make, model):\n",
        "    self.make = make\n",
        "    self.model = model\n",
        "    self.is_running = False\n",
        "\n",
        "  @abstractmethod\n",
        "  def start(self):\n",
        "    pass\n",
        "\n",
        "  @abstractmethod\n",
        "  def stop(self):\n",
        "    pass\n",
        "\n",
        "\n",
        "class Car(Vehicle):\n",
        "  def start(self):\n",
        "    if not self.is_running:\n",
        "      self.is_running  = True\n",
        "      print(f\"{self.make} {self.model} car has started.\")\n",
        "    else:\n",
        "      print(f\"{self.make} {self.model} car is already running\")\n",
        "\n",
        "  def stop(self):\n",
        "    if self.is_running:\n",
        "      self.is_running = False\n",
        "      print(f\"{self.make} {self.model} car has stopped.\")\n",
        "    else:\n",
        "      print(f\"{self.make} {self.model} car is alreadystopped\")\n",
        "\n",
        "class Motorcycle(Vehicle):\n",
        "  def start(self):\n",
        "    if not self.is_running:\n",
        "      self.is_running = True\n",
        "      print(f\"{self.make} {self.model} motorcycle has started\")\n",
        "    else:\n",
        "      print(f\"{self.make} {self.model} motorcycle is already started.\")\n",
        "\n",
        "  def stop(self):\n",
        "    if self.is_running:\n",
        "      self.is_running = False\n",
        "      print(f\"{self.make} {self.model} motorcycle has stopped.\")\n",
        "    else:\n",
        "      print(f\"{self.make} {self.model} motorcycle is alreadystopped\")\n",
        "\n",
        "\n",
        "car = Car(\"Toyota\", \"Camry\")\n",
        "car.start()\n",
        "car.start()\n",
        "car.stop()\n",
        "car.stop()\n",
        "\n",
        "\n",
        "motorcycle  = Motorcycle(\"TVS\", \"45jryt\")\n",
        "motorcycle.start()\n",
        "motorcycle.start()\n",
        "motorcycle.stop()\n",
        "motorcycle.stop()"
      ],
      "metadata": {
        "id": "lwxd3tG73rAj",
        "colab": {
          "base_uri": "https://localhost:8080/"
        },
        "outputId": "4e339f73-e9b3-44a1-9fe2-7d17b96aeebf"
      },
      "execution_count": null,
      "outputs": [
        {
          "output_type": "stream",
          "name": "stdout",
          "text": [
            "Toyota Camry car has started.\n",
            "Toyota Camry car is already running\n",
            "Toyota Camry car has stopped.\n",
            "Toyota Camry car is alreadystopped\n",
            "TVS 45jryt motorcycle has started\n",
            "TVS 45jryt motorcycle is already started.\n",
            "TVS 45jryt motorcycle has stopped.\n",
            "TVS 45jryt motorcycle is alreadystopped\n"
          ]
        }
      ]
    },
    {
      "cell_type": "markdown",
      "source": [
        "12. Describe the use of abstract properties in Python and how they can be employed in abstract classes.\n"
      ],
      "metadata": {
        "id": "6sHAYdNo3rPl"
      }
    },
    {
      "cell_type": "markdown",
      "source": [
        "- In Python, abstract properties are properties that are declared in an abstract base class (ABC) but are not implemented. They serve as placeholders for properties that must be implemented by concrete subclasses. Abstract properties are useful when you want to enforce the presence of certain properties in subclasses without providing a default implementation in the base class.\n",
        "\n",
        "- Abstract properties are typically defined using the @property decorator along with the abstractmethod decorator from the abc module. This combination ensures that the property is abstract and must be implemented by subclasses."
      ],
      "metadata": {
        "id": "LxsPFLyMsDx7"
      }
    },
    {
      "cell_type": "code",
      "source": [
        "from abc import ABC, abstractmethod\n",
        "\n",
        "class Vehicle(ABC):\n",
        "    @property\n",
        "    @abstractmethod\n",
        "    def make(self):\n",
        "        pass\n",
        "\n",
        "    @property\n",
        "    @abstractmethod\n",
        "    def model(self):\n",
        "        pass\n",
        "\n",
        "class Car(Vehicle):\n",
        "    def __init__(self, make, model):\n",
        "        self._make = make\n",
        "        self._model = model\n",
        "\n",
        "    @property\n",
        "    def make(self):\n",
        "        return self._make\n",
        "\n",
        "    @property\n",
        "    def model(self):\n",
        "        return self._model\n",
        "\n",
        "class Motorcycle(Vehicle):\n",
        "    def __init__(self, make, model):\n",
        "        self._make = make\n",
        "        self._model = model\n",
        "\n",
        "    @property\n",
        "    def make(self):\n",
        "        return self._make\n",
        "\n",
        "    @property\n",
        "    def model(self):\n",
        "        return self._model\n",
        "\n",
        "# Example usage\n",
        "car = Car(\"Toyota\", \"Camry\")\n",
        "print(\"Car make:\", car.make)\n",
        "print(\"Car model:\", car.model)\n",
        "\n",
        "motorcycle = Motorcycle(\"Honda\", \"CBR500R\")\n",
        "print(\"Motorcycle make:\", motorcycle.make)\n",
        "print(\"Motorcycle model:\", motorcycle.model)\n"
      ],
      "metadata": {
        "id": "cfEder7q3s7P",
        "colab": {
          "base_uri": "https://localhost:8080/"
        },
        "outputId": "38c8fd6c-e692-4776-95e1-a42c7e218e49"
      },
      "execution_count": null,
      "outputs": [
        {
          "output_type": "stream",
          "name": "stdout",
          "text": [
            "Car make: Toyota\n",
            "Car model: Camry\n",
            "Motorcycle make: Honda\n",
            "Motorcycle model: CBR500R\n"
          ]
        }
      ]
    },
    {
      "cell_type": "markdown",
      "source": [],
      "metadata": {
        "id": "9d8FKcuz3fKa"
      }
    },
    {
      "cell_type": "markdown",
      "source": [
        "13. Create a Python class hierarchy for employees in a company (e.g., manager, developer, designer) and implement abstraction by defining a common `get_salary()` method.\n"
      ],
      "metadata": {
        "id": "ECXxJx6B3tJu"
      }
    },
    {
      "cell_type": "code",
      "source": [
        "from abc import ABC, abstractmethod\n",
        "\n",
        "class Employee(ABC):\n",
        "  def __init__(self, name, employee_id):\n",
        "    self.name = name\n",
        "    self.employee_id = employee_id\n",
        "\n",
        "  @abstractmethod\n",
        "  def get_salary(self):\n",
        "    pass\n",
        "\n",
        "class Manager(Employee):\n",
        "  def __init__(self, name, employee_id, salary):\n",
        "    super().__init__(name, employee_id)\n",
        "    self.salary = salary\n",
        "\n",
        "  def get_salary(self):\n",
        "    return self.salary\n",
        "\n",
        "class Developer(Employee):\n",
        "  def __init__(self, name, employee_id, hourly_rate, hours_worked):\n",
        "    super().__init__(name, employee_id)\n",
        "    self.hourly_rate = hourly_rate\n",
        "    self.hours_worked = hours_worked\n",
        "\n",
        "  def get_salary(self):\n",
        "    return self.hourly_rate * self.hours_worked\n",
        "\n",
        "class Designer(Employee):\n",
        "    def __init__(self, name, employee_id, monthly_salary):\n",
        "        super().__init__(name, employee_id)\n",
        "        self.monthly_salary = monthly_salary\n",
        "\n",
        "    def get_salary(self):\n",
        "        return self.monthly_salary\n",
        "\n",
        "\n",
        "\n",
        "manager = Manager(\"John Doe\", \"M123\", 10000)\n",
        "print(\"Manager salary:\", manager.get_salary())\n",
        "\n",
        "developer = Developer(\"Alice Smith\", \"D456\", 50, 160)\n",
        "print(\"Developer salary:\", developer.get_salary())\n",
        "\n",
        "designer = Designer(\"Bob Johnson\", \"D789\", 8000)\n",
        "print(\"Designer salary:\", designer.get_salary())\n",
        "\n"
      ],
      "metadata": {
        "id": "b_XC2cW93yvs",
        "colab": {
          "base_uri": "https://localhost:8080/"
        },
        "outputId": "8a0199b7-a9e6-409c-b948-84551f211672"
      },
      "execution_count": null,
      "outputs": [
        {
          "output_type": "stream",
          "name": "stdout",
          "text": [
            "Manager salary: 10000\n",
            "Developer salary: 8000\n",
            "Designer salary: 8000\n"
          ]
        }
      ]
    },
    {
      "cell_type": "markdown",
      "source": [
        "14. Discuss the differences between abstract classes and concrete classes in Python, including their\n",
        "instantiation.\n"
      ],
      "metadata": {
        "id": "Tqy5RHG03y8f"
      }
    },
    {
      "cell_type": "markdown",
      "source": [
        "- An abstract class is a class that cannot be instantiated. It is used to define a common interface for a set of classes. Concrete classes, on the other hand, can be instantiated. They inherit from abstract classes and provide implementations for the abstract methods defined in the abstract class.\n",
        "\n",
        "- Abstract Classes:\n",
        "\n",
        "    - Abstract classes are classes that cannot be instantiated directly. They serve as templates or blueprints for other classes and typically contain one or more abstract methods, which are methods that must be implemented by concrete subclasses.\n",
        "    - Abstract classes are often used to define a common interface or behavior that subclasses are expected to follow, while allowing flexibility in their implementation.\n",
        "    - Abstract classes are defined using the ABC base class from the abc module, along with the abstractmethod decorator to mark abstract methods.\n",
        "    - Attempting to instantiate an abstract class directly will raise a TypeError"
      ],
      "metadata": {
        "id": "RC_cMXqYv62U"
      }
    },
    {
      "cell_type": "markdown",
      "source": [
        "- Concrete Classes:\n",
        "\n",
        "    - Concrete classes are classes that can be instantiated directly. They define concrete objects with specific attributes and behaviors.\n",
        "    - Concrete classes may or may not inherit from abstract classes or other concrete classes.\n",
        "    - Concrete classes may contain implementations for all methods defined in their class hierarchy, including methods inherited from abstract classes.\n",
        "    - Instances of concrete classes can be created using the class constructor (__init__() method) or by calling the class directly with arguments."
      ],
      "metadata": {
        "id": "64dXMIjuwKzm"
      }
    },
    {
      "cell_type": "code",
      "source": [],
      "metadata": {
        "id": "6Ms_O4kE30v1"
      },
      "execution_count": null,
      "outputs": []
    },
    {
      "cell_type": "markdown",
      "source": [
        "15. Explain the concept of abstract data types (ADTs) and their role in achieving abstraction in Python.\n"
      ],
      "metadata": {
        "id": "C2L20C2G30_z"
      }
    },
    {
      "cell_type": "markdown",
      "source": [
        "- An Abstract Data Type (ADT) is a programming concept that defines a high-level view of a data structure, without specifying the implementation details. In other words, it is a blueprint for creating a data structure that defines the behavior and interface of the structure, without specifying how it is implemented\n",
        "\n",
        "- Abstract Data Types (ADTs) are theoretical models that define data structures based on a set of operations or behaviors, without specifying the implementation details. ADTs encapsulate data and the operations that can be performed on that data, providing a clear interface for interacting with the data while hiding the underlying implementation. ADTs play a crucial role in achieving abstraction by separating the logical view of data from its physical representation, allowing users to focus on what operations can be performed on the data rather than how those operations are implemented.\n",
        "\n",
        "- In Python, ADTs can be implemented using classes and methods. By defining classes that represent abstract data structures and providing methods to manipulate the data within those structures, you can achieve abstraction and encapsulation. For example, you can define a Stack class that represents a stack data structure and provides methods such as push() and pop() to manipulate the stack, without exposing the internal implementation details of the stack.\n"
      ],
      "metadata": {
        "id": "xpOYYKuSweEh"
      }
    },
    {
      "cell_type": "code",
      "source": [],
      "metadata": {
        "id": "jKiMjTuW32oj"
      },
      "execution_count": null,
      "outputs": []
    },
    {
      "cell_type": "markdown",
      "source": [
        "16. Create a Python class for a computer system, demonstrating abstraction by defining common methods (e.g., `power_on()`, `shutdown()`) in an abstract base class.\n"
      ],
      "metadata": {
        "id": "TO5-rQgM323f"
      }
    },
    {
      "cell_type": "code",
      "source": [
        "from abc import ABC, abstractmethod\n",
        "\n",
        "class ComputerSystem(ABC):\n",
        "    def __init__(self, brand, model):\n",
        "        self.brand = brand\n",
        "        self.model = model\n",
        "        self.is_powered_on = False\n",
        "\n",
        "    @abstractmethod\n",
        "    def power_on(self):\n",
        "        pass\n",
        "\n",
        "    @abstractmethod\n",
        "    def shutdown(self):\n",
        "        pass\n",
        "\n",
        "class Desktop(ComputerSystem):\n",
        "    def power_on(self):\n",
        "        if not self.is_powered_on:\n",
        "            self.is_powered_on = True\n",
        "            print(f\"{self.brand} {self.model} desktop powered on.\")\n",
        "        else:\n",
        "            print(f\"{self.brand} {self.model} desktop is already powered on.\")\n",
        "\n",
        "    def shutdown(self):\n",
        "        if self.is_powered_on:\n",
        "            self.is_powered_on = False\n",
        "            print(f\"{self.brand} {self.model} desktop shutting down.\")\n",
        "        else:\n",
        "            print(f\"{self.brand} {self.model} desktop is already powered off.\")\n",
        "\n",
        "class Laptop(ComputerSystem):\n",
        "    def power_on(self):\n",
        "        if not self.is_powered_on:\n",
        "            self.is_powered_on = True\n",
        "            print(f\"{self.brand} {self.model} laptop powered on.\")\n",
        "        else:\n",
        "            print(f\"{self.brand} {self.model} laptop is already powered on.\")\n",
        "\n",
        "    def shutdown(self):\n",
        "        if self.is_powered_on:\n",
        "            self.is_powered_on = False\n",
        "            print(f\"{self.brand} {self.model} laptop shutting down.\")\n",
        "        else:\n",
        "            print(f\"{self.brand} {self.model} laptop is already powered off.\")\n",
        "\n",
        "# Example usage\n",
        "desktop = Desktop(\"Dell\", \"XPS 8940\")\n",
        "desktop.power_on()\n",
        "desktop.power_on()\n",
        "desktop.shutdown()\n",
        "desktop.shutdown()\n",
        "\n",
        "print()\n",
        "\n",
        "laptop = Laptop(\"Apple\", \"MacBook Pro\")\n",
        "laptop.power_on()\n",
        "laptop.power_on()\n",
        "laptop.shutdown()\n",
        "laptop.shutdown()\n"
      ],
      "metadata": {
        "id": "YmThjOWT34hp",
        "colab": {
          "base_uri": "https://localhost:8080/"
        },
        "outputId": "17f7f195-193a-4fd0-caee-0f42837adc51"
      },
      "execution_count": null,
      "outputs": [
        {
          "output_type": "stream",
          "name": "stdout",
          "text": [
            "Dell XPS 8940 desktop powered on.\n",
            "Dell XPS 8940 desktop is already powered on.\n",
            "Dell XPS 8940 desktop shutting down.\n",
            "Dell XPS 8940 desktop is already powered off.\n",
            "\n",
            "Apple MacBook Pro laptop powered on.\n",
            "Apple MacBook Pro laptop is already powered on.\n",
            "Apple MacBook Pro laptop shutting down.\n",
            "Apple MacBook Pro laptop is already powered off.\n"
          ]
        }
      ]
    },
    {
      "cell_type": "markdown",
      "source": [
        "17. Discuss the benefits of using abstraction in large-scale software development projects.\n"
      ],
      "metadata": {
        "id": "K6uUoN7v34wN"
      }
    },
    {
      "cell_type": "markdown",
      "source": [
        "- Simplified Complexity: Abstraction allows developers to focus on high-level concepts and hide implementation details. By providing a clear and simplified view of complex systems, abstraction makes it easier for developers to understand, maintain, and extend large-scale software projects.\n",
        "\n",
        "- Modular Design: Abstraction promotes modular design by breaking down a system into smaller, manageable components. Each component can be developed, tested, and maintained independently, leading to better organization and easier collaboration among team members.\n",
        "\n",
        "- Code Reusability: Abstraction encourages the reuse of existing components and patterns. Abstracting common functionality into reusable modules or libraries allows developers to leverage existing code, reducing redundancy and accelerating development cycles.\n",
        "\n",
        "- Increased Flexibility: Abstraction provides flexibility in software design by allowing different implementations to satisfy a common interface. This enables developers to swap out components or change implementations without impacting the rest of the system, making it easier to adapt to changing requirements or technologies.\n",
        "\n",
        "- Encapsulation of Complexity: Abstraction encapsulates complexity by hiding unnecessary details and exposing only essential features through well-defined interfaces. This helps manage the complexity of large-scale projects and reduces the cognitive load on developers, leading to more maintainable and scalable codebases.\n",
        "\n",
        "- Ease of Maintenance: Abstraction improves the maintainability of software projects by separating concerns and isolating changes to specific components. When modifications or updates are needed, developers can focus on the relevant abstraction layer without disrupting the rest of the system, reducing the risk of introducing bugs or regressions.\n",
        "\n",
        "- Improved Testing and Debugging: Abstraction facilitates testing and debugging by providing clear boundaries between components. With well-defined interfaces, developers can easily mock dependencies, isolate bugs, and write targeted tests, leading to more robust and reliable software.\n",
        "\n",
        "- Scalability: Abstraction enables scalability by allowing systems to grow and evolve over time without significant architectural changes. As the complexity of a project increases or new features are added, abstraction provides a foundation for managing complexity and adapting to evolving requirements."
      ],
      "metadata": {
        "id": "bnc7Hpe1wqwD"
      }
    },
    {
      "cell_type": "code",
      "source": [],
      "metadata": {
        "id": "MFmVfWK536hh"
      },
      "execution_count": null,
      "outputs": []
    },
    {
      "cell_type": "markdown",
      "source": [
        "18. Explain how abstraction enhances code reusability and modularity in Python programs.\n"
      ],
      "metadata": {
        "id": "Ng1wU3I636u0"
      }
    },
    {
      "cell_type": "markdown",
      "source": [
        "- Abstraction enhances code reusability and modularity in Python programs by providing a clear separation between the interface and the implementation of components, promoting a modular design approach. Here's how abstraction achieves these benefits:\n",
        "\n",
        "- Encapsulation of Complexity: Abstraction encapsulates complexity by hiding unnecessary details and exposing only essential features through well-defined interfaces. By abstracting away implementation details, developers can focus on the high-level functionality of components without getting bogged down by low-level implementation details. This makes it easier to understand, reuse, and maintain code.\n",
        "\n",
        "- Promotion of Modular Design: Abstraction promotes modular design by breaking down a system into smaller, manageable components with well-defined interfaces. Each module encapsulates a specific functionality or set of related features, making it easier to develop, test, and maintain individual components independently. This modularity allows developers to build complex systems by assembling and composing smaller, reusable modules, leading to better organization and easier collaboration among team members.\n",
        "\n",
        "- Code Reusability: Abstraction encourages code reusability by promoting the development of reusable components and patterns. Abstracting common functionality into reusable modules or libraries allows developers to leverage existing code across multiple projects or within the same project, reducing redundancy and accelerating development cycles. By providing a clear and standardized interface, abstract components can be easily integrated into different contexts without modification, leading to more efficient and scalable codebases.\n",
        "\n",
        "- Flexibility in Implementation: Abstraction provides flexibility in implementation by allowing different implementations to satisfy a common interface. This enables developers to swap out components or change implementations without impacting the rest of the system. By decoupling components from their concrete implementations, abstraction enables developers to adapt to changing requirements or technologies more easily, leading to more flexible and maintainable codebases.\n",
        "\n",
        "- Ease of Maintenance: Abstraction improves the maintainability of Python programs by isolating changes to specific components. When modifications or updates are needed, developers can focus on the relevant abstraction layer without disrupting the rest of the system. This reduces the risk of introducing bugs or regressions and makes it easier to maintain and evolve software over time."
      ],
      "metadata": {
        "id": "JDRJyhU7xPjs"
      }
    },
    {
      "cell_type": "code",
      "source": [],
      "metadata": {
        "id": "CsAmQ_jz38VM"
      },
      "execution_count": null,
      "outputs": []
    },
    {
      "cell_type": "markdown",
      "source": [
        "19. Create a Python class for a library system, implementing abstraction by defining common methods (e.g., `add_book()`, `borrow_book()`) in an abstract base class.\n"
      ],
      "metadata": {
        "id": "FYSfcg3f38kD"
      }
    },
    {
      "cell_type": "code",
      "source": [
        "from abc import ABC, abstractmethod\n",
        "\n",
        "class LibrarySystem(ABC):\n",
        "    def __init__(self):\n",
        "        self.books = {}\n",
        "\n",
        "    @abstractmethod\n",
        "    def add_book(self, book_id, title, author):\n",
        "        pass\n",
        "\n",
        "    @abstractmethod\n",
        "    def borrow_book(self, book_id):\n",
        "        pass\n",
        "\n",
        "    @abstractmethod\n",
        "    def return_book(self, book_id):\n",
        "        pass\n",
        "\n",
        "class SimpleLibrary(LibrarySystem):\n",
        "    def add_book(self, book_id, title, author):\n",
        "        if book_id not in self.books:\n",
        "            self.books[book_id] = {'title': title, 'author': author}\n",
        "            print(f\"Book '{title}' by {author} added to the library.\")\n",
        "        else:\n",
        "            print(\"Book with the same ID already exists.\")\n",
        "\n",
        "    def borrow_book(self, book_id):\n",
        "        if book_id in self.books:\n",
        "            del self.books[book_id]\n",
        "            print(\"Book borrowed successfully.\")\n",
        "        else:\n",
        "            print(\"Book not found in the library.\")\n",
        "\n",
        "    def return_book(self, book_id):\n",
        "        if book_id not in self.books:\n",
        "            self.books[book_id] = {'title': title, 'author': author}\n",
        "            print(\"Book returned successfully.\")\n",
        "        else:\n",
        "            print(\"Book already in the library.\")\n",
        "\n",
        "# Example usage\n",
        "library = SimpleLibrary()\n",
        "\n",
        "library.add_book(1, \"The Great Gatsby\", \"F. Scott Fitzgerald\")\n",
        "library.add_book(2, \"To Kill a Mockingbird\", \"Harper Lee\")\n",
        "\n",
        "library.borrow_book(1)\n",
        "library.borrow_book(3)\n",
        "\n",
        "library.return_book(1)\n",
        "library.return_book(2)\n"
      ],
      "metadata": {
        "id": "BtVrHW9W3-JC",
        "colab": {
          "base_uri": "https://localhost:8080/",
          "height": 384
        },
        "outputId": "c93f8b76-6b99-40a8-b5d9-78b851e2dd08"
      },
      "execution_count": null,
      "outputs": [
        {
          "output_type": "stream",
          "name": "stdout",
          "text": [
            "Book 'The Great Gatsby' by F. Scott Fitzgerald added to the library.\n",
            "Book 'To Kill a Mockingbird' by Harper Lee added to the library.\n",
            "Book borrowed successfully.\n",
            "Book not found in the library.\n"
          ]
        },
        {
          "output_type": "error",
          "ename": "NameError",
          "evalue": "name 'title' is not defined",
          "traceback": [
            "\u001b[0;31m---------------------------------------------------------------------------\u001b[0m",
            "\u001b[0;31mNameError\u001b[0m                                 Traceback (most recent call last)",
            "\u001b[0;32m<ipython-input-15-c05b1d5f3acf>\u001b[0m in \u001b[0;36m<cell line: 50>\u001b[0;34m()\u001b[0m\n\u001b[1;32m     48\u001b[0m \u001b[0mlibrary\u001b[0m\u001b[0;34m.\u001b[0m\u001b[0mborrow_book\u001b[0m\u001b[0;34m(\u001b[0m\u001b[0;36m3\u001b[0m\u001b[0;34m)\u001b[0m\u001b[0;34m\u001b[0m\u001b[0;34m\u001b[0m\u001b[0m\n\u001b[1;32m     49\u001b[0m \u001b[0;34m\u001b[0m\u001b[0m\n\u001b[0;32m---> 50\u001b[0;31m \u001b[0mlibrary\u001b[0m\u001b[0;34m.\u001b[0m\u001b[0mreturn_book\u001b[0m\u001b[0;34m(\u001b[0m\u001b[0;36m1\u001b[0m\u001b[0;34m)\u001b[0m\u001b[0;34m\u001b[0m\u001b[0;34m\u001b[0m\u001b[0m\n\u001b[0m\u001b[1;32m     51\u001b[0m \u001b[0mlibrary\u001b[0m\u001b[0;34m.\u001b[0m\u001b[0mreturn_book\u001b[0m\u001b[0;34m(\u001b[0m\u001b[0;36m2\u001b[0m\u001b[0;34m)\u001b[0m\u001b[0;34m\u001b[0m\u001b[0;34m\u001b[0m\u001b[0m\n",
            "\u001b[0;32m<ipython-input-15-c05b1d5f3acf>\u001b[0m in \u001b[0;36mreturn_book\u001b[0;34m(self, book_id)\u001b[0m\n\u001b[1;32m     34\u001b[0m     \u001b[0;32mdef\u001b[0m \u001b[0mreturn_book\u001b[0m\u001b[0;34m(\u001b[0m\u001b[0mself\u001b[0m\u001b[0;34m,\u001b[0m \u001b[0mbook_id\u001b[0m\u001b[0;34m)\u001b[0m\u001b[0;34m:\u001b[0m\u001b[0;34m\u001b[0m\u001b[0;34m\u001b[0m\u001b[0m\n\u001b[1;32m     35\u001b[0m         \u001b[0;32mif\u001b[0m \u001b[0mbook_id\u001b[0m \u001b[0;32mnot\u001b[0m \u001b[0;32min\u001b[0m \u001b[0mself\u001b[0m\u001b[0;34m.\u001b[0m\u001b[0mbooks\u001b[0m\u001b[0;34m:\u001b[0m\u001b[0;34m\u001b[0m\u001b[0;34m\u001b[0m\u001b[0m\n\u001b[0;32m---> 36\u001b[0;31m             \u001b[0mself\u001b[0m\u001b[0;34m.\u001b[0m\u001b[0mbooks\u001b[0m\u001b[0;34m[\u001b[0m\u001b[0mbook_id\u001b[0m\u001b[0;34m]\u001b[0m \u001b[0;34m=\u001b[0m \u001b[0;34m{\u001b[0m\u001b[0;34m'title'\u001b[0m\u001b[0;34m:\u001b[0m \u001b[0mtitle\u001b[0m\u001b[0;34m,\u001b[0m \u001b[0;34m'author'\u001b[0m\u001b[0;34m:\u001b[0m \u001b[0mauthor\u001b[0m\u001b[0;34m}\u001b[0m\u001b[0;34m\u001b[0m\u001b[0;34m\u001b[0m\u001b[0m\n\u001b[0m\u001b[1;32m     37\u001b[0m             \u001b[0mprint\u001b[0m\u001b[0;34m(\u001b[0m\u001b[0;34m\"Book returned successfully.\"\u001b[0m\u001b[0;34m)\u001b[0m\u001b[0;34m\u001b[0m\u001b[0;34m\u001b[0m\u001b[0m\n\u001b[1;32m     38\u001b[0m         \u001b[0;32melse\u001b[0m\u001b[0;34m:\u001b[0m\u001b[0;34m\u001b[0m\u001b[0;34m\u001b[0m\u001b[0m\n",
            "\u001b[0;31mNameError\u001b[0m: name 'title' is not defined"
          ]
        }
      ]
    },
    {
      "cell_type": "markdown",
      "source": [
        "20. Describe the concept of method abstraction in Python and how it relates to polymorphism.\n",
        "\n"
      ],
      "metadata": {
        "id": "1uFc7Pwt3-cK"
      }
    },
    {
      "cell_type": "markdown",
      "source": [
        "- Method abstraction in Python refers to the process of defining methods in a class without providing their implementation details. Instead, method signatures are specified in the abstract base class (ABC), leaving the actual implementation to be defined by concrete subclasses. This allows for a common interface to be established across multiple subclasses, enabling polymorphism.\n",
        "\n",
        "Here's how method abstraction relates to polymorphism in Python:\n",
        "\n",
        "- Method Abstraction:\n",
        "\n",
        "  - Method abstraction is achieved using abstract methods, which are methods declared in an abstract base class (ABC) but not implemented. Abstract methods define a common interface that concrete subclasses are expected to implement.\n",
        "  Abstract methods are marked using the abstractmethod decorator from the abc module. Subclasses must override these abstract methods to provide their own implementations.\n",
        "\n",
        "- Polymorphism:\n",
        "  - Polymorphism refers to the ability of objects to take on different forms or behaviors depending on their type or class hierarchy. In Python, polymorphism is often achieved through method overriding.\n",
        "  - Method overriding occurs when a subclass provides its own implementation of a method defined in its superclass. This allows objects of different subclasses to respond differently to the same method call, based on their specific implementations.\n",
        "\n",
        "\n",
        "- Relationship:\n",
        "\n",
        "  - Method abstraction and polymorphism are closely related concepts in Python. Method abstraction establishes a common interface through abstract methods, defining the methods that subclasses must implement.\n",
        "  - Polymorphism allows objects of different subclasses to be treated uniformly based on this common interface. Even though objects may have different implementations of the same method, they can be called in a consistent manner, allowing for flexibility and code reuse.\n",
        "  - When a method is called on an object, Python dynamically dispatches the call based on the actual type of the object at runtime. This enables polymorphic behavior, where the appropriate method implementation is determined based on the object's class hierarchy."
      ],
      "metadata": {
        "id": "az5tvwEixhmQ"
      }
    },
    {
      "cell_type": "code",
      "source": [],
      "metadata": {
        "id": "PpZewwDP4AXk"
      },
      "execution_count": null,
      "outputs": []
    },
    {
      "cell_type": "markdown",
      "source": [
        "\n",
        "\n",
        "\n",
        "Composition:\n",
        "1. Explain the concept of composition in Python and how it is used to build complex objects from simpler ones.\n"
      ],
      "metadata": {
        "id": "tQldHrkl4Al5"
      }
    },
    {
      "cell_type": "markdown",
      "source": [
        "- Composition in Python refers to the practice of building complex objects by combining simpler objects or components. It involves creating relationships between objects where one object contains another as a part of its state. Composition enables the creation of more complex and flexible structures by assembling smaller, reusable components.\n",
        "\n",
        "Here's how composition is typically used to build complex objects from simpler ones:\n",
        "\n",
        "  - Creating Components: First, you define individual components or objects that represent specific functionalities or features. These components are designed to be modular and reusable, encapsulating a single responsibility or behavior.\n",
        "\n",
        "  - Defining Relationships: Next, you define relationships between these components by embedding one object within another. This can be achieved by including instances of one class as attributes of another class, thereby establishing a \"has-a\" relationship.\n",
        "\n",
        "  - Building Complex Objects: Using composition, you can then create complex objects by combining multiple simpler objects together. Each complex object contains instances of its constituent components, leveraging their functionality to provide higher-level behavior.\n",
        "\n",
        "  - Promoting Modularity and Reusability: Composition promotes modularity and reusability by allowing components to be developed, tested, and maintained independently. By composing objects from smaller, reusable components, you can create flexible and scalable solutions that are easier to understand and maintain.\n",
        "\n",
        "  - Enabling Encapsulation and Abstraction: Composition enables encapsulation and abstraction by hiding the internal details of individual components. Clients interact with complex objects through well-defined interfaces, without needing to know the internal structure or implementation of the composed objects.\n",
        "\n",
        "  - Facilitating Dependency Management: Composition facilitates dependency management by allowing objects to rely on other objects for specific functionalities. This reduces coupling between components, making it easier to modify or replace individual components without affecting the rest of the system."
      ],
      "metadata": {
        "id": "ivQhWvwi1o99"
      }
    },
    {
      "cell_type": "code",
      "source": [
        "class Engine:\n",
        "  def start(self):\n",
        "    print(\"Engine started.\")\n",
        "\n",
        "class Car:\n",
        "  def __init__(self):\n",
        "    self.engine = Engine()\n",
        "\n",
        "  def start(self):\n",
        "    print(\"Starting the car.\")\n",
        "    self.engine.start()\n",
        "\n",
        "car = Car()\n",
        "car.start()\n"
      ],
      "metadata": {
        "id": "JCVSvQB84C9a",
        "colab": {
          "base_uri": "https://localhost:8080/"
        },
        "outputId": "36ac05f9-38fd-45c8-dfb5-54031a961ab0"
      },
      "execution_count": null,
      "outputs": [
        {
          "output_type": "stream",
          "name": "stdout",
          "text": [
            "Starting the car.\n",
            "Engine started.\n"
          ]
        }
      ]
    },
    {
      "cell_type": "markdown",
      "source": [
        "2. Describe the difference between composition and inheritance in object-oriented programming.\n"
      ],
      "metadata": {
        "id": "TgdPM3WB4DWq"
      }
    },
    {
      "cell_type": "markdown",
      "source": [
        "- Composition:\n",
        "\n",
        "  - Composition involves building complex objects by combining simpler objects or components. It establishes a \"has-a\" relationship, where one object contains another as a part of its state.\n",
        "  - In composition, the relationship between classes is established through object instantiation or by including instances of one class as attributes of another class.\n",
        "  - Composition promotes modularity and reusability by allowing components to be developed, tested, and maintained independently. It provides flexibility in constructing complex objects from smaller, reusable components.\n",
        "  - Composition typically results in looser coupling between classes compared to inheritance, as objects rely on other objects for specific functionalities rather than inheriting behavior directly.\n",
        "- Inheritance:\n",
        "\n",
        "  - Inheritance involves creating new classes (derived classes) based on existing classes (base or parent classes). It establishes an \"is-a\" relationship, where a derived class is a specialization of its base class.\n",
        "  - Inheritance allows derived classes to inherit attributes and methods from their base classes, promoting code reuse and facilitating polymorphism.\n",
        "  - Inheritance defines an \"is-a\" relationship, implying that a derived class shares common characteristics and behaviors with its base class, but may also extend or override them to provide specialized functionality.\n",
        "  - Inheritance can lead to tighter coupling between classes, as changes to the base class may affect all derived classes. Additionally, deep inheritance hierarchies can become complex and difficult to manage."
      ],
      "metadata": {
        "id": "O77rHfi14Ntb"
      }
    },
    {
      "cell_type": "code",
      "source": [],
      "metadata": {
        "id": "eB5gZrCs4FCg"
      },
      "execution_count": null,
      "outputs": []
    },
    {
      "cell_type": "markdown",
      "source": [
        "3. Create a Python class called `Author` with attributes for name and birthdate. Then, create a `Book` class\n",
        "that contains an instance of `Author` as a composition. Provide an example of creating a `Book` object.\n"
      ],
      "metadata": {
        "id": "Acu6mr3i4FRg"
      }
    },
    {
      "cell_type": "code",
      "source": [
        "class Author:\n",
        "  def __init__(self, name, birthdate):\n",
        "    self.name = name\n",
        "    self.birthdate = birthdate\n",
        "\n",
        "class Book:\n",
        "  def __init__(self, title, author, publication_year):\n",
        "    self.title = title\n",
        "    self.author = author\n",
        "    self.publication_year = publication_year\n",
        "\n",
        "author1 = Author(\"Romesh Bhattacharji\", \"Feb 2024\")\n",
        "book1 = Book(\"KASHMIR: Travels in Paradise on Earth\", author1, 2024)\n",
        "\n",
        "\n",
        "print(\"Book Title\", book1.title)\n",
        "print(\"Author:\", book1.author.name)\n",
        "print(\"Publicatio Year:\", book1.publication_year)"
      ],
      "metadata": {
        "id": "LGSNeGHa4HAx",
        "colab": {
          "base_uri": "https://localhost:8080/"
        },
        "outputId": "3560d694-1f70-4571-b7b8-6982190cfb40"
      },
      "execution_count": 1,
      "outputs": [
        {
          "output_type": "stream",
          "name": "stdout",
          "text": [
            "Book Title KASHMIR: Travels in Paradise on Earth\n",
            "Author: Romesh Bhattacharji\n",
            "Publicatio Year: 2024\n"
          ]
        }
      ]
    },
    {
      "cell_type": "markdown",
      "source": [
        "4. Discuss the benefits of using composition over inheritance in Python, especially in terms of code flexibility\n",
        "and reusability.\n"
      ],
      "metadata": {
        "id": "W4dlupdN4HXO"
      }
    },
    {
      "cell_type": "markdown",
      "source": [
        "Modularity and Flexibility:\n",
        "\n",
        "Composition promotes modularity by allowing classes to be composed of smaller, independent components. Each component encapsulates a specific functionality, making it easier to understand, test, and maintain.\n",
        "By composing objects from smaller, reusable components, you can build flexible and scalable solutions that can adapt to changing requirements or evolve over time. This modular approach makes it easier to extend or modify the behavior of individual components without impacting the rest of the system.\n",
        "Reduced Coupling:\n",
        "\n",
        "Composition typically results in looser coupling between classes compared to inheritance. Objects rely on other objects for specific functionalities rather than inheriting behavior directly, reducing the dependency between classes.\n",
        "Reduced coupling makes it easier to modify or replace individual components without affecting the rest of the system. Changes to one component are less likely to have ripple effects on other components, leading to more maintainable and resilient codebases.\n",
        "Code Reusability:\n",
        "\n",
        "Composition promotes code reusability by allowing components to be developed, tested, and maintained independently. Each component can be reused in multiple contexts, leading to a more modular and reusable codebase.\n",
        "By composing objects from smaller, reusable components, you can leverage existing code more effectively and avoid the pitfalls of deep inheritance hierarchies, such as tight coupling and fragile base class problems.\n",
        "Flexibility in Object Construction:\n",
        "\n",
        "- Composition allows for greater flexibility in object construction compared to inheritance. Instead of being limited to a single inheritance hierarchy, you can mix and match components to create objects with varying behaviors and functionalities.\n",
        "- This flexibility enables you to tailor objects to specific use cases or requirements by selecting and combining the appropriate components, leading to more customizable and adaptable solutions.\n",
        "Encapsulation and Abstraction:\n",
        "\n",
        "- Composition enables encapsulation and abstraction by hiding the internal details of individual components. Clients interact with complex objects through well-defined interfaces, without needing to know the internal structure or implementation of the composed objects.\n",
        "This promotes a clear separation of concerns and allows for better encapsulation of functionality, making it easier to understand and maintain the codebase."
      ],
      "metadata": {
        "id": "5pPZGrKy40rX"
      }
    },
    {
      "cell_type": "code",
      "source": [],
      "metadata": {
        "id": "Q5sYVCXQ4JF6"
      },
      "execution_count": null,
      "outputs": []
    },
    {
      "cell_type": "markdown",
      "source": [
        "5. How can you implement composition in Python classes? Provide examples of using composition to create\n",
        "complex objects.\n"
      ],
      "metadata": {
        "id": "Rhj7tkxD4JUi"
      }
    },
    {
      "cell_type": "markdown",
      "source": [
        "Composition in Python classes is implemented by including instances of other classes as attributes within a class. This allows for building complex objects by combining simpler ones."
      ],
      "metadata": {
        "id": "x9x2BWNVaFzE"
      }
    },
    {
      "cell_type": "code",
      "source": [
        "class Engine:\n",
        "  def __init__(self, horsepower):\n",
        "    self.horsepower = horsepower\n",
        "\n",
        "  def start(self):\n",
        "    print(\"Engine started\")\n",
        "\n",
        "  def stop(self):\n",
        "    print(\"Engine stop\")\n",
        "\n",
        "\n",
        "class Car:\n",
        "  def __init__(self, make, model, engine):\n",
        "    self.make = make\n",
        "    self.model = model\n",
        "    self.engine = engine\n",
        "\n",
        "  def start(self):\n",
        "    print(f\"{self.make} {self.model} starting....\")\n",
        "\n",
        "  def stop(self):\n",
        "    print(f\"{self.make} {self.model} stopppingggg......\")\n",
        "\n",
        "\n",
        "# Creating an Engine instance\n",
        "engine = Engine(horsepower = 2000)\n",
        "\n",
        "car = Car(make=\"Toyota\", model=\"Carmy\", engine = engine)\n",
        "\n",
        "car.start()\n",
        "car.stop()"
      ],
      "metadata": {
        "id": "ASJUp0h14K_Z",
        "colab": {
          "base_uri": "https://localhost:8080/"
        },
        "outputId": "b32d53c0-87bf-4430-a617-cd1409973c6a"
      },
      "execution_count": 2,
      "outputs": [
        {
          "output_type": "stream",
          "name": "stdout",
          "text": [
            "Toyota Carmy starting....\n",
            "Toyota Carmy stopppingggg......\n"
          ]
        }
      ]
    },
    {
      "cell_type": "markdown",
      "source": [
        "6. Create a Python class hierarchy for a music player system, using composition to represent playlists and\n",
        "songs.\n"
      ],
      "metadata": {
        "id": "odPZvx7b4LPl"
      }
    },
    {
      "cell_type": "code",
      "source": [
        "import sys\n",
        "class Song:\n",
        "  def __init__(self, title, artist, duration):\n",
        "    self.title = title\n",
        "    self.artist = artist\n",
        "    self.duration = duration\n",
        "\n",
        "  def play(self):\n",
        "    print(f\"Playing: {self.title} - {self.artist}\")\n",
        "\n",
        "\n",
        "class Playlist:\n",
        "  def __init__(self, name):\n",
        "    self.name = name\n",
        "    self.songs = []\n",
        "\n",
        "  def add_song(self, song):\n",
        "    self.songs.append(song)\n",
        "\n",
        "  def remove_song(self, song):\n",
        "    if song in self.songs:\n",
        "      self.songs.remove(song)\n",
        "      print(f\"Remove {song.title} from {self.name}\")\n",
        "    else:\n",
        "      print(f\"{song.title} is not in {self.name}\")\n",
        "\n",
        "  def play_all(self):\n",
        "    print(f\"Playing all songs in playlist: {self.name}\")\n",
        "    for song in self.songs:\n",
        "      song.play()\n",
        "\n",
        "class MusicPlayer:\n",
        "  def __init__(self):\n",
        "    self.playlists = {}\n",
        "\n",
        "  def create_playlist(self, name):\n",
        "    if  name not in self.playlists:\n",
        "      self.playlists[name] = Playlist(name)\n",
        "      print(f\"Create playlist: {name}\")\n",
        "    else:\n",
        "      print(f\"Playlist {name} already exist\")\n",
        "\n",
        "  def delete_playlist(self, name):\n",
        "      if name in self.playlists:\n",
        "          del self.playlists[name]\n",
        "          print(f\"Deleted playlist: {name}\")\n",
        "      else:\n",
        "          print(f\"Playlist {name} does not exist\")\n",
        "\n",
        "\n",
        "  def add_song_to_playlist(self, playlist_name, song):\n",
        "    if playlist_name in self.playlists:\n",
        "      self.playlists[playlist_name].add_song(song)\n",
        "      print(f\"Added {song.title} to {playlist_name}\")\n",
        "    else:\n",
        "      print(f\"Playlist {playlist_name} does not exist\")\n",
        "\n",
        "  def remove_song_from_playlist(self, playlist_name, song):\n",
        "    if playlist_name in self.playlists:\n",
        "      self.playlists[playlist_name].remove_song(song)\n",
        "    else:\n",
        "      print(f\"Playlist {playlist_name} does not exist\")\n",
        "\n",
        "\n",
        "player = MusicPlayer()\n",
        "player.create_playlist(\"My playlist\")\n",
        "\n",
        "song1 = Song(\"Hare Krishna\", \"Sunidhi Chauhan\", \"25:34\")\n",
        "song2 = Song(\"Ramayan Khatha\", \"Ramanand Sager\", \"17:35\")\n",
        "\n",
        "player.add_song_to_playlist(\"My playlist\", song1)\n",
        "player.add_song_to_playlist(\"My Playlist\", song2)\n",
        "\n",
        "player.playlists[\"My playlist\"].play_all()\n",
        "\n",
        "player.remove_song_from_playlist(\"My playlist\", song1)\n",
        "\n"
      ],
      "metadata": {
        "id": "UZ8VEigG4M2v",
        "colab": {
          "base_uri": "https://localhost:8080/"
        },
        "outputId": "73360ab4-26c7-4858-ce24-f7461d23f004"
      },
      "execution_count": 11,
      "outputs": [
        {
          "output_type": "stream",
          "name": "stdout",
          "text": [
            "Create playlist: My playlist\n",
            "Added Hare Krishna to My playlist\n",
            "Playlist My Playlist does not exist\n",
            "Playing all songs in playlist: My playlist\n",
            "Playing: Hare Krishna - Sunidhi Chauhan\n",
            "Remove Hare Krishna from My playlist\n"
          ]
        }
      ]
    },
    {
      "cell_type": "markdown",
      "source": [
        "7. Explain the concept of \"has-a\" relationships in composition and how it helps design software systems.\n"
      ],
      "metadata": {
        "id": "uOad8T0F4NHg"
      }
    },
    {
      "cell_type": "markdown",
      "source": [
        "- \"Has-a\" relationship in composition refers to a scenario where one class contains an instance of another class as a member or attribute. It implies that the containing class has a component or part of another class. This relationship is a fundamental concept in object-oriented programming and is often used to build complex objects from simpler ones.\n",
        "\n",
        "- Composition helps design software systems by promoting code reuse, modularity, and flexibility:\n",
        "\n",
        "  - Code Reuse: By composing classes together, you can reuse existing components in different contexts. For example, in a music player system, you can reuse the Song class in multiple playlists without duplicating its implementation.\n",
        "\n",
        "  - Modularity: Composition allows you to break down a complex system into smaller, more manageable components. Each class represents a specific functionality or feature, making the codebase easier to understand, maintain, and extend.\n",
        "\n",
        "  - Flexibility: With composition, you can easily modify or extend the behavior of a class by adding or removing components. For example, in the music player system, you can add new features to playlists without modifying the Song class.\n",
        "\n",
        "  - Encapsulation: Composition promotes encapsulation, as the internal implementation details of a class are hidden from the outside world. Clients only interact with the public interface of the class, which improves code maintainability and reduces dependencies."
      ],
      "metadata": {
        "id": "gqoLsoBfjf-W"
      }
    },
    {
      "cell_type": "code",
      "source": [],
      "metadata": {
        "id": "COQXUI274O0d"
      },
      "execution_count": null,
      "outputs": []
    },
    {
      "cell_type": "markdown",
      "source": [
        "8. Create a Python class for a computer system, using composition to represent components like CPU, RAM,\n",
        "and storage devices.\n"
      ],
      "metadata": {
        "id": "taCv5zL-4PDL"
      }
    },
    {
      "cell_type": "code",
      "source": [
        "class CPU:\n",
        "  def __init__(self, brand, model, cores):\n",
        "    self.brand = brand\n",
        "    self.model = model\n",
        "    self.cores = cores\n",
        "\n",
        "  def __str__(self):\n",
        "    return (f\"CPU: {self.brand} {self.model}, Cores : {self.cores}\")\n",
        "\n",
        "\n",
        "class RAM:\n",
        "  def __init__(self, capacity_gb, speed_mhz):\n",
        "    self.capacity_gb = capacity_gb\n",
        "    self.speed_mhz = speed_mhz\n",
        "\n",
        "  def __str__(self):\n",
        "    return (f\"RAM: {self.capacity_gb}GB, Speed: {self.speed_mhz}\")\n",
        "\n",
        "class StorageDevice:\n",
        "  def __init__(self, capacity_gb, interface):\n",
        "    self.capacity_gb = capacity_gb\n",
        "    self.interface = interface\n",
        "    7827273080\n",
        "\n",
        "  def __str__(self):\n",
        "        return f\"Storage Device: {self.capacity_gb}GB, Interface: {self.interface}\"\n",
        "class Computer:\n",
        "  def __init__(self, cpu, ram, storage):\n",
        "    self.cpu = cpu\n",
        "    self.ram = ram\n",
        "    self.storage = storage\n",
        "\n",
        "  def __str__(self):\n",
        "    return (f\" computer spaces: \\n {self.cpu}\\n{self.ram}\\n{self.storage}\")\n",
        "\n",
        "cpu = CPU(brand=\"Intel\", model=\"Core i7\", cores=8)\n",
        "ram = RAM(capacity_gb=16, speed_mhz=3200)\n",
        "storage = StorageDevice(capacity_gb=512, interface=\"NVMe SSD\")\n",
        "\n",
        "computer = Computer(cpu=cpu, ram=ram, storage=storage)\n",
        "print(computer)"
      ],
      "metadata": {
        "id": "ma4YjD2A4QgL",
        "colab": {
          "base_uri": "https://localhost:8080/"
        },
        "outputId": "b3d4aeb1-b415-4aaa-a606-649138cdb363"
      },
      "execution_count": 18,
      "outputs": [
        {
          "output_type": "stream",
          "name": "stdout",
          "text": [
            " computer spaces: \n",
            " CPU: Intel Core i7, Cores : 8\n",
            "RAM: 16GB, Speed: 3200\n",
            "Storage Device: 512GB, Interface: NVMe SSD\n"
          ]
        }
      ]
    },
    {
      "cell_type": "markdown",
      "source": [
        "9. Describe the concept of \"delegation\" in composition and how it simplifies the design of complex systems.\n"
      ],
      "metadata": {
        "id": "MwHvLRoQ4QuQ"
      }
    },
    {
      "cell_type": "markdown",
      "source": [
        "- In the context of composition, \"delegation\" refers to the practice of allowing one object to handle a particular behavior or responsibility by passing it on to another object. Instead of implementing the behavior itself, the delegating object simply forwards the request to another object that specializes in handling it. This concept simplifies the design of complex systems by promoting code reuse, modularity, and separation of concerns.\n",
        "\n",
        "- Here's how delegation simplifies the design of complex systems:\n",
        "\n",
        "- Code Reuse: Delegation allows you to reuse existing functionality by delegating tasks to specialized objects. This promotes modular design and reduces code duplication, as common behaviors can be implemented in separate objects and reused across multiple components.\n",
        "\n",
        "- Separation of Concerns: Delegation helps separate different concerns or responsibilities within a system. Each object focuses on a specific task, making the codebase easier to understand, maintain, and extend. By delegating responsibilities, you can isolate changes to specific components without affecting the entire system.\n",
        "\n",
        "- Flexibility and Scalability: Delegation makes it easier to modify or extend the behavior of a system without impacting its overall structure. You can easily replace or update the delegated objects to introduce new features or optimize existing ones, without having to refactor the entire codebase.\n",
        "\n",
        "- Encapsulation: Delegation promotes encapsulation by hiding the internal implementation details of objects. Clients interact with the delegating object through a consistent interface, without needing to know how the delegated tasks are handled internally. This improves code maintainability and reduces dependencies between components."
      ],
      "metadata": {
        "id": "OTPRBAYFCZ-2"
      }
    },
    {
      "cell_type": "code",
      "source": [],
      "metadata": {
        "id": "iqv8mDS14SgW"
      },
      "execution_count": null,
      "outputs": []
    },
    {
      "cell_type": "markdown",
      "source": [
        "10. Create a Python class for a car, using composition to represent components like the engine, wheels, and\n",
        "transmission.\n"
      ],
      "metadata": {
        "id": "eCfwMA814Suo"
      }
    },
    {
      "cell_type": "code",
      "source": [
        "class Engine:\n",
        "  def __init__(self, horsepower):\n",
        "    self.horsepower = horsepower\n",
        "\n",
        "  def start(self):\n",
        "    print(\"Engine started\")\n",
        "\n",
        "  def stop(self):\n",
        "    print(\"Engine stopped\")\n",
        "\n",
        "\n",
        "class Wheel:\n",
        "  def __init__(self, size):\n",
        "    self.size = size\n",
        "\n",
        "  def rotate(self):\n",
        "    print(\"Wheel rotation\")\n",
        "\n",
        "\n",
        "class Transmission:\n",
        "  def __init__(self, transmission_type):\n",
        "    self.transmission_type = transmission_type\n",
        "\n",
        "  def shift_gear(self):\n",
        "    print(\"Gear shifted\")\n",
        "\n",
        "class Car:\n",
        "  def __init__(self, make, model, engine, wheels, transmission):\n",
        "    self.make = make\n",
        "    self.model = model\n",
        "    self.engine = engine\n",
        "    self.wheels = wheels\n",
        "    self.transmission = transmission\n",
        "\n",
        "  def start(self):\n",
        "    print(f\"Starting the {self.make} {self.model}\")\n",
        "    self.engine.start()\n",
        "    for wheel in self.wheels:\n",
        "      wheel.rotate()\n",
        "\n",
        "  def stop(self):\n",
        "    print(f\"Stopping the {self.make} {self.model}\")\n",
        "\n",
        "  def drive(self):\n",
        "    print(f\"Driving the {self.make} {self.model}\")\n",
        "    self.transmission.shift_gear()\n",
        "\n",
        "engine = Engine(horsepower=200)\n",
        "wheels = [Wheel(size=18) for _ in range(4)]\n",
        "transmission = Transmission(transmission_type=\"Automatic\")\n",
        "\n",
        "car = Car(make=\"Toyota\", model=\"Camry\", engine=engine, wheels=wheels, transmission=transmission)\n",
        "\n",
        "car.start()\n",
        "car.drive()\n",
        "car.stop()"
      ],
      "metadata": {
        "id": "af0RG9hq4UOD",
        "colab": {
          "base_uri": "https://localhost:8080/"
        },
        "outputId": "2beb0920-4272-45a9-cf68-b44c602cece6"
      },
      "execution_count": 21,
      "outputs": [
        {
          "output_type": "stream",
          "name": "stdout",
          "text": [
            "Starting the Toyota Camry\n",
            "Engine started\n",
            "Wheel rotation\n",
            "Wheel rotation\n",
            "Wheel rotation\n",
            "Wheel rotation\n",
            "Driving the Toyota Camry\n",
            "Gear shifted\n",
            "Stopping the Toyota Camry\n"
          ]
        }
      ]
    },
    {
      "cell_type": "markdown",
      "source": [],
      "metadata": {
        "id": "J7UYW4dk4Ubm"
      }
    },
    {
      "cell_type": "code",
      "source": [],
      "metadata": {
        "id": "7rLZow9XGjye"
      },
      "execution_count": null,
      "outputs": []
    },
    {
      "cell_type": "markdown",
      "source": [
        "11. How can you encapsulate and hide the details of composed objects in Python classes to maintain\n",
        "abstraction?\n"
      ],
      "metadata": {
        "id": "ZJ1qJRBi4UsF"
      }
    },
    {
      "cell_type": "markdown",
      "source": [
        "- Private Attributes: Use private attributes (attributes with names starting with a single underscore) to indicate that they are not meant to be accessed directly from outside the class. This helps hide the internal details of the composed objects.\n",
        "\n",
        "- Accessors and Mutators (Getters and Setters): Provide getter and setter methods to access and modify the attributes of composed objects indirectly. This allows you to control how the attributes are accessed and modified, enabling you to enforce validation or perform additional logic if needed.\n",
        "\n",
        "- Abstraction: Define abstract interfaces or base classes for composed objects to provide a common interface for interacting with them. This allows you to treat different types of composed objects uniformly, promoting code reuse and simplifying the design.\n",
        "\n",
        "- Method Delegation: Instead of exposing the methods of composed objects directly, delegate the tasks to them through methods of the containing class. This hides the implementation details of composed objects and maintains abstraction at a higher level."
      ],
      "metadata": {
        "id": "1bs8YuJEGknT"
      }
    },
    {
      "cell_type": "code",
      "source": [
        "class Engine:\n",
        "    def __init__(self, horsepower):\n",
        "        self._horsepower = horsepower\n",
        "\n",
        "    def start(self):\n",
        "        print(\"Engine started\")\n",
        "\n",
        "    def stop(self):\n",
        "        print(\"Engine stopped\")\n",
        "\n",
        "    def get_horsepower(self):\n",
        "        return self._horsepower\n",
        "\n",
        "    def set_horsepower(self, horsepower):\n",
        "        # Add validation logic if needed\n",
        "        self._horsepower = horsepower\n",
        "\n",
        "\n",
        "class Car:\n",
        "    def __init__(self, make, model, engine):\n",
        "        self._make = make\n",
        "        self._model = model\n",
        "        self._engine = engine\n",
        "\n",
        "    def start(self):\n",
        "        print(f\"Starting the {self._make} {self._model}\")\n",
        "        self._engine.start()\n",
        "\n",
        "    def stop(self):\n",
        "        print(f\"Stopping the {self._make} {self._model}\")\n",
        "        self._engine.stop()\n",
        "\n",
        "    def get_make(self):\n",
        "        return self._make\n",
        "\n",
        "    def set_make(self, make):\n",
        "        # Add validation logic if needed\n",
        "        self._make = make\n",
        "\n",
        "    def get_model(self):\n",
        "        return self._model\n",
        "\n",
        "    def set_model(self, model):\n",
        "        # Add validation logic if needed\n",
        "        self._model = model\n",
        "\n",
        "    def get_engine_horsepower(self):\n",
        "        return self._engine.get_horsepower()\n",
        "\n",
        "    def set_engine_horsepower(self, horsepower):\n",
        "        self._engine.set_horsepower(horsepower)\n",
        "\n",
        "\n",
        "# Example usage:\n",
        "engine = Engine(horsepower=200)\n",
        "car = Car(make=\"Toyota\", model=\"Camry\", engine=engine)\n",
        "\n",
        "car.start()\n",
        "print(\"Engine Horsepower:\", car.get_engine_horsepower())\n",
        "car.stop()\n"
      ],
      "metadata": {
        "id": "tWIWDP0d4WHq",
        "colab": {
          "base_uri": "https://localhost:8080/"
        },
        "outputId": "bb988bcc-b7e7-47ad-e8e8-da63f64826f5"
      },
      "execution_count": 22,
      "outputs": [
        {
          "output_type": "stream",
          "name": "stdout",
          "text": [
            "Starting the Toyota Camry\n",
            "Engine started\n",
            "Engine Horsepower: 200\n",
            "Stopping the Toyota Camry\n",
            "Engine stopped\n"
          ]
        }
      ]
    },
    {
      "cell_type": "markdown",
      "source": [
        "12. Create a Python class for a university course, using composition to represent students, instructors, and\n",
        "course materials.\n"
      ],
      "metadata": {
        "id": "BV8epTHx4WU_"
      }
    },
    {
      "cell_type": "code",
      "source": [
        "class Student:\n",
        "    def __init__(self, name, student_id):\n",
        "        self.name = name\n",
        "        self.student_id = student_id\n",
        "\n",
        "    def __str__(self):\n",
        "        return f\"Student: {self.name}, ID: {self.student_id}\"\n",
        "\n",
        "\n",
        "class Instructor:\n",
        "    def __init__(self, name, instructor_id):\n",
        "        self.name = name\n",
        "        self.instructor_id = instructor_id\n",
        "\n",
        "    def __str__(self):\n",
        "        return f\"Instructor: {self.name}, ID: {self.instructor_id}\"\n",
        "\n",
        "\n",
        "class CourseMaterial:\n",
        "    def __init__(self, title, content):\n",
        "        self.title = title\n",
        "        self.content = content\n",
        "\n",
        "    def __str__(self):\n",
        "        return f\"Course Material: {self.title}\"\n",
        "\n",
        "\n",
        "class UniversityCourse:\n",
        "    def __init__(self, course_code, course_name, instructor, students, course_materials):\n",
        "        self.course_code = course_code\n",
        "        self.course_name = course_name\n",
        "        self.instructor = instructor\n",
        "        self.students = students\n",
        "        self.course_materials = course_materials\n",
        "\n",
        "    def add_student(self, student):\n",
        "        self.students.append(student)\n",
        "\n",
        "    def add_course_material(self, course_material):\n",
        "        self.course_materials.append(course_material)\n",
        "\n",
        "    def __str__(self):\n",
        "        course_info = f\"Course Code: {self.course_code}, Course Name: {self.course_name}\\n\"\n",
        "        instructor_info = f\"Instructor: {self.instructor}\\n\"\n",
        "        student_info = \"Students:\\n\" + \"\\n\".join([f\"- {student}\" for student in self.students]) + \"\\n\"\n",
        "        materials_info = \"Course Materials:\\n\" + \"\\n\".join([f\"- {material}\" for material in self.course_materials])\n",
        "        return course_info + instructor_info + student_info + materials_info\n",
        "\n",
        "\n",
        "# Example usage:\n",
        "instructor = Instructor(name=\"Dr. Smith\", instructor_id=\"123\")\n",
        "student1 = Student(name=\"John Doe\", student_id=\"001\")\n",
        "student2 = Student(name=\"Jane Smith\", student_id=\"002\")\n",
        "\n",
        "material1 = CourseMaterial(title=\"Lecture Notes\", content=\"Introduction to Python programming\")\n",
        "material2 = CourseMaterial(title=\"Assignments\", content=\"Python programming assignments\")\n",
        "\n",
        "course = UniversityCourse(course_code=\"CS101\", course_name=\"Introduction to Python\", instructor=instructor, students=[student1, student2], course_materials=[material1, material2])\n",
        "\n",
        "print(course)\n"
      ],
      "metadata": {
        "id": "p2VF0NkW4ZPu",
        "colab": {
          "base_uri": "https://localhost:8080/"
        },
        "outputId": "5d7296cf-bfa1-411a-882d-ed1da6c00fc7"
      },
      "execution_count": 23,
      "outputs": [
        {
          "output_type": "stream",
          "name": "stdout",
          "text": [
            "Course Code: CS101, Course Name: Introduction to Python\n",
            "Instructor: Instructor: Dr. Smith, ID: 123\n",
            "Students:\n",
            "- Student: John Doe, ID: 001\n",
            "- Student: Jane Smith, ID: 002\n",
            "Course Materials:\n",
            "- Course Material: Lecture Notes\n",
            "- Course Material: Assignments\n"
          ]
        }
      ]
    },
    {
      "cell_type": "markdown",
      "source": [
        "13. Discuss the challenges and drawbacks of composition, such as increased complexity and potential for\n",
        "tight coupling between objects.\n"
      ],
      "metadata": {
        "id": "VJy-SD504Zd1"
      }
    },
    {
      "cell_type": "markdown",
      "source": [
        "- Increased Complexity: As a software system grows in complexity, managing the interactions between composed objects can become more challenging. With composition, each object may have its own set of dependencies, leading to intricate relationships that are harder to understand and maintain.\n",
        "\n",
        "- Potential for Tight Coupling: Composition can sometimes lead to tight coupling between objects, especially if the containing object directly accesses the internal details of its composed objects. This can make the code less flexible and more difficult to modify, as changes to one object may require modifications in other dependent objects.\n",
        "\n",
        "- Dependency Management: With composition, managing dependencies between objects becomes crucial. If the behavior of one object changes, it may affect the behavior of other dependent objects. This can lead to cascading changes throughout the system, making it harder to predict the impact of modifications.\n",
        "\n",
        "- Code Duplication: In some cases, composition may result in code duplication, especially if similar behavior is implemented in multiple composed objects. This can increase maintenance overhead and make the codebase more prone to inconsistencies.\n",
        "\n",
        "- Performance Overhead: Depending on how composition is implemented, there may be some performance overhead associated with accessing and interacting with composed objects. This can become a concern in performance-critical applications or systems with large numbers of composed objects.\n",
        "\n",
        "- Design Decision Overhead: Deciding how to compose objects and manage their interactions requires careful consideration and design. Making poor design decisions early on can lead to increased complexity and technical debt later in the development process."
      ],
      "metadata": {
        "id": "HIpwcrmcKwZ4"
      }
    },
    {
      "cell_type": "code",
      "source": [],
      "metadata": {
        "id": "N_OUcicS4bNj"
      },
      "execution_count": null,
      "outputs": []
    },
    {
      "cell_type": "markdown",
      "source": [
        "14. Create a Python class hierarchy for a restaurant system, using composition to represent menus, dishes,\n",
        "and ingredients.\n"
      ],
      "metadata": {
        "id": "rPsoTOMW4bmj"
      }
    },
    {
      "cell_type": "code",
      "source": [
        "class Ingredient:\n",
        "  def __init__(self, name, quantity):\n",
        "    self.name = name\n",
        "    self.quantity = quantity\n",
        "\n",
        "  def __str__(self):\n",
        "    return f\"{self.quantity} {self.name}\"\n",
        "\n",
        "\n",
        "class Dish:\n",
        "  def __init(self, name, ingredients):\n",
        "    self.name = name\n",
        "    self.ingredients = ingredients\n",
        "\n",
        "  def __str__(self):\n",
        "    return f\"Dish: {self.name}, Ingredients: {', '.join([str(ingredient) for ingredient in self.ingredients])}\"\n",
        "\n",
        "\n",
        "class Menu:\n",
        "  def __init(self, name, dishes):\n",
        "    self.name = name\n",
        "    self.dishes = Dish\n",
        "\n",
        "  def __str__(self):\n",
        "    return f\"Menu: {self.name}, Dishes: {', '.join([dish.name for dish in self.dishes])}\"\n",
        "\n",
        "\n",
        "class Restaurant:\n",
        "  def __init__(self, name, menus):\n",
        "    self.name = name\n",
        "    self.menus = menus\n",
        "\n",
        "  def __str__(self):\n",
        "    return f\"Restaurant : {self.name}, Menus: {', '.join([menu.name for menu in self.menus])}\"\n",
        "\n",
        "\n",
        "\n",
        "ingredient1 = Ingredient(name=\"Tomato\", quantity=2)\n",
        "ingredient2 = Ingredient(name=\"Cheese\", quantity=200)\n",
        "dish1 = Dish(name=\"Margherita Pizza\", ingredients=[ingredient1, ingredient2])\n",
        "dish2 = Dish(name=\"Spaghetti Carbonara\", ingredients=[Ingredient(name=\"Spaghetti\", quantity=200), Ingredient(name=\"Bacon\", quantity=150), Ingredient(name=\"Egg\", quantity=2)])\n",
        "menu1 = Menu(name=\"Lunch Menu\", dishes=[dish1, dish2])\n",
        "menu2 = Menu(name=\"Dinner Menu\", dishes=[dish1])\n",
        "\n",
        "restaurant = Restaurant(name=\"Italian Delight\", menus=[menu1, menu2])\n",
        "\n",
        "print(restaurant)"
      ],
      "metadata": {
        "id": "6mAuGwpo4dl7"
      },
      "execution_count": null,
      "outputs": []
    },
    {
      "cell_type": "markdown",
      "source": [
        "15. Explain how composition enhances code maintainability and modularity in Python programs.\n"
      ],
      "metadata": {
        "id": "BN25LjN14dyy"
      }
    },
    {
      "cell_type": "markdown",
      "source": [
        "- Modular Design:\n",
        "\n",
        "  - Composition encourages breaking down a system into smaller, independent components, each responsible for a specific functionality or feature.\n",
        "  By defining individual components with well-defined interfaces, you can develop, test, and maintain each component independently, leading to better organization and easier collaboration among team members.\n",
        "  This modular design approach promotes code reuse, as components can be reused in multiple contexts, leading to a more efficient and scalable codebase.\n",
        "  Reduced Coupling:\n",
        "\n",
        "  - Composition typically results in looser coupling between components compared to other design approaches like inheritance.\n",
        "  Objects rely on other objects for specific functionalities rather than inheriting behavior directly, reducing the dependency between classes.\n",
        "  Reduced coupling makes it easier to modify or replace individual components without affecting the rest of the system. Changes to one component are less likely to have ripple effects on other components, leading to more maintainable and resilient codebases.\n",
        "  Encapsulation:\n",
        "\n",
        "  - Composition enables encapsulation by hiding the internal details of individual components. Clients interact with complex objects through well-defined interfaces, without needing to know the internal structure or implementation of the composed objects.\n",
        "  This promotes a clear separation of concerns and allows for better encapsulation of functionality, making it easier to understand and maintain the codebase.\n",
        "\n",
        "- Flexibility:\n",
        "\n",
        "  - Composition allows for greater flexibility in object construction compared to other design approaches.\n",
        "  - Instead of being limited to a single inheritance hierarchy, you can mix and match components to create objects with varying behaviors and functionalities.\n",
        "  - This flexibility enables you to tailor objects to specific use cases or requirements by selecting and combining the appropriate components, leading to more customizable and adaptable solutions.\n",
        "  Ease of Testing:\n",
        "\n",
        "  - Composition makes it easier to test individual components in isolation, as each component can be tested independently of other components.\n",
        "  By isolating components during testing, you can identify and fix issues more efficiently, leading to higher-quality software with fewer bugs."
      ],
      "metadata": {
        "id": "I1-66kIQ5vF2"
      }
    },
    {
      "cell_type": "code",
      "source": [],
      "metadata": {
        "id": "AX3ohJp24fFD"
      },
      "execution_count": null,
      "outputs": []
    },
    {
      "cell_type": "markdown",
      "source": [
        "16. Create a Python class for a computer game character, using composition to represent attributes like\n",
        "weapons, armor, and inventory.\n"
      ],
      "metadata": {
        "id": "8qi_FhcH4fUO"
      }
    },
    {
      "cell_type": "code",
      "source": [
        "class Weapon:\n",
        "    def __init__(self, name, damage):\n",
        "        self.name = name\n",
        "        self.damage = damage\n",
        "\n",
        "    def __str__(self):\n",
        "        return f\"Weapon: {self.name}, Damage: {self.damage}\"\n",
        "\n",
        "\n",
        "class Armor:\n",
        "    def __init__(self, name, defense):\n",
        "        self.name = name\n",
        "        self.defense = defense\n",
        "\n",
        "    def __str__(self):\n",
        "        return f\"Armor: {self.name}, Defense: {self.defense}\"\n",
        "\n",
        "\n",
        "class Inventory:\n",
        "    def __init__(self, items=None):\n",
        "        self.items = items or []\n",
        "\n",
        "    def add_item(self, item):\n",
        "        self.items.append(item)\n",
        "\n",
        "    def remove_item(self, item):\n",
        "        if item in self.items:\n",
        "            self.items.remove(item)\n",
        "        else:\n",
        "            print(f\"{item} not found in inventory\")\n",
        "\n",
        "    def __str__(self):\n",
        "        return \"Inventory:\\n\" + \"\\n\".join([str(item) for item in self.items])\n",
        "\n",
        "\n",
        "class GameCharacter:\n",
        "    def __init__(self, name, level, health, weapon=None, armor=None, inventory=None):\n",
        "        self.name = name\n",
        "        self.level = level\n",
        "        self.health = health\n",
        "        self.weapon = weapon\n",
        "        self.armor = armor\n",
        "        self.inventory = inventory or Inventory()\n",
        "\n",
        "    def equip_weapon(self, weapon):\n",
        "        self.weapon = weapon\n",
        "\n",
        "    def equip_armor(self, armor):\n",
        "        self.armor = armor\n",
        "\n",
        "    def __str__(self):\n",
        "        character_info = f\"Character: {self.name}, Level: {self.level}, Health: {self.health}\\n\"\n",
        "        weapon_info = f\"Weapon: {self.weapon}\\n\" if self.weapon else \"\"\n",
        "        armor_info = f\"Armor: {self.armor}\\n\" if self.armor else \"\"\n",
        "        inventory_info = f\"Inventory: {self.inventory}\\n\"\n",
        "        return character_info + weapon_info + armor_info + inventory_info\n",
        "\n",
        "\n",
        "# Example usage:\n",
        "sword = Weapon(name=\"Sword\", damage=10)\n",
        "shield = Armor(name=\"Shield\", defense=5)\n",
        "\n",
        "inventory = Inventory(items=[Weapon(name=\"Bow\", damage=8), Armor(name=\"Helmet\", defense=3)])\n",
        "\n",
        "player = GameCharacter(name=\"Player\", level=1, health=100, weapon=sword, armor=shield, inventory=inventory)\n",
        "print(player)\n",
        "\n",
        "# Player equips a new weapon and adds an item to inventory\n",
        "player.equip_weapon(Weapon(name=\"Axe\", damage=12))\n",
        "player.inventory.add_item(Armor(name=\"Chestplate\", defense=7))\n",
        "print(player)\n"
      ],
      "metadata": {
        "id": "pil-8nnS4g3M",
        "colab": {
          "base_uri": "https://localhost:8080/"
        },
        "outputId": "5cf83af1-65df-491a-af77-e0bbffa4c00c"
      },
      "execution_count": 24,
      "outputs": [
        {
          "output_type": "stream",
          "name": "stdout",
          "text": [
            "Character: Player, Level: 1, Health: 100\n",
            "Weapon: Weapon: Sword, Damage: 10\n",
            "Armor: Armor: Shield, Defense: 5\n",
            "Inventory: Inventory:\n",
            "Weapon: Bow, Damage: 8\n",
            "Armor: Helmet, Defense: 3\n",
            "\n",
            "Character: Player, Level: 1, Health: 100\n",
            "Weapon: Weapon: Axe, Damage: 12\n",
            "Armor: Armor: Shield, Defense: 5\n",
            "Inventory: Inventory:\n",
            "Weapon: Bow, Damage: 8\n",
            "Armor: Helmet, Defense: 3\n",
            "Armor: Chestplate, Defense: 7\n",
            "\n"
          ]
        }
      ]
    },
    {
      "cell_type": "markdown",
      "source": [
        "17. Describe the concept of \"aggregation\" in composition and how it differs from simple composition.\n"
      ],
      "metadata": {
        "id": "KoT4PtNO4hHI"
      }
    },
    {
      "cell_type": "markdown",
      "source": [
        " - In composition, objects are composed of other objects, and the lifetime of the composed objects is tightly coupled with the lifetime of the containing object. Aggregation is a specific type of composition where objects are composed together, but the composed objects have an independent lifecycle and can exist independently of the containing object.\n",
        "\n",
        "- Here's how aggregation differs from simple composition:\n",
        "\n",
        "- Independence of Lifecycles: In simple composition, the composed objects are created and destroyed along with the containing object. However, in aggregation, the composed objects can exist independently of the containing object. They may be created before the containing object, exist concurrently, or even outlive the containing object.\n",
        "\n",
        "  - Ownership: In simple composition, the containing object typically owns the composed objects and is responsible for their creation and destruction. In aggregation, the composed objects retain their own ownership and lifecycle management. They may be shared among multiple containing objects or exist independently.\n",
        "\n",
        " - Flexibility: Aggregation provides more flexibility compared to simple composition because the composed objects can be reused in different contexts and configurations. Since they have independent lifecycles, they can be shared among multiple containing objects or swapped out dynamically at runtime.\n",
        "\n",
        "  - Looser Coupling: Aggregation leads to looser coupling between objects compared to simple composition. Because the composed objects have their own lifecycles and can exist independently, there is less dependency between the containing object and the composed objects. This promotes code reusability, modularity, and maintainability.\n",
        "\n",
        "  - Representation of Relationships: Aggregation often represents \"has-a\" relationships between objects, where the containing object has or owns the composed objects but does not control their lifecycle. This is in contrast to simple composition, where the composed objects are an integral part of the containing object's implementation."
      ],
      "metadata": {
        "id": "iEcPNSnfSGeY"
      }
    },
    {
      "cell_type": "code",
      "source": [],
      "metadata": {
        "id": "6jERxTVF4i6q"
      },
      "execution_count": null,
      "outputs": []
    },
    {
      "cell_type": "markdown",
      "source": [
        "18. Create a Python class for a house, using composition to represent rooms, furniture, and appliances.\n"
      ],
      "metadata": {
        "id": "j8iUjV0Z4jJ-"
      }
    },
    {
      "cell_type": "code",
      "source": [
        "class Furniture:\n",
        "    def __init__(self, name):\n",
        "        self.name = name\n",
        "\n",
        "    def __str__(self):\n",
        "        return f\"Furniture: {self.name}\"\n",
        "\n",
        "\n",
        "class Appliance:\n",
        "    def __init__(self, name):\n",
        "        self.name = name\n",
        "\n",
        "    def __str__(self):\n",
        "        return f\"Appliance: {self.name}\"\n",
        "\n",
        "\n",
        "class Room:\n",
        "    def __init__(self, name):\n",
        "        self.name = name\n",
        "        self.furniture = []\n",
        "        self.appliances = []\n",
        "\n",
        "    def add_furniture(self, furniture):\n",
        "        self.furniture.append(furniture)\n",
        "\n",
        "    def add_appliance(self, appliance):\n",
        "        self.appliances.append(appliance)\n",
        "\n",
        "    def __str__(self):\n",
        "        furniture_str = \"\\n\".join([str(item) for item in self.furniture])\n",
        "        appliance_str = \"\\n\".join([str(item) for item in self.appliances])\n",
        "        return f\"Room: {self.name}\\nFurniture:\\n{furniture_str}\\nAppliances:\\n{appliance_str}\"\n",
        "\n",
        "\n",
        "class House:\n",
        "    def __init__(self, name):\n",
        "        self.name = name\n",
        "        self.rooms = []\n",
        "\n",
        "    def add_room(self, room):\n",
        "        self.rooms.append(room)\n",
        "\n",
        "    def __str__(self):\n",
        "        room_str = \"\\n\\n\".join([str(room) for room in self.rooms])\n",
        "        return f\"House: {self.name}\\n\\n{room_str}\"\n",
        "\n",
        "\n",
        "living_room = Room(\"Living Room\")\n",
        "living_room.add_furniture(Furniture(\"Sofa\"))\n",
        "living_room.add_furniture(Furniture(\"Coffee Table\"))\n",
        "living_room.add_appliance(Appliance(\"Television\"))\n",
        "\n",
        "kitchen = Room(\"Kitchen\")\n",
        "kitchen.add_appliance(Appliance(\"Refrigerator\"))\n",
        "kitchen.add_appliance(Appliance(\"Microwave\"))\n",
        "\n",
        "house = House(\"My House\")\n",
        "house.add_room(living_room)\n",
        "house.add_room(kitchen)\n",
        "\n",
        "print(house)\n"
      ],
      "metadata": {
        "id": "TdI1lzMM4ktQ",
        "colab": {
          "base_uri": "https://localhost:8080/"
        },
        "outputId": "487f7791-9dfc-44f2-9c67-41f7cfc5424a"
      },
      "execution_count": 30,
      "outputs": [
        {
          "output_type": "stream",
          "name": "stdout",
          "text": [
            "House: My House\n",
            "\n",
            "Room: Living Room\n",
            "Furniture:\n",
            "Furniture: Sofa\n",
            "Furniture: Coffee Table\n",
            "Appliances:\n",
            "Appliance: Television\n",
            "\n",
            "Room: Kitchen\n",
            "Furniture:\n",
            "\n",
            "Appliances:\n",
            "Appliance: Refrigerator\n",
            "Appliance: Microwave\n"
          ]
        }
      ]
    },
    {
      "cell_type": "markdown",
      "source": [
        "19. How can you achieve flexibility in composed objects by allowing them to be replaced or modified\n",
        "dynamically at runtime?\n"
      ],
      "metadata": {
        "id": "SJnQrFqU4k72"
      }
    },
    {
      "cell_type": "markdown",
      "source": [
        "- Achieving flexibility in composed objects by allowing them to be replaced or modified dynamically at runtime can be accomplished through various techniques. Here are some common approaches:\n",
        "\n",
        "  - Dependency Injection (DI): Dependency injection is a design pattern where the dependencies of an object are injected into it rather than created internally. This allows you to easily replace or modify the dependencies at runtime without modifying the object's code. You can use constructor injection, setter injection, or interface injection to inject dependencies into composed objects.\n",
        "\n",
        "  - Factory Method Pattern: Use the factory method pattern to create composed objects dynamically based on certain conditions or configurations. By encapsulating the object creation logic in factory methods, you can easily replace or modify the composed objects by providing different factory implementations at runtime.\n",
        "\n",
        "  - Strategy Pattern: Implement the strategy pattern to encapsulate algorithms or behaviors as separate objects and dynamically select or replace them at runtime. Composed objects can hold references to strategy objects, allowing you to switch between different strategies without modifying the composed objects themselves.\n",
        "\n",
        "  - Decorator Pattern: Use the decorator pattern to dynamically add or remove functionalities to composed objects at runtime. Decorator objects can wrap around the composed objects, adding new behaviors without modifying their interfaces. This allows you to achieve flexibility by composing objects with different decorators based on runtime requirements.\n",
        "\n",
        "  - Service Locator Pattern: Implement the service locator pattern to centralize the management and lookup of dependencies. Composed objects can obtain their dependencies from a central registry or service locator, allowing you to replace or modify dependencies dynamically at runtime by updating the registry.\n",
        "\n",
        "  - Inversion of Control (IoC) Containers: Use IoC containers to manage the lifecycle and dependencies of composed objects. IoC containers provide a way to configure and wire dependencies at runtime, allowing you to easily replace or modify composed objects by updating the container's configuration."
      ],
      "metadata": {
        "id": "xEAclFCYSdJW"
      }
    },
    {
      "cell_type": "code",
      "source": [],
      "metadata": {
        "id": "dAVN0AnC4muA"
      },
      "execution_count": null,
      "outputs": []
    },
    {
      "cell_type": "markdown",
      "source": [
        "20. Create a Python class for a social media application, using composition to represent users, posts, and\n",
        "comments."
      ],
      "metadata": {
        "id": "1IJpmyAf4m7W"
      }
    },
    {
      "cell_type": "code",
      "source": [
        "class Comment:\n",
        "    def __init__(self, user, text):\n",
        "        self.user = user\n",
        "        self.text = text\n",
        "\n",
        "    def __str__(self):\n",
        "        return f\"{self.user}: {self.text}\"\n",
        "\n",
        "class Post:\n",
        "    def __init__(self, user, content):\n",
        "        self.user = user\n",
        "        self.content = content\n",
        "        self.comments = []\n",
        "\n",
        "    def add_comment(self, user, text):\n",
        "        self.comments.append(Comment(user, text))\n",
        "\n",
        "    def __str__(self):\n",
        "        comments_str = \"\\n\".join([str(comment) for comment in self.comments])\n",
        "        return f\"{self.user} posted: {self.content}\\nComments:\\n{comments_str}\"\n",
        "\n",
        "class User:\n",
        "    def __init__(self, name):\n",
        "        self.name = name\n",
        "        self.posts = []\n",
        "\n",
        "    def create_post(self, content):\n",
        "        self.posts.append(Post(self.name, content))\n",
        "\n",
        "    def __str__(self):\n",
        "        return f\"User: {self.name}\"\n",
        "\n",
        "class SocialMediaApp:\n",
        "    def __init__(self, name):\n",
        "        self.name = name\n",
        "        self.users = []\n",
        "\n",
        "    def add_user(self, name):\n",
        "        self.users.append(User(name))\n",
        "\n",
        "    def __str__(self):\n",
        "        user_str = \"\\n\".join([str(user) for user in self.users])\n",
        "        return f\"Social Media App: {self.name}\\nUsers:\\n{user_str}\"\n",
        "\n",
        "\n",
        "app = SocialMediaApp(\"MySocialApp\")\n",
        "app.add_user(\"alice\")\n",
        "app.add_user(\"abhi\")\n",
        "\n",
        "alice = app.users[0]\n",
        "abhi = app.users[1]\n",
        "\n",
        "alice.create_post(\"Hello, everyone!\")\n",
        "abhi.create_post(\"Good Morning!\")\n",
        "\n",
        "alice.posts[0].add_comment(\"Charu\", \"Nice!\")\n",
        "abhi.posts[0].add_comment(\"Abhi\", \"Thanks!\")\n",
        "\n",
        "print(app)"
      ],
      "metadata": {
        "colab": {
          "base_uri": "https://localhost:8080/"
        },
        "id": "Bd70a20-SpOz",
        "outputId": "73ebaa52-cc51-4b9e-8dac-b9ecb9ec8a65"
      },
      "execution_count": 31,
      "outputs": [
        {
          "output_type": "stream",
          "name": "stdout",
          "text": [
            "Social Media App: MySocialApp\n",
            "Users:\n",
            "User: alice\n",
            "User: abhi\n"
          ]
        }
      ]
    },
    {
      "cell_type": "markdown",
      "source": [],
      "metadata": {
        "id": "dypwNzuG4hYl"
      }
    }
  ]
}