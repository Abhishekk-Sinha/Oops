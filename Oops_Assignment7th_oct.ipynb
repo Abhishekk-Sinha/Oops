{
  "nbformat": 4,
  "nbformat_minor": 0,
  "metadata": {
    "colab": {
      "provenance": []
    },
    "kernelspec": {
      "name": "python3",
      "display_name": "Python 3"
    },
    "language_info": {
      "name": "python"
    }
  },
  "cells": [
    {
      "cell_type": "markdown",
      "source": [
        "Problem 1: Bank Account Create a class representing a bank account with attributes like account number, account holder name, and balance. Implement methods to deposit and withdraw money from the account.\n",
        "\n"
      ],
      "metadata": {
        "id": "uKqKUf9_qMrz"
      }
    },
    {
      "cell_type": "code",
      "source": [
        "class BankAccount:\n",
        "  def __init__(self, account_number, account_holder_name, balance=0):\n",
        "    self.account_number = account_number\n",
        "    self.account_holder_name = account_holder_name\n",
        "    self.balance = balance\n",
        "\n",
        "  def deposite(self, amount):\n",
        "    if amount > 0:\n",
        "      self.balance += amount\n",
        "      print(f\"Deposite of ${amount} successful. Current balance : ${self.balance}\")\n",
        "    else:\n",
        "      print(\"Invalid deposite amount.Amount must be greater than zero.\")\n",
        "\n",
        "  def withdraw(self, amount):\n",
        "    if 0 < amount <= self.balance:\n",
        "      self.balance -= amount\n",
        "      print(f\"Withdraw of ${amount} successful. Current balance : ${self.balance}\")\n",
        "    else:\n",
        "      print(\"Insufficient funds or Invalid amount. Amount withdraw must be greater than zero.\")\n",
        "\n",
        "  def display_balance(self):\n",
        "    print(f\"Account Holder: {self.account_holder_name}\")\n",
        "    print(f\"Account Number: {self.account_number}\")\n",
        "    print(f\"Current Balance: ${self.balance}\")\n",
        "\n",
        "#Driver Code\n",
        "account = BankAccount(\"1234567890\", \"Abhi\", 1000000)\n",
        "account.display_balance()\n",
        "account.deposite(500)\n"
      ],
      "metadata": {
        "colab": {
          "base_uri": "https://localhost:8080/"
        },
        "id": "6T42BGtZqVQ-",
        "outputId": "9b611b11-bef3-4252-842b-ea80f2f1d2e2"
      },
      "execution_count": 3,
      "outputs": [
        {
          "output_type": "stream",
          "name": "stdout",
          "text": [
            "Account Holder: Abhi\n",
            "Account Number: 1234567890\n",
            "Current Balance: $1000000\n",
            "Deposite of $500 successful. Current balance : $1000500\n"
          ]
        }
      ]
    },
    {
      "cell_type": "code",
      "source": [
        "account.withdraw(5000)"
      ],
      "metadata": {
        "colab": {
          "base_uri": "https://localhost:8080/"
        },
        "id": "4R_eFze6vWXG",
        "outputId": "6d1e6540-6a3b-44e1-814a-8bbb5b81df39"
      },
      "execution_count": 4,
      "outputs": [
        {
          "output_type": "stream",
          "name": "stdout",
          "text": [
            "Withdraw of $5000 successful. Current balance : $995500\n"
          ]
        }
      ]
    },
    {
      "cell_type": "markdown",
      "source": [
        "Problem 2: Employee Management Create a class representing an employee with attributes like employee ID, name, and salary. Implement methods to calculate the yearly bonus and display employee details.\n",
        "\n"
      ],
      "metadata": {
        "id": "1NYAu8PcqVjU"
      }
    },
    {
      "cell_type": "code",
      "source": [
        "class Employee:\n",
        "  def __init__(self, employee_id, name, salary):\n",
        "    self.employee_id = employee_id\n",
        "    self.name = name\n",
        "    self.salary = salary\n",
        "\n",
        "  def calculate_yearly_bonus(self):\n",
        "    bonus = 0.10 * self.salary\n",
        "    return bonus\n",
        "\n",
        "  def display_detais(self):\n",
        "    print(\"Employee ID:\", self.employee_id)\n",
        "    print(\"Name: \", self.name)\n",
        "    print(\"Salary: \", self.salary)\n",
        "    print(\"Yearly Bonus: \", self.calculate_yearly_bonus())\n",
        "\n",
        "employee = Employee(101, \"Abhi\", 50000)\n",
        "employee.display_detais()\n"
      ],
      "metadata": {
        "colab": {
          "base_uri": "https://localhost:8080/"
        },
        "id": "Vu7fdKr1qXrH",
        "outputId": "6c3c3c28-61f3-459d-a755-d955a47cfbed"
      },
      "execution_count": 5,
      "outputs": [
        {
          "output_type": "stream",
          "name": "stdout",
          "text": [
            "Employee ID: 101\n",
            "Name:  Abhi\n",
            "Salary:  50000\n",
            "Yearly Bonus:  5000.0\n"
          ]
        }
      ]
    },
    {
      "cell_type": "markdown",
      "source": [
        "Problem 3: Vehicle Rental Create a class representing a vehicle rental system. Implement methods to rent a vehicle, return a vehicle, and display available vehicles.\n",
        "\n"
      ],
      "metadata": {
        "id": "7_mRwjFmqX_m"
      }
    },
    {
      "cell_type": "code",
      "source": [
        "class Vehicle:\n",
        "  def __init__(self, vehicle_id, vehicle_type, is_available=True):\n",
        "    self.vehicle_id = vehicle_id\n",
        "    self.vehicle_type = vehicle_type\n",
        "    self.is_available = is_available\n",
        "\n",
        "  def rent(self):\n",
        "    if self.is_available:\n",
        "      self.is_available = False\n",
        "      print(f\"Vehicle {self.vehicle_id} has been rented.\")\n",
        "    else:\n",
        "      print(f\"Vehicle {self.vehicle_id} is not available for the rented\")\n",
        "\n",
        "  def return_vehicle(self):\n",
        "    if not self.is_available:\n",
        "      self.is_available = True\n",
        "      print(f\"Vehicle {self.vehicle_id} hasbeen returned\")\n",
        "    else:\n",
        "      print(f\"Vehicle {self.vehicle_id} is already available\")\n",
        "\n",
        "class VehicleRentalSystem:\n",
        "    def __init__(self):\n",
        "        self.vehicles = []\n",
        "\n",
        "    def add_vehicle(self, vehicle):\n",
        "        self.vehicles.append(vehicle)\n",
        "\n",
        "    def rent_vehicle(self, vehicle_id):\n",
        "        for vehicle in self.vehicles:\n",
        "            if vehicle.vehicle_id == vehicle_id:\n",
        "                vehicle.rent()\n",
        "                return\n",
        "        print(f\"Vehicle with ID {vehicle_id} not found.\")\n",
        "\n",
        "    def return_vehicle(self, vehicle_id):\n",
        "        for vehicle in self.vehicles:\n",
        "            if vehicle.vehicle_id == vehicle_id:\n",
        "                vehicle.return_vehicle()\n",
        "                return\n",
        "        print(f\"Vehicle with ID {vehicle_id} not found.\")\n",
        "\n",
        "    def display_available_vehicles(self):\n",
        "        available_vehicles = [vehicle for vehicle in self.vehicles if vehicle.is_available]\n",
        "        if available_vehicles:\n",
        "            print(\"Available Vehicles:\")\n",
        "            for vehicle in available_vehicles:\n",
        "                print(f\"ID: {vehicle.vehicle_id}, Type: {vehicle.vehicle_type}\")\n",
        "        else:\n",
        "            print(\"No vehicles available for rent.\")\n",
        "\n",
        "#Driver Code\n",
        "vehicle1 = Vehicle(1, \"Car\")\n",
        "vehicle2 = Vehicle(2, \"Bike\")\n",
        "vehicle3 = Vehicle(3, \"Scooter\")\n",
        "\n",
        "rental_system = VehicleRentalSystem()\n",
        "rental_system.add_vehicle(vehicle1)\n",
        "rental_system.add_vehicle(vehicle2)\n",
        "rental_system.add_vehicle(vehicle3)\n",
        "\n",
        "rental_system.display_available_vehicles()\n",
        "rental_system.rent_vehicle(1)\n",
        "rental_system.display_available_vehicles()\n",
        "rental_system.rent_vehicle(2)\n",
        "rental_system.return_vehicle(1)\n",
        "rental_system.display_available_vehicles()\n",
        "\n"
      ],
      "metadata": {
        "colab": {
          "base_uri": "https://localhost:8080/"
        },
        "id": "EtQ7ggdKqaDR",
        "outputId": "f7ccc40e-67b4-4d8f-d9ae-cf0862aa0563"
      },
      "execution_count": 9,
      "outputs": [
        {
          "output_type": "stream",
          "name": "stdout",
          "text": [
            "Available Vehicles:\n",
            "ID: 1, Type: Car\n",
            "ID: 2, Type: Bike\n",
            "ID: 3, Type: Scooter\n",
            "Vehicle 1 has been rented.\n",
            "Available Vehicles:\n",
            "ID: 2, Type: Bike\n",
            "ID: 3, Type: Scooter\n",
            "Vehicle 2 has been rented.\n",
            "Vehicle 1 hasbeen returned\n",
            "Available Vehicles:\n",
            "ID: 1, Type: Car\n",
            "ID: 3, Type: Scooter\n"
          ]
        }
      ]
    },
    {
      "cell_type": "markdown",
      "source": [
        "Problem 4: Library Catalog Create classes representing a library and a book. Implement methods to add books to the library, borrow books, and display available books.\n",
        "\n"
      ],
      "metadata": {
        "id": "Y8fJJUxfqaVT"
      }
    },
    {
      "cell_type": "code",
      "source": [
        "class Book:\n",
        "  def __init__(self, title, author):\n",
        "    self.title = title\n",
        "    self.author = author\n",
        "    self.is_available = True\n",
        "\n",
        "  def borrow(self):\n",
        "    if self.is_available:\n",
        "      self.is_available = False\n",
        "      print(f\"Book '{self.title}' by {self.author} has been borrow \")\n",
        "    else:\n",
        "      print(f\"Book '{self.title}' by {sel.author} is not available\")\n",
        "\n",
        "  def return_book(self):\n",
        "    if not self.is_available:\n",
        "      self.is_available = True\n",
        "      print(f\"Book '{self.title}' by {self.author} hasbeen returned\")\n",
        "\n",
        "  def display_details(self):\n",
        "    print(f\"Title: {self.title}\")\n",
        "    print(f\"Author: {self.author}\")\n",
        "    print(f\"Availability: {'Available' if self.is_available else 'Not available'}\")\n",
        "\n",
        "\"\"\"\n",
        "books = Book(\"English\", \"Abhi\")\n",
        "books.display_details()\n",
        "books.borrow()\n",
        "books.is_available\n",
        "books.author\n",
        "\"\"\"\n",
        "\n",
        "class Library:\n",
        "    def __init__(self):\n",
        "        self.books = []\n",
        "\n",
        "    def add_book(self, book):\n",
        "        self.books.append(book)\n",
        "        print(f\"Book '{book.title}' by {book.author} has been added to the library.\")\n",
        "\n",
        "    def borrow_book(self, title):\n",
        "        for book in self.books:\n",
        "            if book.title == title:\n",
        "                book.borrow()\n",
        "                return\n",
        "        print(f\"Book '{title}' is not available in the library.\")\n",
        "\n",
        "    def return_book(self, title):\n",
        "        for book in self.books:\n",
        "            if book.title == title:\n",
        "                book.return_book()\n",
        "                return\n",
        "        print(f\"Book '{title}' is not available in the library.\")\n",
        "\n",
        "    def display_available_books(self):\n",
        "        print(\"Available Books:\")\n",
        "        for book in self.books:\n",
        "            if book.is_available:\n",
        "                book.display_details()\n",
        "                print()\n",
        "\n",
        "\n",
        "\n",
        "book1 = Book(\"The Invisible Men\", \"H.G.Wells\")\n",
        "book2 = Book(\"ABC\", \"XYZ\")\n",
        "\n",
        "library = Library()\n",
        "\n",
        "library.add_book(book1)\n",
        "library.add_book(book2)\n",
        "\n",
        "library.borrow_book(\"The Invisible Men\")\n",
        "\n",
        "library.display_available_books()\n",
        "\n",
        "library.return_book(\"The Invisible Men\")\n",
        "\n",
        "# Display available books after returning\n",
        "library.display_available_books()\n"
      ],
      "metadata": {
        "colab": {
          "base_uri": "https://localhost:8080/"
        },
        "id": "nXHdyJVpqb_1",
        "outputId": "160173a4-43bd-41a7-b720-aed9288b70e8"
      },
      "execution_count": 19,
      "outputs": [
        {
          "output_type": "stream",
          "name": "stdout",
          "text": [
            "Book 'The Invisible Men' by H.G.Wells has been added to the library.\n",
            "Book 'ABC' by XYZ has been added to the library.\n",
            "Book 'The Invisible Men' by H.G.Wells has been borrow \n",
            "Available Books:\n",
            "Title: ABC\n",
            "Author: XYZ\n",
            "Availability: Available\n",
            "\n",
            "Book 'The Invisible Men' by H.G.Wells hasbeen returned\n",
            "Available Books:\n",
            "Title: The Invisible Men\n",
            "Author: H.G.Wells\n",
            "Availability: Available\n",
            "\n",
            "Title: ABC\n",
            "Author: XYZ\n",
            "Availability: Available\n",
            "\n"
          ]
        }
      ]
    },
    {
      "cell_type": "markdown",
      "source": [
        "Problem 5: Product Inventory Create classes representing a product and an inventory system. Implement methods to add products to the inventory, update product quantity, and display available products.\n",
        "\n"
      ],
      "metadata": {
        "id": "7Vy2G2BYqcUH"
      }
    },
    {
      "cell_type": "code",
      "source": [
        "class Product:\n",
        "  def __init__(self, product_id, name, price, quantity):\n",
        "    self.product_id = product_id\n",
        "    self.name = name\n",
        "    self.price = price\n",
        "    self.quantity = quantity\n",
        "\n",
        "  def update_quatity(self, new_quantity):\n",
        "    self.quantity = new_quantity\n",
        "\n",
        "  def display_details(self):\n",
        "    print(\"Product ID:\", self.product_id)\n",
        "    print(\"Name:\", self.name)\n",
        "    print(\"Price:\", self.price)\n",
        "    print(\"Quantity:\", self.quantity)\n",
        "\n",
        "class InventorySystem:\n",
        "  def __init__(self):\n",
        "    self.products = []\n",
        "\n",
        "  def add_product(self, product):\n",
        "    self.products.append(product)\n",
        "\n",
        "  def update_product_quantity(self, product_id, new_quantity):\n",
        "    for product in self.products:\n",
        "      if product.product_id == product_id:\n",
        "        product.update_quatity(new_quantity)\n",
        "        print(\"Product quantity updated sucessfully.\")\n",
        "        return\n",
        "    print(\"Product not found\")\n",
        "\n",
        "  def display_available_products(self):\n",
        "    print(\"Available Product:\")\n",
        "    for product in self.products:\n",
        "      product.display_details()\n",
        "      print()\n",
        "\n",
        "\n",
        "# Create product objects\n",
        "product1 = Product(1, \"Laptop\", 999.99, 10)\n",
        "product2 = Product(2, \"Phone\", 599.99, 20)\n",
        "\n",
        "# Create inventory system\n",
        "inventory = InventorySystem()\n",
        "\n",
        "# Add products to the inventory\n",
        "inventory.add_product(product1)\n",
        "inventory.add_product(product2)\n",
        "\n",
        "# Display available products\n",
        "inventory.display_available_products()\n",
        "\n",
        "# Update product quantity\n",
        "inventory.update_product_quantity(1, 5)\n",
        "\n",
        "# Display available products after updating quantity\n",
        "inventory.display_available_products()\n"
      ],
      "metadata": {
        "colab": {
          "base_uri": "https://localhost:8080/"
        },
        "id": "JmHV4BiYqezS",
        "outputId": "dfdb3d4b-7355-4e34-d749-1c2102961b1e"
      },
      "execution_count": 21,
      "outputs": [
        {
          "output_type": "stream",
          "name": "stdout",
          "text": [
            "Available Product:\n",
            "Product ID: 1\n",
            "Name: Laptop\n",
            "Price: 999.99\n",
            "Quantity: 10\n",
            "\n",
            "Product ID: 2\n",
            "Name: Phone\n",
            "Price: 599.99\n",
            "Quantity: 20\n",
            "\n",
            "Product quantity updated sucessfully.\n",
            "Available Product:\n",
            "Product ID: 1\n",
            "Name: Laptop\n",
            "Price: 999.99\n",
            "Quantity: 5\n",
            "\n",
            "Product ID: 2\n",
            "Name: Phone\n",
            "Price: 599.99\n",
            "Quantity: 20\n",
            "\n"
          ]
        }
      ]
    },
    {
      "cell_type": "markdown",
      "source": [
        "Problem 6: Shape Calculation Create a class representing a shape with attributes like length, width, and height. Implement methods to calculate the area and perimeter of the shape.\n",
        "\n"
      ],
      "metadata": {
        "id": "hCVIhVO_qfDk"
      }
    },
    {
      "cell_type": "code",
      "source": [
        "class Shape:\n",
        "    def __init__(self, length, width=None, height=None):\n",
        "        self.length = length\n",
        "        self.width = width\n",
        "        self.height = height\n",
        "\n",
        "    def calculate_area(self):\n",
        "        if self.width is None:\n",
        "            return self.length\n",
        "        elif self.height is None:\n",
        "            return self.length * self.width\n",
        "        else:\n",
        "            return 2 * (self.length * self.width + self.length * self.height + self.width * self.height)\n",
        "\n",
        "    def calculate_perimeter(self):\n",
        "        if self.width is None:\n",
        "            return 2 * self.length\n",
        "        elif self.height is None:\n",
        "            return 2 * (self.length + self.width)\n",
        "        else:\n",
        "            return 4 * (self.length + self.width + self.height)\n",
        "\n",
        "# Driver Code\n",
        "\n",
        "# Create a line (1D shape)\n",
        "line = Shape(10)\n",
        "print(\"Area of the line:\", line.calculate_area())\n",
        "print(\"Perimeter of the line:\", line.calculate_perimeter())\n",
        "\n",
        "# Create a rectangle (2D shape)\n",
        "rectangle = Shape(5, 10)\n",
        "print(\"Area of the rectangle:\", rectangle.calculate_area())\n",
        "print(\"Perimeter of the rectangle:\", rectangle.calculate_perimeter())\n",
        "\n",
        "# Create a cube (3D shape)\n",
        "cube = Shape(5, 5, 5)\n",
        "print(\"Area of the cube:\", cube.calculate_area())\n",
        "print(\"Perimeter of the cube:\", cube.calculate_perimeter())"
      ],
      "metadata": {
        "colab": {
          "base_uri": "https://localhost:8080/"
        },
        "id": "mThcsg6sqg2P",
        "outputId": "50a9c091-fefd-48c4-fc90-646e0cd10616"
      },
      "execution_count": 25,
      "outputs": [
        {
          "output_type": "stream",
          "name": "stdout",
          "text": [
            "Area of the line: 10\n",
            "Perimeter of the line: 20\n",
            "Area of the rectangle: 50\n",
            "Perimeter of the rectangle: 30\n",
            "Area of the cube: 150\n",
            "Perimeter of the cube: 60\n"
          ]
        }
      ]
    },
    {
      "cell_type": "markdown",
      "source": [
        "Problem 7: Student Management Create a class representing a student with attributes like student ID, name, and grades. Implement methods to calculate the average grade and display student details.\n",
        "\n"
      ],
      "metadata": {
        "id": "QtUXmkH9qhHB"
      }
    },
    {
      "cell_type": "code",
      "source": [
        "class Student:\n",
        "  def __init__(self, student_id, name, grades):\n",
        "    self.student_id = student_id\n",
        "    self.name = name\n",
        "    self.grades = grades\n",
        "\n",
        "  def calculate_average_grade(self):\n",
        "    if self.grades:\n",
        "      return sum(self.grades) / len(self.grades)\n",
        "    else:\n",
        "      return 0\n",
        "\n",
        "  def display_details(self):\n",
        "    print(\"Studen ID:\", self.student_id)\n",
        "    print(\"Name:\", self.name)\n",
        "    print(\"Grades\", self.grades)\n",
        "    print(\"Average Grade:\", self.calculate_average_grade)"
      ],
      "metadata": {
        "id": "q6bEkTJBqim1"
      },
      "execution_count": 28,
      "outputs": []
    },
    {
      "cell_type": "code",
      "source": [
        "student1 = Student(1, \"Abhi\", [98,113,31,423])\n",
        "student1.display_details()"
      ],
      "metadata": {
        "colab": {
          "base_uri": "https://localhost:8080/"
        },
        "id": "0FSe5smrUByq",
        "outputId": "9b14cb19-1f57-4464-df38-6c12d5e4796a"
      },
      "execution_count": 29,
      "outputs": [
        {
          "output_type": "stream",
          "name": "stdout",
          "text": [
            "Studen ID: 1\n",
            "Name: Abhi\n",
            "Grades [98, 113, 31, 423]\n",
            "Average Grade: <bound method Student.calculate_average_grade of <__main__.Student object at 0x7b9a2fcd7cd0>>\n"
          ]
        }
      ]
    },
    {
      "cell_type": "markdown",
      "source": [
        "Problem 8: Email Management Create a class representing an email with attributes like sender, recipient, and subject. Implement methods to send an email and display email details.\n",
        "\n"
      ],
      "metadata": {
        "id": "HpodlBmJqi6M"
      }
    },
    {
      "cell_type": "code",
      "source": [
        "class Email:\n",
        "  def __init__(self, sender, recipient, subject, body):\n",
        "    self.sender = sender\n",
        "    self.recipient = recipient\n",
        "    self.subject = subject\n",
        "    self.body = body\n",
        "\n",
        "  def send_email(self):\n",
        "    print(f\"email sent from: {self.sender}\")\n",
        "    print(f\"email sent from: {self.recipient}\")\n",
        "    print(f\"subject: {self.subject}\")\n",
        "    print(f\"body: {self.body}\")\n",
        "    print(\"Email sent sucessfully.\")\n",
        "\n",
        "  def display_details(self):\n",
        "    print(\"Sender:\", self.sender)\n",
        "    print(\"Recipient:\", self.recipient)\n",
        "    print(\"Subject:\", self.subject)\n",
        "    print(\"Body:\", self.body)\n",
        "\n",
        "# Create an email object\n",
        "email = Email(\"sender@example.com\", \"recipient@example.com\", \"Test Email\", \"This is a test email.\")\n",
        "\n",
        "# Send the email\n",
        "email.send_email()\n",
        "\n",
        "# Display email details\n",
        "email.display_details()"
      ],
      "metadata": {
        "colab": {
          "base_uri": "https://localhost:8080/"
        },
        "id": "bJ6-uhZXqkcg",
        "outputId": "bfb608cf-b243-4486-ce1c-7cd8a0192db9"
      },
      "execution_count": 30,
      "outputs": [
        {
          "output_type": "stream",
          "name": "stdout",
          "text": [
            "email sent from: sender@example.com\n",
            "email sent from: recipient@example.com\n",
            "subject: Test Email\n",
            "body: This is a test email.\n",
            "Email sent sucessfully.\n",
            "Sender: sender@example.com\n",
            "Recipient: recipient@example.com\n",
            "Subject: Test Email\n",
            "Body: This is a test email.\n"
          ]
        }
      ]
    },
    {
      "cell_type": "markdown",
      "source": [
        "Problem 9: Social Media Profile Create a class representing a social media profile with attributes like username and posts. Implement methods to add posts, display posts, and search for posts by keyword.\n",
        "\n"
      ],
      "metadata": {
        "id": "uREEHX00qk0j"
      }
    },
    {
      "cell_type": "code",
      "source": [
        "class Social_Media_Profile:\n",
        "  def __init__(self, username):\n",
        "    self.username = username\n",
        "    self.posts = []\n",
        "\n",
        "  def add_post(self, post):\n",
        "    self.posts.append(post)\n",
        "\n",
        "  def display_post(self):\n",
        "    print(f\"Post by {self.username}:\")\n",
        "    for post in self.posts:\n",
        "      print(post)\n",
        "\n",
        "  def search_posts_by_keywords(self, keyword):\n",
        "    matching_posts = [post for post in self.posts if keyword in post]\n",
        "    if matching_posts:\n",
        "      print(f\"Posts containing '{keyword}':\")\n",
        "      for post in matching_posts:\n",
        "        print(post)\n",
        "    else:\n",
        "      print(f\"no posts containing ''{keyword}' found.\")\n",
        "\n",
        "\n",
        "# Create a social media profile object\n",
        "profile = Social_Media_Profile(\"john_doe\")\n",
        "\n",
        "# Add posts to the profile\n",
        "profile.add_post(\"Hello everyone! This is my first post.\")\n",
        "profile.add_post(\"Excited to share my thoughts on social media.\")\n",
        "profile.add_post(\"Feeling grateful for all the support!\")\n",
        "\n",
        "# Display posts on the profile\n",
        "profile.display_post()\n",
        "\n",
        "\n"
      ],
      "metadata": {
        "colab": {
          "base_uri": "https://localhost:8080/"
        },
        "id": "M9zSiok0qmdD",
        "outputId": "ea014237-e090-467f-9339-81b52182118f"
      },
      "execution_count": 34,
      "outputs": [
        {
          "output_type": "stream",
          "name": "stdout",
          "text": [
            "Post by john_doe:\n",
            "Hello everyone! This is my first post.\n",
            "Excited to share my thoughts on social media.\n",
            "Feeling grateful for all the support!\n"
          ]
        }
      ]
    },
    {
      "cell_type": "markdown",
      "source": [
        "Problem 10: ToDo List Create a class representing a ToDo list with attributes like tasks and due dates. Implement methods to add tasks, mark tasks as completed, and display pending tasks."
      ],
      "metadata": {
        "id": "2ent3MnJqm7_"
      }
    },
    {
      "cell_type": "code",
      "execution_count": 35,
      "metadata": {
        "colab": {
          "base_uri": "https://localhost:8080/"
        },
        "id": "X1pwFK6EqHH1",
        "outputId": "e007aba2-5638-49b5-c20c-8d24df5250aa"
      },
      "outputs": [
        {
          "output_type": "stream",
          "name": "stdout",
          "text": [
            "Pending Tasks:\n",
            "Task: Finish project, Due Date: 2024-03-10\n",
            "Task: Buy groceries, Due Date: 2024-03-12\n",
            "Task: Call mom, Due Date: 2024-03-15\n",
            "Task 'Buy groceries' marked as completed.\n",
            "Pending Tasks:\n",
            "Task: Finish project, Due Date: 2024-03-10\n",
            "Task: Call mom, Due Date: 2024-03-15\n"
          ]
        }
      ],
      "source": [
        "class ToDoList:\n",
        "    def __init__(self):\n",
        "        self.tasks = []\n",
        "\n",
        "    def add_task(self, task, due_date):\n",
        "        self.tasks.append({\"task\": task, \"due_date\": due_date, \"completed\": False})\n",
        "\n",
        "    def mark_task_as_completed(self, task):\n",
        "        for t in self.tasks:\n",
        "            if t[\"task\"] == task:\n",
        "                t[\"completed\"] = True\n",
        "                print(f\"Task '{task}' marked as completed.\")\n",
        "                return\n",
        "        print(f\"Task '{task}' not found in the ToDo list.\")\n",
        "\n",
        "    def display_pending_tasks(self):\n",
        "        pending_tasks = [t for t in self.tasks if not t[\"completed\"]]\n",
        "        if pending_tasks:\n",
        "            print(\"Pending Tasks:\")\n",
        "            for t in pending_tasks:\n",
        "                print(f\"Task: {t['task']}, Due Date: {t['due_date']}\")\n",
        "        else:\n",
        "            print(\"No pending tasks.\")\n",
        "\n",
        "\n",
        "# Usage example:\n",
        "# Create a ToDo list object\n",
        "todo_list = ToDoList()\n",
        "\n",
        "# Add tasks to the ToDo list\n",
        "todo_list.add_task(\"Finish project\", \"2024-03-10\")\n",
        "todo_list.add_task(\"Buy groceries\", \"2024-03-12\")\n",
        "todo_list.add_task(\"Call mom\", \"2024-03-15\")\n",
        "\n",
        "# Display pending tasks\n",
        "todo_list.display_pending_tasks()\n",
        "\n",
        "# Mark a task as completed\n",
        "todo_list.mark_task_as_completed(\"Buy groceries\")\n",
        "\n",
        "# Display pending tasks after marking a task as completed\n",
        "todo_list.display_pending_tasks()\n"
      ]
    },
    {
      "cell_type": "code",
      "source": [],
      "metadata": {
        "id": "cswzPg-Sa7RK"
      },
      "execution_count": null,
      "outputs": []
    }
  ]
}